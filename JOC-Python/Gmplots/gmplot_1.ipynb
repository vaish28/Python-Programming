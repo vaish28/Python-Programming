{
 "cells": [
  {
   "cell_type": "code",
   "execution_count": null,
   "metadata": {
    "colab": {
     "base_uri": "https://localhost:8080/"
    },
    "id": "Oj5Wzhyu4ONQ",
    "outputId": "d5248168-a141-4cc4-c4eb-491fb52f95ab"
   },
   "outputs": [
    {
     "name": "stdout",
     "output_type": "stream",
     "text": [
      "Collecting gmplot\n",
      "\u001b[?25l  Downloading https://files.pythonhosted.org/packages/2f/2f/45399c0a3b75d22a6ece1a1732a1670836cf284de7c1f91379a8d9b666a1/gmplot-1.4.1-py3-none-any.whl (164kB)\n",
      "\r",
      "\u001b[K     |██                              | 10kB 15.0MB/s eta 0:00:01\r",
      "\u001b[K     |████                            | 20kB 14.7MB/s eta 0:00:01\r",
      "\u001b[K     |██████                          | 30kB 16.6MB/s eta 0:00:01\r",
      "\u001b[K     |████████                        | 40kB 19.5MB/s eta 0:00:01\r",
      "\u001b[K     |██████████                      | 51kB 21.2MB/s eta 0:00:01\r",
      "\u001b[K     |████████████                    | 61kB 23.5MB/s eta 0:00:01\r",
      "\u001b[K     |██████████████                  | 71kB 21.3MB/s eta 0:00:01\r",
      "\u001b[K     |████████████████                | 81kB 22.2MB/s eta 0:00:01\r",
      "\u001b[K     |██████████████████              | 92kB 20.9MB/s eta 0:00:01\r",
      "\u001b[K     |████████████████████            | 102kB 21.7MB/s eta 0:00:01\r",
      "\u001b[K     |█████████████████████▉          | 112kB 21.7MB/s eta 0:00:01\r",
      "\u001b[K     |███████████████████████▉        | 122kB 21.7MB/s eta 0:00:01\r",
      "\u001b[K     |█████████████████████████▉      | 133kB 21.7MB/s eta 0:00:01\r",
      "\u001b[K     |███████████████████████████▉    | 143kB 21.7MB/s eta 0:00:01\r",
      "\u001b[K     |█████████████████████████████▉  | 153kB 21.7MB/s eta 0:00:01\r",
      "\u001b[K     |███████████████████████████████▉| 163kB 21.7MB/s eta 0:00:01\r",
      "\u001b[K     |████████████████████████████████| 174kB 21.7MB/s \n",
      "\u001b[?25hRequirement already satisfied: requests in /usr/local/lib/python3.7/dist-packages (from gmplot) (2.23.0)\n",
      "Requirement already satisfied: idna<3,>=2.5 in /usr/local/lib/python3.7/dist-packages (from requests->gmplot) (2.10)\n",
      "Requirement already satisfied: urllib3!=1.25.0,!=1.25.1,<1.26,>=1.21.1 in /usr/local/lib/python3.7/dist-packages (from requests->gmplot) (1.24.3)\n",
      "Requirement already satisfied: chardet<4,>=3.0.2 in /usr/local/lib/python3.7/dist-packages (from requests->gmplot) (3.0.4)\n",
      "Requirement already satisfied: certifi>=2017.4.17 in /usr/local/lib/python3.7/dist-packages (from requests->gmplot) (2020.12.5)\n",
      "Installing collected packages: gmplot\n",
      "Successfully installed gmplot-1.4.1\n"
     ]
    }
   ],
   "source": [
    "!pip install gmplot"
   ]
  },
  {
   "cell_type": "markdown",
   "metadata": {
    "id": "ZXhX_90PBw99"
   },
   "source": [
    "Simple Plot"
   ]
  },
  {
   "cell_type": "code",
   "execution_count": 36,
   "metadata": {
    "id": "yI5mveQB4eDX"
   },
   "outputs": [],
   "source": [
    "#lat long: 18,486703,73.815898 \n",
    "import gmplot\n",
    "# googlemaplotter returns MapObject\n",
    "# Pass the center latitude and longitude\n",
    "\n",
    "latitude_list = [ 17.4567417, 17.5587901, 17.6245545]\n",
    "longitude_list = [ 78.2913637, 78.007699, 77.9266135 ]\n",
    "gmap = gmplot.GoogleMapPlotter(17.438139, 78.3936413, 11)\n",
    "\n",
    "gmap.coloricon = \"http://www.googlemapsmarkers.com/v1/%s/\"\n",
    "\n",
    "gmap.marker(17.438139, 78.3936413,'blue')\n",
    "\n",
    "gmap.draw(\"ex1.html\")"
   ]
  },
  {
   "cell_type": "code",
   "execution_count": 37,
   "metadata": {
    "colab": {
     "base_uri": "https://localhost:8080/"
    },
    "id": "Jtv1whXE41gl",
    "outputId": "59bbd611-be36-4e8d-df4e-0b1e01fff1ac"
   },
   "outputs": [
    {
     "name": "stdout",
     "output_type": "stream",
     "text": [
      "/content\n",
      "country_heatmap.html  ex1.html\tex2.html  ex3.html  ex4.html  sample_data\n"
     ]
    }
   ],
   "source": [
    "import os\n",
    "print(os.getcwd())\n",
    "!ls"
   ]
  },
  {
   "cell_type": "code",
   "execution_count": 38,
   "metadata": {
    "colab": {
     "base_uri": "https://localhost:8080/",
     "height": 17
    },
    "id": "3MXRyGy95Dgo",
    "outputId": "88eff489-f86f-4a7c-9984-704b5f9ea5c1"
   },
   "outputs": [
    {
     "data": {
      "text/html": [
       "<html>\n",
       "<head>\n",
       "<meta name=\"viewport\" content=\"initial-scale=1.0, user-scalable=no\" />\n",
       "<meta http-equiv=\"content-type\" content=\"text/html; charset=UTF-8\" />\n",
       "<title>Google Maps - gmplot</title>\n",
       "<script type=\"text/javascript\" src=\"https://maps.googleapis.com/maps/api/js?libraries=visualization\"></script>\n",
       "<script type=\"text/javascript\">\n",
       "    function initialize() {\n",
       "        var map = new google.maps.Map(document.getElementById(\"map_canvas\"), {\n",
       "            zoom: 11,\n",
       "            center: new google.maps.LatLng(17.438139, 78.393641)\n",
       "        });\n",
       "\n",
       "        var marker_icon_0000FF = {\n",
       "            url: \"data:image/png;base64,iVBORw0KGgoAAAANSUhEUgAAABUAAAAiCAYAAACwaJKDAAAABmJLR0QA/wD/AP+gvaeTAAAB/UlEQVRIia3VMWsUQRgG4GcvJCqopZhITgs7EcVCLMTKwkJTqoj4C4ToT1AbRZSIjWCrRbCL2JigRlJFDCiIpBCSwogYRFGjiXKfxewSOS93l9t7Ydhjdr7n5nZn5jLNsweHsQMV1PAeU3jTova/HMU0gmpwPDibX6uR+k3n41omw1WyGqeDmaAWRF2biXQ/q6XxsmbgCFuChw2gRm0s0ngja8HDbAym2gSLNhWpznA9OIAf3FgnWLSbkeoN/IteYWew0iG6EuyK5KRlAkOcQ287L7NBeqV6Q0VPD5aZ6HCWRZuI5Oip5F/TR7XDWRapSo7eympnlERX6ytYSW2+JDqvsIr9/JbJkuik5KgVPZcZDJZLLKnBSM5q+vGNax2i1yPV66+f/3n6gmfrBCeDDZHqG+dWOiBetAm+DLZGqls7Ge4zECy0ABeL5ziqydFXZBNecywan6VFOxWYxeZWYJH9+M29NcDxkFb7kXbBIrfTz/tVB9aCg4EH6wVhG5a4W4c+CWmB7+0EhTvsq0NPBiY6BeEAglc5+CXyv44zZVCY5VKOjgaWtHjjlWY38zxiPP/4GJ7ie6lp4kTahsvB7sDFsiBsR34mZIFD3UDhExcCf6Qd1zTtPFOY4znpeP/ZLXSRdwXaMu2in/lKOoi7hn7MrwvdRD/k17l2Bv8FssfECaMr+zoAAAAASUVORK5CYII=\",\n",
       "            labelOrigin: new google.maps.Point(10, 11)\n",
       "        };\n",
       "\n",
       "        new google.maps.Marker({\n",
       "            position: new google.maps.LatLng(17.438139, 78.393641),\n",
       "            icon: marker_icon_0000FF,\n",
       "            map: map\n",
       "        });\n",
       "\n",
       "    }\n",
       "</script>\n",
       "</head>\n",
       "<body style=\"margin:0px; padding:0px;\" onload=\"initialize()\">\n",
       "    <div id=\"map_canvas\" style=\"width: 100%; height: 100%;\" />\n",
       "</body>\n",
       "</html>\n"
      ],
      "text/plain": [
       "<IPython.core.display.HTML object>"
      ]
     },
     "execution_count": 38,
     "metadata": {
      "tags": []
     },
     "output_type": "execute_result"
    }
   ],
   "source": [
    "import IPython\n",
    "IPython.display.HTML(open('/content/ex1.html').read())"
   ]
  },
  {
   "cell_type": "code",
   "execution_count": 39,
   "metadata": {
    "colab": {
     "base_uri": "https://localhost:8080/",
     "height": 621
    },
    "id": "s5gV5W5f5I56",
    "outputId": "87897a63-79e6-4a38-cdff-7f82c0e10774"
   },
   "outputs": [
    {
     "data": {
      "text/html": [
       "\n",
       "        <iframe\n",
       "            width=\"900\"\n",
       "            height=\"600\"\n",
       "            src=\"/content/ex1.html\"\n",
       "            frameborder=\"0\"\n",
       "            allowfullscreen\n",
       "        ></iframe>\n",
       "        "
      ],
      "text/plain": [
       "<IPython.lib.display.IFrame at 0x7fe553ac3cd0>"
      ]
     },
     "execution_count": 39,
     "metadata": {
      "tags": []
     },
     "output_type": "execute_result"
    }
   ],
   "source": [
    "from IPython.display import IFrame\n",
    "IFrame(src='/content/ex1.html', width=900, height=600)"
   ]
  },
  {
   "cell_type": "markdown",
   "metadata": {
    "id": "k2cOmI51B0EB"
   },
   "source": [
    "Scatter PLot"
   ]
  },
  {
   "cell_type": "code",
   "execution_count": 40,
   "metadata": {
    "id": "7Pwvp5ZP5OOd"
   },
   "outputs": [],
   "source": [
    "#lat long: 18,486703,73.815898 \n",
    "import gmplot\n",
    "# googlemaplotter returns MapObject\n",
    "# Pass the center latitude and longitude\n",
    "\n",
    "latitude_list = [ 17.4567417, 17.5587901, 17.6245545]\n",
    "longitude_list = [ 78.2913637, 78.007699, 77.9266135 ]\n",
    "gmap = gmplot.GoogleMapPlotter(17.438139, 78.3936413, 11)\n",
    "gmap.scatter( latitude_list, longitude_list, 'blue', size = 40, marker = True)\n",
    "# polygon method Draw a polygon with\n",
    "# the help of coordinates\n",
    "#gmap.polygon(latitude_list, longitude_list, color = 'cornflowerblue')\n",
    "\n",
    "gmap.coloricon = \"http://www.googlemapsmarkers.com/v1/%s/\"\n",
    "\n",
    "gmap.marker(17.438139, 78.3936413,'red')\n",
    "\n",
    "gmap.draw(\"ex2.html\")"
   ]
  },
  {
   "cell_type": "code",
   "execution_count": 41,
   "metadata": {
    "colab": {
     "base_uri": "https://localhost:8080/"
    },
    "id": "m8h9n0am_eHj",
    "outputId": "9923f1a1-016e-4d69-a20a-580886515121"
   },
   "outputs": [
    {
     "name": "stdout",
     "output_type": "stream",
     "text": [
      "/content\n",
      "country_heatmap.html  ex1.html\tex2.html  ex3.html  ex4.html  sample_data\n"
     ]
    }
   ],
   "source": [
    "import os\n",
    "print(os.getcwd())\n",
    "!ls"
   ]
  },
  {
   "cell_type": "code",
   "execution_count": 42,
   "metadata": {
    "colab": {
     "base_uri": "https://localhost:8080/",
     "height": 17
    },
    "id": "qPreM9wc_yXF",
    "outputId": "f21477af-3df4-44eb-f913-0e765f75871e"
   },
   "outputs": [
    {
     "data": {
      "text/html": [
       "<html>\n",
       "<head>\n",
       "<meta name=\"viewport\" content=\"initial-scale=1.0, user-scalable=no\" />\n",
       "<meta http-equiv=\"content-type\" content=\"text/html; charset=UTF-8\" />\n",
       "<title>Google Maps - gmplot</title>\n",
       "<script type=\"text/javascript\" src=\"https://maps.googleapis.com/maps/api/js?libraries=visualization\"></script>\n",
       "<script type=\"text/javascript\">\n",
       "    function initialize() {\n",
       "        var map = new google.maps.Map(document.getElementById(\"map_canvas\"), {\n",
       "            zoom: 11,\n",
       "            center: new google.maps.LatLng(17.438139, 78.393641)\n",
       "        });\n",
       "\n",
       "        var marker_icon_0000FF = {\n",
       "            url: \"data:image/png;base64,iVBORw0KGgoAAAANSUhEUgAAABUAAAAiCAYAAACwaJKDAAAABmJLR0QA/wD/AP+gvaeTAAAB/UlEQVRIia3VMWsUQRgG4GcvJCqopZhITgs7EcVCLMTKwkJTqoj4C4ToT1AbRZSIjWCrRbCL2JigRlJFDCiIpBCSwogYRFGjiXKfxewSOS93l9t7Ydhjdr7n5nZn5jLNsweHsQMV1PAeU3jTova/HMU0gmpwPDibX6uR+k3n41omw1WyGqeDmaAWRF2biXQ/q6XxsmbgCFuChw2gRm0s0ngja8HDbAym2gSLNhWpznA9OIAf3FgnWLSbkeoN/IteYWew0iG6EuyK5KRlAkOcQ287L7NBeqV6Q0VPD5aZ6HCWRZuI5Oip5F/TR7XDWRapSo7eympnlERX6ytYSW2+JDqvsIr9/JbJkuik5KgVPZcZDJZLLKnBSM5q+vGNax2i1yPV66+f/3n6gmfrBCeDDZHqG+dWOiBetAm+DLZGqls7Ge4zECy0ABeL5ziqydFXZBNecywan6VFOxWYxeZWYJH9+M29NcDxkFb7kXbBIrfTz/tVB9aCg4EH6wVhG5a4W4c+CWmB7+0EhTvsq0NPBiY6BeEAglc5+CXyv44zZVCY5VKOjgaWtHjjlWY38zxiPP/4GJ7ie6lp4kTahsvB7sDFsiBsR34mZIFD3UDhExcCf6Qd1zTtPFOY4znpeP/ZLXSRdwXaMu2in/lKOoi7hn7MrwvdRD/k17l2Bv8FssfECaMr+zoAAAAASUVORK5CYII=\",\n",
       "            labelOrigin: new google.maps.Point(10, 11)\n",
       "        };\n",
       "\n",
       "        new google.maps.Marker({\n",
       "            position: new google.maps.LatLng(17.456742, 78.291364),\n",
       "            icon: marker_icon_0000FF,\n",
       "            map: map\n",
       "        });\n",
       "\n",
       "        new google.maps.Marker({\n",
       "            position: new google.maps.LatLng(17.558790, 78.007699),\n",
       "            icon: marker_icon_0000FF,\n",
       "            map: map\n",
       "        });\n",
       "\n",
       "        new google.maps.Marker({\n",
       "            position: new google.maps.LatLng(17.624554, 77.926614),\n",
       "            icon: marker_icon_0000FF,\n",
       "            map: map\n",
       "        });\n",
       "\n",
       "        var marker_icon_FF0000 = {\n",
       "            url: \"data:image/png;base64,iVBORw0KGgoAAAANSUhEUgAAABUAAAAiCAYAAACwaJKDAAAABmJLR0QA/wD/AP+gvaeTAAACBklEQVRIia3VzUtUURgH4GdG/AiyZZShtWgXUbSIFtGqRYtqWRLhXyBYf0K6MaJQ2gRtayHtijYpleHKSCgIcRHoIiOSKEzLKea0OOeqTfPlzPzg5Qwz9zz3nXPvPTeneo7gNA4gjyI+Ygbva8z9L2cxi9BHOE+4msY+gliz6biayWE0R7GfMEcoEkJJzRH6CbnY+WiaVxEc6yY8KQOVq8eE7tj1WCV4qIswUyeY1QyhK8JDpWAP1m7vEMzqTkTXkrOZkYOEQoNogXAowiPE2wQuDqC9nktZJu0YSE72XRs2phrsMqup2OkG2vLpRB19DXaZJc3vQHv294Um0e3z8yigsNQkmuYXUMie5/npJtE0fz55YLiXsNHELdUbV2B4+4n2Y/Vmg+itCK4m558MdhBe7hCcJnRGdLDS0ox3E17XCb4h7IngeLX1zuFhD2G5BriytY4Tqmx9WXbh3Tnl99KsLkdwAbtrgVmO4/eDCuCkzd3/TL1glru9hF8lYJFwMoKPdgrCXqzfL0GfR7CIo42gcO9YCXopolONgnAC4W0Cv9l8dVxpBoWFGwmdiOC6Glc8X+3HlKeT6cOzOLzAjyaaBBc602ZzOHZ6vVkQ9kl7Qi6ip1qBwpdrEfwjPnFVU8+awuKrOC7hZ6vQlQ9baM3Ui379HsfVVqKf07jcSvRTGhfrOfgvIP3ECS77BDoAAAAASUVORK5CYII=\",\n",
       "            labelOrigin: new google.maps.Point(10, 11)\n",
       "        };\n",
       "\n",
       "        new google.maps.Marker({\n",
       "            position: new google.maps.LatLng(17.438139, 78.393641),\n",
       "            icon: marker_icon_FF0000,\n",
       "            map: map\n",
       "        });\n",
       "\n",
       "    }\n",
       "</script>\n",
       "</head>\n",
       "<body style=\"margin:0px; padding:0px;\" onload=\"initialize()\">\n",
       "    <div id=\"map_canvas\" style=\"width: 100%; height: 100%;\" />\n",
       "</body>\n",
       "</html>\n"
      ],
      "text/plain": [
       "<IPython.core.display.HTML object>"
      ]
     },
     "execution_count": 42,
     "metadata": {
      "tags": []
     },
     "output_type": "execute_result"
    }
   ],
   "source": [
    "import IPython\n",
    "IPython.display.HTML(open('/content/ex2.html').read())"
   ]
  },
  {
   "cell_type": "code",
   "execution_count": 43,
   "metadata": {
    "colab": {
     "base_uri": "https://localhost:8080/",
     "height": 621
    },
    "id": "DTMwr5NB_1jM",
    "outputId": "bc6470d2-c057-4de2-a8e1-a672588def5b"
   },
   "outputs": [
    {
     "data": {
      "text/html": [
       "\n",
       "        <iframe\n",
       "            width=\"900\"\n",
       "            height=\"600\"\n",
       "            src=\"/content/ex2.html\"\n",
       "            frameborder=\"0\"\n",
       "            allowfullscreen\n",
       "        ></iframe>\n",
       "        "
      ],
      "text/plain": [
       "<IPython.lib.display.IFrame at 0x7fe55325e1d0>"
      ]
     },
     "execution_count": 43,
     "metadata": {
      "tags": []
     },
     "output_type": "execute_result"
    }
   ],
   "source": [
    "from IPython.display import IFrame\n",
    "IFrame(src='/content/ex2.html', width=900, height=600)"
   ]
  },
  {
   "cell_type": "markdown",
   "metadata": {
    "id": "LUKOqkgyB2MH"
   },
   "source": [
    "Drawing a polygon on google map"
   ]
  },
  {
   "cell_type": "code",
   "execution_count": 45,
   "metadata": {
    "id": "IuK1ahcO_7R2"
   },
   "outputs": [],
   "source": [
    "#lat long: 18,486703,73.815898 \n",
    "import gmplot\n",
    "# googlemaplotter returns MapObject\n",
    "# Pass the center latitude and longitude\n",
    "\n",
    "latitude_list = [ 17.4567417, 17.5587901, 17.6245545]\n",
    "longitude_list = [ 78.2913637, 78.007699, 77.9266135 ]\n",
    "gmap = gmplot.GoogleMapPlotter(17.438139, 78.3936413, 11)\n",
    "gmap.scatter( latitude_list, longitude_list, 'blue', size = 40, marker = True)\n",
    "# polygon method Draw a polygon with\n",
    "# the help of coordinates\n",
    "gmap.polygon(latitude_list, longitude_list, color = 'green')\n",
    "\n",
    "gmap.coloricon = \"http://www.googlemapsmarkers.com/v1/%s/\"\n",
    "\n",
    "gmap.marker(17.438139, 78.3936413,'red')\n",
    "\n",
    "gmap.draw(\"ex3.html\")"
   ]
  },
  {
   "cell_type": "code",
   "execution_count": 46,
   "metadata": {
    "colab": {
     "base_uri": "https://localhost:8080/"
    },
    "id": "fPnXGnnbAq4L",
    "outputId": "225e8145-6ee0-4c36-deb5-b52ea68d58e4"
   },
   "outputs": [
    {
     "name": "stdout",
     "output_type": "stream",
     "text": [
      "/content\n",
      "country_heatmap.html  ex1.html\tex2.html  ex3.html  ex4.html  sample_data\n"
     ]
    }
   ],
   "source": [
    "import os\n",
    "print(os.getcwd())\n",
    "!ls"
   ]
  },
  {
   "cell_type": "code",
   "execution_count": 47,
   "metadata": {
    "colab": {
     "base_uri": "https://localhost:8080/",
     "height": 17
    },
    "id": "rM0ld7W4Auye",
    "outputId": "a6f96174-1efc-4f37-d335-f535e47e44a8"
   },
   "outputs": [
    {
     "data": {
      "text/html": [
       "<html>\n",
       "<head>\n",
       "<meta name=\"viewport\" content=\"initial-scale=1.0, user-scalable=no\" />\n",
       "<meta http-equiv=\"content-type\" content=\"text/html; charset=UTF-8\" />\n",
       "<title>Google Maps - gmplot</title>\n",
       "<script type=\"text/javascript\" src=\"https://maps.googleapis.com/maps/api/js?libraries=visualization\"></script>\n",
       "<script type=\"text/javascript\">\n",
       "    function initialize() {\n",
       "        var map = new google.maps.Map(document.getElementById(\"map_canvas\"), {\n",
       "            zoom: 11,\n",
       "            center: new google.maps.LatLng(17.438139, 78.393641)\n",
       "        });\n",
       "\n",
       "        var marker_icon_0000FF = {\n",
       "            url: \"data:image/png;base64,iVBORw0KGgoAAAANSUhEUgAAABUAAAAiCAYAAACwaJKDAAAABmJLR0QA/wD/AP+gvaeTAAAB/UlEQVRIia3VMWsUQRgG4GcvJCqopZhITgs7EcVCLMTKwkJTqoj4C4ToT1AbRZSIjWCrRbCL2JigRlJFDCiIpBCSwogYRFGjiXKfxewSOS93l9t7Ydhjdr7n5nZn5jLNsweHsQMV1PAeU3jTova/HMU0gmpwPDibX6uR+k3n41omw1WyGqeDmaAWRF2biXQ/q6XxsmbgCFuChw2gRm0s0ngja8HDbAym2gSLNhWpznA9OIAf3FgnWLSbkeoN/IteYWew0iG6EuyK5KRlAkOcQ287L7NBeqV6Q0VPD5aZ6HCWRZuI5Oip5F/TR7XDWRapSo7eympnlERX6ytYSW2+JDqvsIr9/JbJkuik5KgVPZcZDJZLLKnBSM5q+vGNax2i1yPV66+f/3n6gmfrBCeDDZHqG+dWOiBetAm+DLZGqls7Ge4zECy0ABeL5ziqydFXZBNecywan6VFOxWYxeZWYJH9+M29NcDxkFb7kXbBIrfTz/tVB9aCg4EH6wVhG5a4W4c+CWmB7+0EhTvsq0NPBiY6BeEAglc5+CXyv44zZVCY5VKOjgaWtHjjlWY38zxiPP/4GJ7ie6lp4kTahsvB7sDFsiBsR34mZIFD3UDhExcCf6Qd1zTtPFOY4znpeP/ZLXSRdwXaMu2in/lKOoi7hn7MrwvdRD/k17l2Bv8FssfECaMr+zoAAAAASUVORK5CYII=\",\n",
       "            labelOrigin: new google.maps.Point(10, 11)\n",
       "        };\n",
       "\n",
       "        new google.maps.Marker({\n",
       "            position: new google.maps.LatLng(17.456742, 78.291364),\n",
       "            icon: marker_icon_0000FF,\n",
       "            map: map\n",
       "        });\n",
       "\n",
       "        new google.maps.Marker({\n",
       "            position: new google.maps.LatLng(17.558790, 78.007699),\n",
       "            icon: marker_icon_0000FF,\n",
       "            map: map\n",
       "        });\n",
       "\n",
       "        new google.maps.Marker({\n",
       "            position: new google.maps.LatLng(17.624554, 77.926614),\n",
       "            icon: marker_icon_0000FF,\n",
       "            map: map\n",
       "        });\n",
       "\n",
       "        var marker_icon_FF0000 = {\n",
       "            url: \"data:image/png;base64,iVBORw0KGgoAAAANSUhEUgAAABUAAAAiCAYAAACwaJKDAAAABmJLR0QA/wD/AP+gvaeTAAACBklEQVRIia3VzUtUURgH4GdG/AiyZZShtWgXUbSIFtGqRYtqWRLhXyBYf0K6MaJQ2gRtayHtijYpleHKSCgIcRHoIiOSKEzLKea0OOeqTfPlzPzg5Qwz9zz3nXPvPTeneo7gNA4gjyI+Ygbva8z9L2cxi9BHOE+4msY+gliz6biayWE0R7GfMEcoEkJJzRH6CbnY+WiaVxEc6yY8KQOVq8eE7tj1WCV4qIswUyeY1QyhK8JDpWAP1m7vEMzqTkTXkrOZkYOEQoNogXAowiPE2wQuDqC9nktZJu0YSE72XRs2phrsMqup2OkG2vLpRB19DXaZJc3vQHv294Um0e3z8yigsNQkmuYXUMie5/npJtE0fz55YLiXsNHELdUbV2B4+4n2Y/Vmg+itCK4m558MdhBe7hCcJnRGdLDS0ox3E17XCb4h7IngeLX1zuFhD2G5BriytY4Tqmx9WXbh3Tnl99KsLkdwAbtrgVmO4/eDCuCkzd3/TL1glru9hF8lYJFwMoKPdgrCXqzfL0GfR7CIo42gcO9YCXopolONgnAC4W0Cv9l8dVxpBoWFGwmdiOC6Glc8X+3HlKeT6cOzOLzAjyaaBBc602ZzOHZ6vVkQ9kl7Qi6ip1qBwpdrEfwjPnFVU8+awuKrOC7hZ6vQlQ9baM3Ui379HsfVVqKf07jcSvRTGhfrOfgvIP3ECS77BDoAAAAASUVORK5CYII=\",\n",
       "            labelOrigin: new google.maps.Point(10, 11)\n",
       "        };\n",
       "\n",
       "        new google.maps.Marker({\n",
       "            position: new google.maps.LatLng(17.438139, 78.393641),\n",
       "            icon: marker_icon_FF0000,\n",
       "            map: map\n",
       "        });\n",
       "\n",
       "        new google.maps.Polygon({\n",
       "            clickable: false,\n",
       "            geodesic: true,\n",
       "            fillColor: \"#008000\",\n",
       "            fillOpacity: 0.300000,\n",
       "            strokeColor: \"#008000\",\n",
       "            strokeOpacity: 1.000000,\n",
       "            strokeWeight: 1,\n",
       "            map: map,\n",
       "            paths: [\n",
       "                new google.maps.LatLng(17.456742, 78.291364),\n",
       "                new google.maps.LatLng(17.558790, 78.007699),\n",
       "                new google.maps.LatLng(17.624554, 77.926614),\n",
       "            ]\n",
       "        });\n",
       "\n",
       "    }\n",
       "</script>\n",
       "</head>\n",
       "<body style=\"margin:0px; padding:0px;\" onload=\"initialize()\">\n",
       "    <div id=\"map_canvas\" style=\"width: 100%; height: 100%;\" />\n",
       "</body>\n",
       "</html>\n"
      ],
      "text/plain": [
       "<IPython.core.display.HTML object>"
      ]
     },
     "execution_count": 47,
     "metadata": {
      "tags": []
     },
     "output_type": "execute_result"
    }
   ],
   "source": [
    "import IPython\n",
    "IPython.display.HTML(open('/content/ex3.html').read())"
   ]
  },
  {
   "cell_type": "code",
   "execution_count": 48,
   "metadata": {
    "colab": {
     "base_uri": "https://localhost:8080/",
     "height": 621
    },
    "id": "zucVSuetAxJr",
    "outputId": "3477e9ae-9871-43b4-a6df-8e2490d842a0"
   },
   "outputs": [
    {
     "data": {
      "text/html": [
       "\n",
       "        <iframe\n",
       "            width=\"900\"\n",
       "            height=\"600\"\n",
       "            src=\"/content/ex3.html\"\n",
       "            frameborder=\"0\"\n",
       "            allowfullscreen\n",
       "        ></iframe>\n",
       "        "
      ],
      "text/plain": [
       "<IPython.lib.display.IFrame at 0x7fe553253890>"
      ]
     },
     "execution_count": 48,
     "metadata": {
      "tags": []
     },
     "output_type": "execute_result"
    }
   ],
   "source": [
    "from IPython.display import IFrame\n",
    "IFrame(src='/content/ex3.html', width=900, height=600)"
   ]
  },
  {
   "cell_type": "markdown",
   "metadata": {
    "id": "qzjSTO9HB66A"
   },
   "source": [
    "Scatter points on google map and draw a line in between given coordinates."
   ]
  },
  {
   "cell_type": "code",
   "execution_count": 49,
   "metadata": {
    "id": "t2KLOtMLAz-5"
   },
   "outputs": [],
   "source": [
    "# import gmplot package\n",
    "import gmplot\n",
    "#Set different latitude and longitude points\n",
    "Charminar_top_attraction_lats, Charminar_top_attraction_lons = zip(*[\n",
    "   (17.3833, 78.4011),(17.4239, 78.4738),(17.3713, 78.4804),(17.3616, 78.4747),\n",
    "   (17.3578, 78.4717),(17.3604, 78.4736),(17.2543, 78.6808),(17.4062, 78.4691),\n",
    "   (17.3950, 78.3968),(17.3587, 78.2988),(17.4156, 78.4750)])\n",
    "#declare the center of the map, and how much we want the map zoomed in\n",
    "gmap3 = gmplot.GoogleMapPlotter(17.3616, 78.4747, 13)\n",
    "# Scatter map\n",
    "gmap3.scatter( Charminar_top_attraction_lats, Charminar_top_attraction_lons, '#FF0000',size = 50, marker = True)\n",
    "# Plot method Draw a line in between given coordinates\n",
    "gmap3.plot(Charminar_top_attraction_lats, Charminar_top_attraction_lons, 'cornflowerblue', edge_width = 3.0)\n",
    "\n",
    "gmap3.draw(\"ex4.html\")"
   ]
  },
  {
   "cell_type": "code",
   "execution_count": 50,
   "metadata": {
    "colab": {
     "base_uri": "https://localhost:8080/"
    },
    "id": "kYz8Y7MDCcFh",
    "outputId": "6145288b-5d53-4c47-d00d-ec4814b73e05"
   },
   "outputs": [
    {
     "name": "stdout",
     "output_type": "stream",
     "text": [
      "/content\n",
      "country_heatmap.html  ex1.html\tex2.html  ex3.html  ex4.html  sample_data\n"
     ]
    }
   ],
   "source": [
    "import os\n",
    "print(os.getcwd())\n",
    "!ls"
   ]
  },
  {
   "cell_type": "code",
   "execution_count": 51,
   "metadata": {
    "colab": {
     "base_uri": "https://localhost:8080/",
     "height": 17
    },
    "id": "76LxMwfiCdc6",
    "outputId": "bbcddb28-9f69-44d6-d662-2cf5cb27b169"
   },
   "outputs": [
    {
     "data": {
      "text/html": [
       "<html>\n",
       "<head>\n",
       "<meta name=\"viewport\" content=\"initial-scale=1.0, user-scalable=no\" />\n",
       "<meta http-equiv=\"content-type\" content=\"text/html; charset=UTF-8\" />\n",
       "<title>Google Maps - gmplot</title>\n",
       "<script type=\"text/javascript\" src=\"https://maps.googleapis.com/maps/api/js?libraries=visualization\"></script>\n",
       "<script type=\"text/javascript\">\n",
       "    function initialize() {\n",
       "        var map = new google.maps.Map(document.getElementById(\"map_canvas\"), {\n",
       "            zoom: 13,\n",
       "            center: new google.maps.LatLng(17.361600, 78.474700)\n",
       "        });\n",
       "\n",
       "        var marker_icon_FF0000 = {\n",
       "            url: \"data:image/png;base64,iVBORw0KGgoAAAANSUhEUgAAABUAAAAiCAYAAACwaJKDAAAABmJLR0QA/wD/AP+gvaeTAAACBklEQVRIia3VzUtUURgH4GdG/AiyZZShtWgXUbSIFtGqRYtqWRLhXyBYf0K6MaJQ2gRtayHtijYpleHKSCgIcRHoIiOSKEzLKea0OOeqTfPlzPzg5Qwz9zz3nXPvPTeneo7gNA4gjyI+Ygbva8z9L2cxi9BHOE+4msY+gliz6biayWE0R7GfMEcoEkJJzRH6CbnY+WiaVxEc6yY8KQOVq8eE7tj1WCV4qIswUyeY1QyhK8JDpWAP1m7vEMzqTkTXkrOZkYOEQoNogXAowiPE2wQuDqC9nktZJu0YSE72XRs2phrsMqup2OkG2vLpRB19DXaZJc3vQHv294Um0e3z8yigsNQkmuYXUMie5/npJtE0fz55YLiXsNHELdUbV2B4+4n2Y/Vmg+itCK4m558MdhBe7hCcJnRGdLDS0ox3E17XCb4h7IngeLX1zuFhD2G5BriytY4Tqmx9WXbh3Tnl99KsLkdwAbtrgVmO4/eDCuCkzd3/TL1glru9hF8lYJFwMoKPdgrCXqzfL0GfR7CIo42gcO9YCXopolONgnAC4W0Cv9l8dVxpBoWFGwmdiOC6Glc8X+3HlKeT6cOzOLzAjyaaBBc602ZzOHZ6vVkQ9kl7Qi6ip1qBwpdrEfwjPnFVU8+awuKrOC7hZ6vQlQ9baM3Ui379HsfVVqKf07jcSvRTGhfrOfgvIP3ECS77BDoAAAAASUVORK5CYII=\",\n",
       "            labelOrigin: new google.maps.Point(10, 11)\n",
       "        };\n",
       "\n",
       "        new google.maps.Marker({\n",
       "            position: new google.maps.LatLng(17.383300, 78.401100),\n",
       "            icon: marker_icon_FF0000,\n",
       "            map: map\n",
       "        });\n",
       "\n",
       "        new google.maps.Marker({\n",
       "            position: new google.maps.LatLng(17.423900, 78.473800),\n",
       "            icon: marker_icon_FF0000,\n",
       "            map: map\n",
       "        });\n",
       "\n",
       "        new google.maps.Marker({\n",
       "            position: new google.maps.LatLng(17.371300, 78.480400),\n",
       "            icon: marker_icon_FF0000,\n",
       "            map: map\n",
       "        });\n",
       "\n",
       "        new google.maps.Marker({\n",
       "            position: new google.maps.LatLng(17.361600, 78.474700),\n",
       "            icon: marker_icon_FF0000,\n",
       "            map: map\n",
       "        });\n",
       "\n",
       "        new google.maps.Marker({\n",
       "            position: new google.maps.LatLng(17.357800, 78.471700),\n",
       "            icon: marker_icon_FF0000,\n",
       "            map: map\n",
       "        });\n",
       "\n",
       "        new google.maps.Marker({\n",
       "            position: new google.maps.LatLng(17.360400, 78.473600),\n",
       "            icon: marker_icon_FF0000,\n",
       "            map: map\n",
       "        });\n",
       "\n",
       "        new google.maps.Marker({\n",
       "            position: new google.maps.LatLng(17.254300, 78.680800),\n",
       "            icon: marker_icon_FF0000,\n",
       "            map: map\n",
       "        });\n",
       "\n",
       "        new google.maps.Marker({\n",
       "            position: new google.maps.LatLng(17.406200, 78.469100),\n",
       "            icon: marker_icon_FF0000,\n",
       "            map: map\n",
       "        });\n",
       "\n",
       "        new google.maps.Marker({\n",
       "            position: new google.maps.LatLng(17.395000, 78.396800),\n",
       "            icon: marker_icon_FF0000,\n",
       "            map: map\n",
       "        });\n",
       "\n",
       "        new google.maps.Marker({\n",
       "            position: new google.maps.LatLng(17.358700, 78.298800),\n",
       "            icon: marker_icon_FF0000,\n",
       "            map: map\n",
       "        });\n",
       "\n",
       "        new google.maps.Marker({\n",
       "            position: new google.maps.LatLng(17.415600, 78.475000),\n",
       "            icon: marker_icon_FF0000,\n",
       "            map: map\n",
       "        });\n",
       "\n",
       "        new google.maps.Polyline({\n",
       "            clickable: false,\n",
       "            geodesic: true,\n",
       "            strokeColor: \"#6495ED\",\n",
       "            strokeOpacity: 1.000000,\n",
       "            strokeWeight: 3,\n",
       "            map: map,\n",
       "            path: [\n",
       "                new google.maps.LatLng(17.383300, 78.401100),\n",
       "                new google.maps.LatLng(17.423900, 78.473800),\n",
       "                new google.maps.LatLng(17.371300, 78.480400),\n",
       "                new google.maps.LatLng(17.361600, 78.474700),\n",
       "                new google.maps.LatLng(17.357800, 78.471700),\n",
       "                new google.maps.LatLng(17.360400, 78.473600),\n",
       "                new google.maps.LatLng(17.254300, 78.680800),\n",
       "                new google.maps.LatLng(17.406200, 78.469100),\n",
       "                new google.maps.LatLng(17.395000, 78.396800),\n",
       "                new google.maps.LatLng(17.358700, 78.298800),\n",
       "                new google.maps.LatLng(17.415600, 78.475000),\n",
       "            ]\n",
       "        });\n",
       "\n",
       "    }\n",
       "</script>\n",
       "</head>\n",
       "<body style=\"margin:0px; padding:0px;\" onload=\"initialize()\">\n",
       "    <div id=\"map_canvas\" style=\"width: 100%; height: 100%;\" />\n",
       "</body>\n",
       "</html>\n"
      ],
      "text/plain": [
       "<IPython.core.display.HTML object>"
      ]
     },
     "execution_count": 51,
     "metadata": {
      "tags": []
     },
     "output_type": "execute_result"
    }
   ],
   "source": [
    "import IPython\n",
    "IPython.display.HTML(open('/content/ex4.html').read())"
   ]
  },
  {
   "cell_type": "code",
   "execution_count": 52,
   "metadata": {
    "colab": {
     "base_uri": "https://localhost:8080/",
     "height": 621
    },
    "id": "26K7D6CsCftO",
    "outputId": "ee5a46d9-dcfd-4809-84d8-e0f88dd413ef"
   },
   "outputs": [
    {
     "data": {
      "text/html": [
       "\n",
       "        <iframe\n",
       "            width=\"900\"\n",
       "            height=\"600\"\n",
       "            src=\"/content/ex4.html\"\n",
       "            frameborder=\"0\"\n",
       "            allowfullscreen\n",
       "        ></iframe>\n",
       "        "
      ],
      "text/plain": [
       "<IPython.lib.display.IFrame at 0x7fe553ad8050>"
      ]
     },
     "execution_count": 52,
     "metadata": {
      "tags": []
     },
     "output_type": "execute_result"
    }
   ],
   "source": [
    "from IPython.display import IFrame\n",
    "IFrame(src='/content/ex4.html', width=900, height=600)"
   ]
  },
  {
   "cell_type": "code",
   "execution_count": 32,
   "metadata": {
    "id": "8csByKhLCvAQ"
   },
   "outputs": [],
   "source": [
    "#Import important libraries\n",
    "import gmplot\n",
    "import numpy as np\n",
    "# generate 700 random lats and lons\n",
    "latitude = (np.random.random_sample(size = 700) - 0.5) * 180\n",
    "longitude = (np.random.random_sample(size = 700) - 0.5) * 360\n",
    "# declare the center of the map, and how much we want the map zoomed in\n",
    "gmap = gmplot.GoogleMapPlotter(0, 0, 2)\n",
    "# plot heatmap\n",
    "gmap.heatmap(latitude, longitude)\n",
    "#gmap.scatter(latitude, longitude, c='r', marker=True)\n",
    "# save it to html\n",
    "gmap.draw(\"country_heatmap.html\")"
   ]
  },
  {
   "cell_type": "code",
   "execution_count": 33,
   "metadata": {
    "colab": {
     "base_uri": "https://localhost:8080/"
    },
    "id": "LRR74pdQFQ6-",
    "outputId": "a6ccafc4-289d-4c64-d4bf-97f2684859e3"
   },
   "outputs": [
    {
     "name": "stdout",
     "output_type": "stream",
     "text": [
      "/content\n",
      "country_heatmap.html  ex1.html\tex2.html  ex3.html  ex4.html  sample_data\n"
     ]
    }
   ],
   "source": [
    "import os\n",
    "print(os.getcwd())\n",
    "!ls"
   ]
  },
  {
   "cell_type": "code",
   "execution_count": 34,
   "metadata": {
    "colab": {
     "base_uri": "https://localhost:8080/",
     "height": 17
    },
    "id": "1vZvmgH5FT9y",
    "outputId": "a1d4bcb1-1ce4-42df-d57d-db18239256a1"
   },
   "outputs": [
    {
     "data": {
      "text/html": [
       "<html>\n",
       "<head>\n",
       "<meta name=\"viewport\" content=\"initial-scale=1.0, user-scalable=no\" />\n",
       "<meta http-equiv=\"content-type\" content=\"text/html; charset=UTF-8\" />\n",
       "<title>Google Maps - gmplot</title>\n",
       "<script type=\"text/javascript\" src=\"https://maps.googleapis.com/maps/api/js?libraries=visualization\"></script>\n",
       "<script type=\"text/javascript\">\n",
       "    function initialize() {\n",
       "        var map = new google.maps.Map(document.getElementById(\"map_canvas\"), {\n",
       "            zoom: 2,\n",
       "            center: new google.maps.LatLng(0.000000, 0.000000)\n",
       "        });\n",
       "\n",
       "        new google.maps.visualization.HeatmapLayer({\n",
       "            threshold: 10,\n",
       "            radius: 10,\n",
       "            maxIntensity: 1,\n",
       "            opacity: 0.600000,\n",
       "            dissipating: true,\n",
       "            map: map,\n",
       "            data: [\n",
       "                new google.maps.LatLng(-38.605129, -95.056910),\n",
       "                new google.maps.LatLng(-39.369943, -166.314883),\n",
       "                new google.maps.LatLng(-23.558053, 87.949766),\n",
       "                new google.maps.LatLng(-8.953603, -140.207041),\n",
       "                new google.maps.LatLng(51.969138, -17.651325),\n",
       "                new google.maps.LatLng(57.113222, 150.885677),\n",
       "                new google.maps.LatLng(-45.401867, 117.341312),\n",
       "                new google.maps.LatLng(40.977487, -177.838053),\n",
       "                new google.maps.LatLng(89.157692, 83.245638),\n",
       "                new google.maps.LatLng(-48.699945, -48.503871),\n",
       "                new google.maps.LatLng(-80.095639, 125.265284),\n",
       "                new google.maps.LatLng(49.100255, -110.257256),\n",
       "                new google.maps.LatLng(23.833843, -50.738141),\n",
       "                new google.maps.LatLng(89.867047, -137.923278),\n",
       "                new google.maps.LatLng(65.314331, 33.292869),\n",
       "                new google.maps.LatLng(-82.491172, -130.846729),\n",
       "                new google.maps.LatLng(44.685670, -50.158481),\n",
       "                new google.maps.LatLng(-86.106160, 63.789665),\n",
       "                new google.maps.LatLng(-50.868040, 20.434198),\n",
       "                new google.maps.LatLng(-89.604887, -173.034164),\n",
       "                new google.maps.LatLng(-81.848310, 138.733187),\n",
       "                new google.maps.LatLng(52.388940, -148.662747),\n",
       "                new google.maps.LatLng(-27.747534, -34.971129),\n",
       "                new google.maps.LatLng(18.663593, -178.677251),\n",
       "                new google.maps.LatLng(30.214846, -20.348035),\n",
       "                new google.maps.LatLng(-12.590607, -85.083142),\n",
       "                new google.maps.LatLng(50.840617, -145.763550),\n",
       "                new google.maps.LatLng(38.452468, -99.242592),\n",
       "                new google.maps.LatLng(69.939329, -93.434509),\n",
       "                new google.maps.LatLng(50.249691, -56.143802),\n",
       "                new google.maps.LatLng(76.564770, -36.038728),\n",
       "                new google.maps.LatLng(-86.256215, 10.758243),\n",
       "                new google.maps.LatLng(34.584480, -108.087638),\n",
       "                new google.maps.LatLng(16.252892, 8.344470),\n",
       "                new google.maps.LatLng(-58.242321, 123.782145),\n",
       "                new google.maps.LatLng(-5.547393, 178.338958),\n",
       "                new google.maps.LatLng(44.071955, -70.437423),\n",
       "                new google.maps.LatLng(-81.467122, 71.051097),\n",
       "                new google.maps.LatLng(0.714336, 18.097602),\n",
       "                new google.maps.LatLng(-13.742485, 32.132088),\n",
       "                new google.maps.LatLng(-34.338495, 159.975844),\n",
       "                new google.maps.LatLng(-63.844807, 63.051749),\n",
       "                new google.maps.LatLng(-2.327132, -169.204496),\n",
       "                new google.maps.LatLng(80.874873, -121.389917),\n",
       "                new google.maps.LatLng(33.913747, 46.320158),\n",
       "                new google.maps.LatLng(-52.135344, 47.476116),\n",
       "                new google.maps.LatLng(-66.421694, 171.712716),\n",
       "                new google.maps.LatLng(84.220454, -1.687319),\n",
       "                new google.maps.LatLng(-44.460604, 173.273463),\n",
       "                new google.maps.LatLng(77.024332, -62.678404),\n",
       "                new google.maps.LatLng(-80.506394, 102.065686),\n",
       "                new google.maps.LatLng(-87.099983, 71.067991),\n",
       "                new google.maps.LatLng(-45.745908, 22.106672),\n",
       "                new google.maps.LatLng(87.039135, 14.826260),\n",
       "                new google.maps.LatLng(-43.239384, -161.303320),\n",
       "                new google.maps.LatLng(65.623987, -17.135074),\n",
       "                new google.maps.LatLng(-55.074559, -178.315092),\n",
       "                new google.maps.LatLng(-84.290823, -174.663282),\n",
       "                new google.maps.LatLng(83.507723, -131.382356),\n",
       "                new google.maps.LatLng(31.085522, 165.444998),\n",
       "                new google.maps.LatLng(62.060193, -21.349106),\n",
       "                new google.maps.LatLng(-78.009242, -49.514743),\n",
       "                new google.maps.LatLng(-24.534015, -23.450307),\n",
       "                new google.maps.LatLng(60.063650, 114.456200),\n",
       "                new google.maps.LatLng(-38.290695, 117.357137),\n",
       "                new google.maps.LatLng(-6.467816, 4.580432),\n",
       "                new google.maps.LatLng(-60.251140, 114.833892),\n",
       "                new google.maps.LatLng(-70.068771, -173.073804),\n",
       "                new google.maps.LatLng(-47.916361, -97.145638),\n",
       "                new google.maps.LatLng(-52.642176, 112.130879),\n",
       "                new google.maps.LatLng(-21.004569, 141.889138),\n",
       "                new google.maps.LatLng(51.014130, 147.864127),\n",
       "                new google.maps.LatLng(-33.557857, 126.333846),\n",
       "                new google.maps.LatLng(18.810335, -15.869705),\n",
       "                new google.maps.LatLng(80.064512, -60.410552),\n",
       "                new google.maps.LatLng(-25.505576, 116.257867),\n",
       "                new google.maps.LatLng(89.834386, 30.149082),\n",
       "                new google.maps.LatLng(-81.102338, 138.625901),\n",
       "                new google.maps.LatLng(-39.857118, 6.497928),\n",
       "                new google.maps.LatLng(-76.584805, 97.651081),\n",
       "                new google.maps.LatLng(-37.087954, 13.185828),\n",
       "                new google.maps.LatLng(-89.530803, -139.992768),\n",
       "                new google.maps.LatLng(-61.781302, 28.946083),\n",
       "                new google.maps.LatLng(60.250786, 36.103429),\n",
       "                new google.maps.LatLng(3.389029, 143.732357),\n",
       "                new google.maps.LatLng(-23.011583, 74.273544),\n",
       "                new google.maps.LatLng(-26.114704, 74.671345),\n",
       "                new google.maps.LatLng(-74.123584, 155.137181),\n",
       "                new google.maps.LatLng(25.478395, -52.991617),\n",
       "                new google.maps.LatLng(48.430185, 170.970180),\n",
       "                new google.maps.LatLng(-74.370847, 173.382112),\n",
       "                new google.maps.LatLng(20.187214, -147.042466),\n",
       "                new google.maps.LatLng(-5.333076, 148.003616),\n",
       "                new google.maps.LatLng(66.380444, -152.452504),\n",
       "                new google.maps.LatLng(24.332391, 14.395832),\n",
       "                new google.maps.LatLng(87.914555, -13.116563),\n",
       "                new google.maps.LatLng(31.715544, -72.505164),\n",
       "                new google.maps.LatLng(10.492376, 121.995347),\n",
       "                new google.maps.LatLng(17.769581, -22.176465),\n",
       "                new google.maps.LatLng(13.754359, 66.204234),\n",
       "                new google.maps.LatLng(-1.428435, 107.718828),\n",
       "                new google.maps.LatLng(-7.785141, -126.459513),\n",
       "                new google.maps.LatLng(51.787255, -81.959181),\n",
       "                new google.maps.LatLng(-38.144282, -104.097636),\n",
       "                new google.maps.LatLng(66.267751, 19.398761),\n",
       "                new google.maps.LatLng(-30.178884, -82.333409),\n",
       "                new google.maps.LatLng(15.727156, 13.536001),\n",
       "                new google.maps.LatLng(68.381243, -43.572271),\n",
       "                new google.maps.LatLng(-11.379770, -110.352390),\n",
       "                new google.maps.LatLng(60.182894, 40.154504),\n",
       "                new google.maps.LatLng(-75.811689, 25.779234),\n",
       "                new google.maps.LatLng(75.797332, 112.456421),\n",
       "                new google.maps.LatLng(85.237880, -8.015140),\n",
       "                new google.maps.LatLng(13.085931, -168.974499),\n",
       "                new google.maps.LatLng(-27.058404, -85.855275),\n",
       "                new google.maps.LatLng(74.073553, -152.464678),\n",
       "                new google.maps.LatLng(17.615229, 77.528961),\n",
       "                new google.maps.LatLng(-54.189557, -139.860250),\n",
       "                new google.maps.LatLng(-8.142321, -174.890147),\n",
       "                new google.maps.LatLng(62.596109, 84.341347),\n",
       "                new google.maps.LatLng(16.629579, -52.208244),\n",
       "                new google.maps.LatLng(-30.482902, 142.202846),\n",
       "                new google.maps.LatLng(37.501183, -177.678908),\n",
       "                new google.maps.LatLng(3.307668, -170.789788),\n",
       "                new google.maps.LatLng(17.789110, 1.084192),\n",
       "                new google.maps.LatLng(59.304000, -121.383781),\n",
       "                new google.maps.LatLng(31.702158, -66.900440),\n",
       "                new google.maps.LatLng(60.353938, -63.472513),\n",
       "                new google.maps.LatLng(66.633004, 76.929621),\n",
       "                new google.maps.LatLng(-64.327159, 136.354985),\n",
       "                new google.maps.LatLng(-51.007961, -73.703131),\n",
       "                new google.maps.LatLng(50.241665, -11.413861),\n",
       "                new google.maps.LatLng(37.019720, 39.242799),\n",
       "                new google.maps.LatLng(-44.822270, -172.890911),\n",
       "                new google.maps.LatLng(-26.020674, 78.382743),\n",
       "                new google.maps.LatLng(61.903128, -168.827498),\n",
       "                new google.maps.LatLng(14.766258, -116.413072),\n",
       "                new google.maps.LatLng(30.383109, 145.946871),\n",
       "                new google.maps.LatLng(82.985365, 123.041993),\n",
       "                new google.maps.LatLng(-75.875687, -119.443709),\n",
       "                new google.maps.LatLng(37.077546, 114.786336),\n",
       "                new google.maps.LatLng(65.556324, 62.957542),\n",
       "                new google.maps.LatLng(-8.011209, -156.570756),\n",
       "                new google.maps.LatLng(-15.914184, -132.264107),\n",
       "                new google.maps.LatLng(-19.123442, -28.025936),\n",
       "                new google.maps.LatLng(24.942165, -97.443141),\n",
       "                new google.maps.LatLng(58.203816, 67.822564),\n",
       "                new google.maps.LatLng(67.166798, -158.338275),\n",
       "                new google.maps.LatLng(19.837578, -175.588466),\n",
       "                new google.maps.LatLng(-52.269911, 43.566146),\n",
       "                new google.maps.LatLng(52.084925, -132.410797),\n",
       "                new google.maps.LatLng(42.584808, -4.587273),\n",
       "                new google.maps.LatLng(89.238436, 107.924221),\n",
       "                new google.maps.LatLng(68.524079, -59.234668),\n",
       "                new google.maps.LatLng(5.543943, -121.141200),\n",
       "                new google.maps.LatLng(-67.737850, 134.100395),\n",
       "                new google.maps.LatLng(-43.060965, -65.051670),\n",
       "                new google.maps.LatLng(-79.596081, -77.689553),\n",
       "                new google.maps.LatLng(57.688184, 150.122425),\n",
       "                new google.maps.LatLng(34.716609, -14.812830),\n",
       "                new google.maps.LatLng(-50.099427, 7.474748),\n",
       "                new google.maps.LatLng(67.252691, -111.512203),\n",
       "                new google.maps.LatLng(-18.879504, -11.153044),\n",
       "                new google.maps.LatLng(65.342816, 23.038650),\n",
       "                new google.maps.LatLng(-79.672994, 35.391938),\n",
       "                new google.maps.LatLng(-2.861236, -112.953230),\n",
       "                new google.maps.LatLng(24.086604, -89.933754),\n",
       "                new google.maps.LatLng(12.095147, 56.500105),\n",
       "                new google.maps.LatLng(31.227738, -24.543782),\n",
       "                new google.maps.LatLng(-6.580573, 7.126670),\n",
       "                new google.maps.LatLng(9.505979, 47.044842),\n",
       "                new google.maps.LatLng(19.343574, 99.972823),\n",
       "                new google.maps.LatLng(83.016615, 143.147939),\n",
       "                new google.maps.LatLng(-12.667978, 152.714117),\n",
       "                new google.maps.LatLng(-77.873514, 35.695503),\n",
       "                new google.maps.LatLng(24.971533, 81.829497),\n",
       "                new google.maps.LatLng(-67.721945, 90.817110),\n",
       "                new google.maps.LatLng(74.315946, -2.427985),\n",
       "                new google.maps.LatLng(81.937549, 0.325245),\n",
       "                new google.maps.LatLng(-85.650066, 169.437790),\n",
       "                new google.maps.LatLng(36.817079, 173.890520),\n",
       "                new google.maps.LatLng(74.040975, 155.765458),\n",
       "                new google.maps.LatLng(-55.081557, -136.647725),\n",
       "                new google.maps.LatLng(10.207001, -92.879771),\n",
       "                new google.maps.LatLng(-71.559483, 163.346631),\n",
       "                new google.maps.LatLng(-61.784270, -144.115950),\n",
       "                new google.maps.LatLng(44.186939, -166.499515),\n",
       "                new google.maps.LatLng(46.554271, -76.139006),\n",
       "                new google.maps.LatLng(66.623505, 159.032299),\n",
       "                new google.maps.LatLng(-56.499257, 126.073909),\n",
       "                new google.maps.LatLng(88.387963, 76.303098),\n",
       "                new google.maps.LatLng(-84.990009, -89.152753),\n",
       "                new google.maps.LatLng(-67.869456, 163.625686),\n",
       "                new google.maps.LatLng(5.964788, 15.071178),\n",
       "                new google.maps.LatLng(-17.764659, -50.257061),\n",
       "                new google.maps.LatLng(76.260347, 68.780505),\n",
       "                new google.maps.LatLng(64.880086, 114.335126),\n",
       "                new google.maps.LatLng(-14.819774, 31.110452),\n",
       "                new google.maps.LatLng(-35.470091, -28.993245),\n",
       "                new google.maps.LatLng(10.514925, -150.893829),\n",
       "                new google.maps.LatLng(54.343000, 58.753687),\n",
       "                new google.maps.LatLng(-69.156369, 81.031104),\n",
       "                new google.maps.LatLng(-52.134322, -31.711087),\n",
       "                new google.maps.LatLng(61.254904, 114.757245),\n",
       "                new google.maps.LatLng(24.998750, -165.495205),\n",
       "                new google.maps.LatLng(50.775796, 10.827251),\n",
       "                new google.maps.LatLng(-39.758658, -72.924074),\n",
       "                new google.maps.LatLng(-31.761345, 128.041392),\n",
       "                new google.maps.LatLng(-26.860930, 49.019136),\n",
       "                new google.maps.LatLng(-54.717596, -83.908909),\n",
       "                new google.maps.LatLng(-14.032927, -144.341104),\n",
       "                new google.maps.LatLng(-23.445413, 86.167762),\n",
       "                new google.maps.LatLng(-75.323707, -55.203453),\n",
       "                new google.maps.LatLng(31.393546, -31.226097),\n",
       "                new google.maps.LatLng(88.038346, 116.714663),\n",
       "                new google.maps.LatLng(-5.809895, -6.702687),\n",
       "                new google.maps.LatLng(34.264323, -64.681700),\n",
       "                new google.maps.LatLng(65.548402, -133.527790),\n",
       "                new google.maps.LatLng(48.917902, 143.689144),\n",
       "                new google.maps.LatLng(71.025640, 164.829721),\n",
       "                new google.maps.LatLng(-80.773747, -169.185748),\n",
       "                new google.maps.LatLng(3.404663, 3.548121),\n",
       "                new google.maps.LatLng(14.811189, 72.698717),\n",
       "                new google.maps.LatLng(61.296576, 89.851837),\n",
       "                new google.maps.LatLng(64.206913, 20.643353),\n",
       "                new google.maps.LatLng(80.129428, -16.493062),\n",
       "                new google.maps.LatLng(-67.693100, -3.536866),\n",
       "                new google.maps.LatLng(-67.336215, -46.935578),\n",
       "                new google.maps.LatLng(-53.157993, 175.589935),\n",
       "                new google.maps.LatLng(-16.159986, 141.649462),\n",
       "                new google.maps.LatLng(-49.723948, 10.921570),\n",
       "                new google.maps.LatLng(-6.045084, -118.821520),\n",
       "                new google.maps.LatLng(-22.518293, -115.864381),\n",
       "                new google.maps.LatLng(-31.889092, 41.960934),\n",
       "                new google.maps.LatLng(66.788563, 41.563910),\n",
       "                new google.maps.LatLng(27.750900, -152.338157),\n",
       "                new google.maps.LatLng(28.087277, 16.007623),\n",
       "                new google.maps.LatLng(68.639443, -69.322464),\n",
       "                new google.maps.LatLng(-10.154448, 50.039673),\n",
       "                new google.maps.LatLng(-67.380465, -89.596718),\n",
       "                new google.maps.LatLng(-72.189426, -115.322822),\n",
       "                new google.maps.LatLng(-83.555018, 50.253257),\n",
       "                new google.maps.LatLng(71.639741, -98.463007),\n",
       "                new google.maps.LatLng(-36.360312, 37.182946),\n",
       "                new google.maps.LatLng(33.852854, 95.601369),\n",
       "                new google.maps.LatLng(48.897308, 152.062913),\n",
       "                new google.maps.LatLng(-69.196831, 121.841496),\n",
       "                new google.maps.LatLng(27.861544, -166.439593),\n",
       "                new google.maps.LatLng(-78.666320, 68.820492),\n",
       "                new google.maps.LatLng(40.486092, 25.852924),\n",
       "                new google.maps.LatLng(-48.888518, -86.708419),\n",
       "                new google.maps.LatLng(65.625606, -71.518052),\n",
       "                new google.maps.LatLng(76.397017, 64.665130),\n",
       "                new google.maps.LatLng(-35.907322, -4.365143),\n",
       "                new google.maps.LatLng(86.831011, -39.247618),\n",
       "                new google.maps.LatLng(76.596097, -175.951407),\n",
       "                new google.maps.LatLng(-20.985554, 161.243544),\n",
       "                new google.maps.LatLng(-84.892247, 167.652393),\n",
       "                new google.maps.LatLng(-30.565348, 130.289428),\n",
       "                new google.maps.LatLng(34.197677, 42.770559),\n",
       "                new google.maps.LatLng(0.746840, -38.560746),\n",
       "                new google.maps.LatLng(-22.548738, -12.393253),\n",
       "                new google.maps.LatLng(12.884307, -28.995248),\n",
       "                new google.maps.LatLng(65.916084, -82.267935),\n",
       "                new google.maps.LatLng(47.222689, 48.869422),\n",
       "                new google.maps.LatLng(45.830486, 54.042637),\n",
       "                new google.maps.LatLng(16.817219, -124.627054),\n",
       "                new google.maps.LatLng(0.228413, 3.369506),\n",
       "                new google.maps.LatLng(-67.941602, 13.684939),\n",
       "                new google.maps.LatLng(12.238148, 44.436117),\n",
       "                new google.maps.LatLng(10.285720, 150.298922),\n",
       "                new google.maps.LatLng(-78.230902, -82.536072),\n",
       "                new google.maps.LatLng(-38.980171, -86.846794),\n",
       "                new google.maps.LatLng(49.394604, -65.508920),\n",
       "                new google.maps.LatLng(31.355184, -84.497748),\n",
       "                new google.maps.LatLng(39.053919, -109.479079),\n",
       "                new google.maps.LatLng(-41.287101, 63.273443),\n",
       "                new google.maps.LatLng(-53.764942, 134.474449),\n",
       "                new google.maps.LatLng(7.996912, -57.754235),\n",
       "                new google.maps.LatLng(-51.075701, 150.923095),\n",
       "                new google.maps.LatLng(-79.844142, -13.116837),\n",
       "                new google.maps.LatLng(-73.728471, 143.495591),\n",
       "                new google.maps.LatLng(-25.219368, -42.454078),\n",
       "                new google.maps.LatLng(-15.695629, 131.700649),\n",
       "                new google.maps.LatLng(22.499029, 36.053589),\n",
       "                new google.maps.LatLng(-71.294270, -28.692184),\n",
       "                new google.maps.LatLng(-13.602092, -122.176729),\n",
       "                new google.maps.LatLng(-47.697671, 29.270275),\n",
       "                new google.maps.LatLng(-86.543091, -125.590462),\n",
       "                new google.maps.LatLng(-46.077910, -0.801726),\n",
       "                new google.maps.LatLng(62.690075, 93.073102),\n",
       "                new google.maps.LatLng(-8.107711, 25.117248),\n",
       "                new google.maps.LatLng(57.884467, -79.817351),\n",
       "                new google.maps.LatLng(39.256509, 123.905868),\n",
       "                new google.maps.LatLng(-11.089606, -77.326806),\n",
       "                new google.maps.LatLng(-70.883803, -74.847481),\n",
       "                new google.maps.LatLng(-65.418273, -16.687752),\n",
       "                new google.maps.LatLng(5.505665, 152.354974),\n",
       "                new google.maps.LatLng(0.537962, 63.062366),\n",
       "                new google.maps.LatLng(-7.111211, 34.437283),\n",
       "                new google.maps.LatLng(43.059004, -111.202150),\n",
       "                new google.maps.LatLng(-23.390215, 131.017372),\n",
       "                new google.maps.LatLng(37.240488, 60.934512),\n",
       "                new google.maps.LatLng(65.921770, -169.710887),\n",
       "                new google.maps.LatLng(-6.028712, -100.633378),\n",
       "                new google.maps.LatLng(-29.203543, -169.532377),\n",
       "                new google.maps.LatLng(-70.247801, -94.911912),\n",
       "                new google.maps.LatLng(71.482733, 109.534537),\n",
       "                new google.maps.LatLng(-73.075133, -158.010768),\n",
       "                new google.maps.LatLng(-61.053527, 171.387714),\n",
       "                new google.maps.LatLng(-63.565563, 5.872714),\n",
       "                new google.maps.LatLng(89.039333, -59.650716),\n",
       "                new google.maps.LatLng(15.121689, 141.295143),\n",
       "                new google.maps.LatLng(-36.242671, -109.334088),\n",
       "                new google.maps.LatLng(-79.474619, 103.277736),\n",
       "                new google.maps.LatLng(4.909230, -121.783685),\n",
       "                new google.maps.LatLng(74.889633, -98.994777),\n",
       "                new google.maps.LatLng(77.633433, 30.376205),\n",
       "                new google.maps.LatLng(84.482690, 93.507917),\n",
       "                new google.maps.LatLng(-63.708352, 24.096922),\n",
       "                new google.maps.LatLng(-38.746572, 41.525843),\n",
       "                new google.maps.LatLng(-5.529063, -51.262611),\n",
       "                new google.maps.LatLng(19.007170, -163.692351),\n",
       "                new google.maps.LatLng(-0.624745, -3.131383),\n",
       "                new google.maps.LatLng(36.707191, 105.847804),\n",
       "                new google.maps.LatLng(34.675814, 168.962873),\n",
       "                new google.maps.LatLng(5.006119, 113.200529),\n",
       "                new google.maps.LatLng(-28.043806, 42.352632),\n",
       "                new google.maps.LatLng(-3.331048, 21.221245),\n",
       "                new google.maps.LatLng(-59.871789, 78.240924),\n",
       "                new google.maps.LatLng(35.086098, 35.730709),\n",
       "                new google.maps.LatLng(59.145503, -149.343182),\n",
       "                new google.maps.LatLng(78.119233, 114.497483),\n",
       "                new google.maps.LatLng(49.373079, 25.588345),\n",
       "                new google.maps.LatLng(-30.712146, -46.775303),\n",
       "                new google.maps.LatLng(76.592094, 11.455359),\n",
       "                new google.maps.LatLng(-2.183732, 102.834434),\n",
       "                new google.maps.LatLng(-19.443016, 73.093490),\n",
       "                new google.maps.LatLng(-52.614911, 4.281324),\n",
       "                new google.maps.LatLng(-20.564380, 144.640575),\n",
       "                new google.maps.LatLng(11.393585, -175.184509),\n",
       "                new google.maps.LatLng(-27.772699, -134.254764),\n",
       "                new google.maps.LatLng(5.261130, 102.357927),\n",
       "                new google.maps.LatLng(-56.674548, -163.409471),\n",
       "                new google.maps.LatLng(19.731851, -62.282702),\n",
       "                new google.maps.LatLng(55.861414, -97.322665),\n",
       "                new google.maps.LatLng(-40.227668, 119.969290),\n",
       "                new google.maps.LatLng(-43.272346, 18.792234),\n",
       "                new google.maps.LatLng(39.155113, 118.930740),\n",
       "                new google.maps.LatLng(35.988172, -91.010524),\n",
       "                new google.maps.LatLng(-80.081698, -166.766665),\n",
       "                new google.maps.LatLng(-59.216923, 76.633786),\n",
       "                new google.maps.LatLng(5.473055, -111.406483),\n",
       "                new google.maps.LatLng(55.471073, -55.319032),\n",
       "                new google.maps.LatLng(-64.254500, 17.340891),\n",
       "                new google.maps.LatLng(-27.226480, 69.538794),\n",
       "                new google.maps.LatLng(-78.282250, 108.901495),\n",
       "                new google.maps.LatLng(-66.273716, 169.953628),\n",
       "                new google.maps.LatLng(40.697217, -108.082832),\n",
       "                new google.maps.LatLng(33.577759, -83.685626),\n",
       "                new google.maps.LatLng(-41.453607, -93.117121),\n",
       "                new google.maps.LatLng(85.477900, 17.904257),\n",
       "                new google.maps.LatLng(-21.970108, 170.269876),\n",
       "                new google.maps.LatLng(46.447925, 139.898321),\n",
       "                new google.maps.LatLng(-33.675172, -57.144643),\n",
       "                new google.maps.LatLng(45.167345, -33.920430),\n",
       "                new google.maps.LatLng(68.528032, 136.861176),\n",
       "                new google.maps.LatLng(4.492925, -152.591390),\n",
       "                new google.maps.LatLng(-70.775344, 0.147839),\n",
       "                new google.maps.LatLng(77.712786, -153.346379),\n",
       "                new google.maps.LatLng(48.634680, -14.941488),\n",
       "                new google.maps.LatLng(43.733016, 2.774061),\n",
       "                new google.maps.LatLng(56.602046, -158.101713),\n",
       "                new google.maps.LatLng(-38.648041, -119.333064),\n",
       "                new google.maps.LatLng(-88.063512, 86.976545),\n",
       "                new google.maps.LatLng(83.599720, -18.887429),\n",
       "                new google.maps.LatLng(-70.254014, 126.404998),\n",
       "                new google.maps.LatLng(37.631248, 68.151653),\n",
       "                new google.maps.LatLng(-60.421815, -139.899644),\n",
       "                new google.maps.LatLng(-74.915732, 69.360082),\n",
       "                new google.maps.LatLng(-76.277934, 37.276243),\n",
       "                new google.maps.LatLng(35.775763, -79.987599),\n",
       "                new google.maps.LatLng(48.441556, 58.702953),\n",
       "                new google.maps.LatLng(19.798931, 88.555756),\n",
       "                new google.maps.LatLng(-30.834846, 65.625382),\n",
       "                new google.maps.LatLng(42.422331, -92.549128),\n",
       "                new google.maps.LatLng(60.067792, 52.728083),\n",
       "                new google.maps.LatLng(34.279874, 51.353943),\n",
       "                new google.maps.LatLng(13.754027, -157.154355),\n",
       "                new google.maps.LatLng(9.081716, 10.804279),\n",
       "                new google.maps.LatLng(-65.357849, -108.861990),\n",
       "                new google.maps.LatLng(-84.592347, -66.270708),\n",
       "                new google.maps.LatLng(-55.872739, -46.222510),\n",
       "                new google.maps.LatLng(-33.606848, -140.173646),\n",
       "                new google.maps.LatLng(63.474819, -123.215336),\n",
       "                new google.maps.LatLng(82.960981, 62.348817),\n",
       "                new google.maps.LatLng(17.908051, -170.385838),\n",
       "                new google.maps.LatLng(6.192170, 45.894668),\n",
       "                new google.maps.LatLng(-17.068414, 7.198054),\n",
       "                new google.maps.LatLng(-35.602576, -47.512648),\n",
       "                new google.maps.LatLng(29.220419, -92.868831),\n",
       "                new google.maps.LatLng(-11.781980, -45.038473),\n",
       "                new google.maps.LatLng(-72.774853, 13.509262),\n",
       "                new google.maps.LatLng(44.610134, 86.113661),\n",
       "                new google.maps.LatLng(-67.987690, -76.890633),\n",
       "                new google.maps.LatLng(-17.595143, -166.337278),\n",
       "                new google.maps.LatLng(-12.569089, 69.705440),\n",
       "                new google.maps.LatLng(-68.490064, 23.426874),\n",
       "                new google.maps.LatLng(-21.171656, -156.451456),\n",
       "                new google.maps.LatLng(40.725749, 59.144528),\n",
       "                new google.maps.LatLng(63.481781, 108.656878),\n",
       "                new google.maps.LatLng(-87.614580, -66.105662),\n",
       "                new google.maps.LatLng(-20.432493, 72.096597),\n",
       "                new google.maps.LatLng(20.547696, 32.925026),\n",
       "                new google.maps.LatLng(48.712774, -153.150687),\n",
       "                new google.maps.LatLng(-32.028265, 95.628798),\n",
       "                new google.maps.LatLng(-88.640182, -59.466055),\n",
       "                new google.maps.LatLng(-5.077726, 128.127816),\n",
       "                new google.maps.LatLng(44.601585, -100.201755),\n",
       "                new google.maps.LatLng(53.104759, 152.356086),\n",
       "                new google.maps.LatLng(31.159926, 30.512222),\n",
       "                new google.maps.LatLng(-79.470029, -19.248029),\n",
       "                new google.maps.LatLng(43.088519, -157.411999),\n",
       "                new google.maps.LatLng(56.386907, 24.902428),\n",
       "                new google.maps.LatLng(-84.485613, 105.943405),\n",
       "                new google.maps.LatLng(-80.147161, 36.581107),\n",
       "                new google.maps.LatLng(89.871572, 135.349385),\n",
       "                new google.maps.LatLng(-60.011115, -142.930349),\n",
       "                new google.maps.LatLng(35.165036, -69.765757),\n",
       "                new google.maps.LatLng(69.257941, -28.564437),\n",
       "                new google.maps.LatLng(42.188557, 21.229614),\n",
       "                new google.maps.LatLng(44.078029, 128.549140),\n",
       "                new google.maps.LatLng(-70.186350, -57.859346),\n",
       "                new google.maps.LatLng(-13.454820, 148.040255),\n",
       "                new google.maps.LatLng(-71.172767, -79.863005),\n",
       "                new google.maps.LatLng(67.147848, -94.583253),\n",
       "                new google.maps.LatLng(-44.365995, 70.198203),\n",
       "                new google.maps.LatLng(-11.132504, -91.748117),\n",
       "                new google.maps.LatLng(85.662345, 87.342861),\n",
       "                new google.maps.LatLng(-4.648079, -105.415494),\n",
       "                new google.maps.LatLng(74.587655, 126.672042),\n",
       "                new google.maps.LatLng(-60.179647, 141.632017),\n",
       "                new google.maps.LatLng(22.552852, 80.487999),\n",
       "                new google.maps.LatLng(53.270029, -132.061800),\n",
       "                new google.maps.LatLng(69.903947, 26.457570),\n",
       "                new google.maps.LatLng(-84.150411, 107.963589),\n",
       "                new google.maps.LatLng(-21.866918, 173.788563),\n",
       "                new google.maps.LatLng(-86.201546, 71.541439),\n",
       "                new google.maps.LatLng(-15.765776, -108.300595),\n",
       "                new google.maps.LatLng(-73.963798, -1.126120),\n",
       "                new google.maps.LatLng(-82.383540, -174.652651),\n",
       "                new google.maps.LatLng(23.810254, -85.643959),\n",
       "                new google.maps.LatLng(-15.104445, 95.504884),\n",
       "                new google.maps.LatLng(-48.426241, -18.847362),\n",
       "                new google.maps.LatLng(-36.756373, -72.213631),\n",
       "                new google.maps.LatLng(43.887328, 122.891625),\n",
       "                new google.maps.LatLng(-10.049330, -92.679579),\n",
       "                new google.maps.LatLng(-49.301955, 152.792296),\n",
       "                new google.maps.LatLng(84.353984, 151.652483),\n",
       "                new google.maps.LatLng(-34.786325, 80.972843),\n",
       "                new google.maps.LatLng(-17.217631, 167.588536),\n",
       "                new google.maps.LatLng(-25.039574, -46.283047),\n",
       "                new google.maps.LatLng(-31.608357, -128.439800),\n",
       "                new google.maps.LatLng(-44.669756, -124.400309),\n",
       "                new google.maps.LatLng(84.936671, 37.688529),\n",
       "                new google.maps.LatLng(49.204514, 31.385069),\n",
       "                new google.maps.LatLng(-29.843576, -40.400669),\n",
       "                new google.maps.LatLng(-5.194342, 14.033173),\n",
       "                new google.maps.LatLng(62.724204, -82.954188),\n",
       "                new google.maps.LatLng(-68.304025, 9.025023),\n",
       "                new google.maps.LatLng(-72.340392, 15.582451),\n",
       "                new google.maps.LatLng(55.562369, 173.769575),\n",
       "                new google.maps.LatLng(-14.993268, -11.041429),\n",
       "                new google.maps.LatLng(53.279448, 108.365252),\n",
       "                new google.maps.LatLng(-3.553982, 107.881886),\n",
       "                new google.maps.LatLng(46.471082, 62.026071),\n",
       "                new google.maps.LatLng(-89.586150, -113.332657),\n",
       "                new google.maps.LatLng(-38.833923, 65.738948),\n",
       "                new google.maps.LatLng(-12.508397, 163.665877),\n",
       "                new google.maps.LatLng(-29.805798, 140.690186),\n",
       "                new google.maps.LatLng(-3.962219, -142.172650),\n",
       "                new google.maps.LatLng(-66.872623, 159.420167),\n",
       "                new google.maps.LatLng(-46.836034, 177.920346),\n",
       "                new google.maps.LatLng(-17.368117, -174.282193),\n",
       "                new google.maps.LatLng(-62.376123, 47.790945),\n",
       "                new google.maps.LatLng(60.635436, -96.761953),\n",
       "                new google.maps.LatLng(-52.489736, -117.518814),\n",
       "                new google.maps.LatLng(-56.356925, -87.552980),\n",
       "                new google.maps.LatLng(22.592632, 33.321014),\n",
       "                new google.maps.LatLng(-46.760084, 160.006351),\n",
       "                new google.maps.LatLng(-81.893481, -86.404717),\n",
       "                new google.maps.LatLng(30.577879, -87.608539),\n",
       "                new google.maps.LatLng(-56.243521, -71.382869),\n",
       "                new google.maps.LatLng(-70.353840, -121.480107),\n",
       "                new google.maps.LatLng(-24.560087, 176.261727),\n",
       "                new google.maps.LatLng(68.205840, -5.462599),\n",
       "                new google.maps.LatLng(71.017085, -25.626208),\n",
       "                new google.maps.LatLng(-12.650264, -91.968339),\n",
       "                new google.maps.LatLng(-84.935857, 103.608356),\n",
       "                new google.maps.LatLng(-17.122767, -7.803850),\n",
       "                new google.maps.LatLng(-56.013258, 45.977506),\n",
       "                new google.maps.LatLng(88.982103, 112.357895),\n",
       "                new google.maps.LatLng(3.177714, -142.166150),\n",
       "                new google.maps.LatLng(-23.664656, -16.720299),\n",
       "                new google.maps.LatLng(-65.308932, 24.271460),\n",
       "                new google.maps.LatLng(33.746236, -126.055052),\n",
       "                new google.maps.LatLng(-23.684883, 177.973688),\n",
       "                new google.maps.LatLng(84.137350, 46.533526),\n",
       "                new google.maps.LatLng(-46.715945, 152.067888),\n",
       "                new google.maps.LatLng(-88.165644, -172.494135),\n",
       "                new google.maps.LatLng(13.376485, 17.694887),\n",
       "                new google.maps.LatLng(64.263351, 8.840717),\n",
       "                new google.maps.LatLng(71.610537, -135.998101),\n",
       "                new google.maps.LatLng(-20.434355, 101.265453),\n",
       "                new google.maps.LatLng(40.900492, -38.913772),\n",
       "                new google.maps.LatLng(68.135400, -79.962547),\n",
       "                new google.maps.LatLng(-70.915365, 39.092323),\n",
       "                new google.maps.LatLng(39.748316, -119.460617),\n",
       "                new google.maps.LatLng(22.445641, 77.079084),\n",
       "                new google.maps.LatLng(6.059011, 145.016208),\n",
       "                new google.maps.LatLng(32.532750, -124.844961),\n",
       "                new google.maps.LatLng(74.852680, -56.089215),\n",
       "                new google.maps.LatLng(-19.435696, 27.870413),\n",
       "                new google.maps.LatLng(-18.419916, -154.465150),\n",
       "                new google.maps.LatLng(48.616778, 165.704884),\n",
       "                new google.maps.LatLng(28.009337, 37.468932),\n",
       "                new google.maps.LatLng(82.276452, -147.764559),\n",
       "                new google.maps.LatLng(-4.833320, 53.073261),\n",
       "                new google.maps.LatLng(48.691493, 3.850183),\n",
       "                new google.maps.LatLng(10.935237, -13.666403),\n",
       "                new google.maps.LatLng(-50.860873, 118.466535),\n",
       "                new google.maps.LatLng(-61.217687, 114.585086),\n",
       "                new google.maps.LatLng(-29.165474, 149.795253),\n",
       "                new google.maps.LatLng(-21.327814, -124.312993),\n",
       "                new google.maps.LatLng(34.997490, 26.326519),\n",
       "                new google.maps.LatLng(-61.946434, -134.290360),\n",
       "                new google.maps.LatLng(-35.381385, -17.906680),\n",
       "                new google.maps.LatLng(-73.769447, 15.788678),\n",
       "                new google.maps.LatLng(28.308586, -141.003908),\n",
       "                new google.maps.LatLng(5.603598, 131.901071),\n",
       "                new google.maps.LatLng(78.065741, -120.355441),\n",
       "                new google.maps.LatLng(30.038049, -87.022089),\n",
       "                new google.maps.LatLng(5.137099, 1.906310),\n",
       "                new google.maps.LatLng(-43.830267, 28.247185),\n",
       "                new google.maps.LatLng(-29.027719, -176.327488),\n",
       "                new google.maps.LatLng(23.349022, -59.355867),\n",
       "                new google.maps.LatLng(57.451282, 164.240437),\n",
       "                new google.maps.LatLng(10.233770, -140.222780),\n",
       "                new google.maps.LatLng(-54.699390, 109.327084),\n",
       "                new google.maps.LatLng(-24.445283, -172.741787),\n",
       "                new google.maps.LatLng(75.441120, -81.729470),\n",
       "                new google.maps.LatLng(69.515846, 0.089102),\n",
       "                new google.maps.LatLng(89.659318, -157.086275),\n",
       "                new google.maps.LatLng(43.534863, -166.305438),\n",
       "                new google.maps.LatLng(37.649688, 146.996761),\n",
       "                new google.maps.LatLng(30.195992, 78.627094),\n",
       "                new google.maps.LatLng(16.300087, -42.366292),\n",
       "                new google.maps.LatLng(-24.860844, 6.147456),\n",
       "                new google.maps.LatLng(59.431487, 154.176428),\n",
       "                new google.maps.LatLng(84.468897, 0.721946),\n",
       "                new google.maps.LatLng(-18.166347, -177.286422),\n",
       "                new google.maps.LatLng(-70.904016, 156.777328),\n",
       "                new google.maps.LatLng(89.228530, -129.412239),\n",
       "                new google.maps.LatLng(-43.015965, -19.137835),\n",
       "                new google.maps.LatLng(53.018611, 177.072856),\n",
       "                new google.maps.LatLng(25.026551, -1.815427),\n",
       "                new google.maps.LatLng(-48.142651, 134.804750),\n",
       "                new google.maps.LatLng(-5.189803, -167.430879),\n",
       "                new google.maps.LatLng(-21.625945, -75.564093),\n",
       "                new google.maps.LatLng(-43.775993, -19.625729),\n",
       "                new google.maps.LatLng(56.719198, 56.556964),\n",
       "                new google.maps.LatLng(61.444455, 107.086038),\n",
       "                new google.maps.LatLng(-37.010888, 155.626100),\n",
       "                new google.maps.LatLng(32.978572, -35.689953),\n",
       "                new google.maps.LatLng(88.902479, -36.514188),\n",
       "                new google.maps.LatLng(-19.693007, 161.453267),\n",
       "                new google.maps.LatLng(81.334787, 107.159234),\n",
       "                new google.maps.LatLng(78.043417, -35.224674),\n",
       "                new google.maps.LatLng(-7.701702, 59.127241),\n",
       "                new google.maps.LatLng(76.940447, -24.446307),\n",
       "                new google.maps.LatLng(32.419055, -13.050159),\n",
       "                new google.maps.LatLng(83.825061, -53.631188),\n",
       "                new google.maps.LatLng(-12.485607, 125.862309),\n",
       "                new google.maps.LatLng(-14.757529, -62.792340),\n",
       "                new google.maps.LatLng(86.712065, -92.115234),\n",
       "                new google.maps.LatLng(40.825980, -23.514839),\n",
       "                new google.maps.LatLng(34.319435, 162.035861),\n",
       "                new google.maps.LatLng(31.762044, -37.148333),\n",
       "                new google.maps.LatLng(-65.055734, 168.502427),\n",
       "                new google.maps.LatLng(68.926904, -108.285313),\n",
       "                new google.maps.LatLng(-9.011029, 96.355460),\n",
       "                new google.maps.LatLng(-69.956734, -116.097392),\n",
       "                new google.maps.LatLng(-7.540341, 128.142028),\n",
       "                new google.maps.LatLng(1.485649, 58.163986),\n",
       "                new google.maps.LatLng(22.547592, 159.669016),\n",
       "                new google.maps.LatLng(-1.096934, -8.484468),\n",
       "                new google.maps.LatLng(57.224013, 60.133506),\n",
       "                new google.maps.LatLng(72.078975, -69.527898),\n",
       "                new google.maps.LatLng(-63.173121, 14.191083),\n",
       "                new google.maps.LatLng(-31.108061, 123.416932),\n",
       "                new google.maps.LatLng(58.556354, 105.560840),\n",
       "                new google.maps.LatLng(24.226105, 54.982973),\n",
       "                new google.maps.LatLng(-1.813256, 115.855101),\n",
       "                new google.maps.LatLng(6.412392, 170.807786),\n",
       "                new google.maps.LatLng(-3.891339, -80.688995),\n",
       "                new google.maps.LatLng(53.259945, -144.133384),\n",
       "                new google.maps.LatLng(-87.034288, 146.535282),\n",
       "                new google.maps.LatLng(6.690743, 52.750766),\n",
       "                new google.maps.LatLng(77.821198, 138.269718),\n",
       "                new google.maps.LatLng(11.997899, -83.692414),\n",
       "                new google.maps.LatLng(-83.920841, 100.420113),\n",
       "                new google.maps.LatLng(50.047231, 46.293031),\n",
       "                new google.maps.LatLng(34.465684, 159.377213),\n",
       "                new google.maps.LatLng(36.416692, -67.901912),\n",
       "                new google.maps.LatLng(8.461840, -23.218183),\n",
       "                new google.maps.LatLng(85.552397, 107.727671),\n",
       "                new google.maps.LatLng(-68.165718, 15.770716),\n",
       "                new google.maps.LatLng(78.661501, 88.875967),\n",
       "                new google.maps.LatLng(-14.943604, 101.333225),\n",
       "                new google.maps.LatLng(-37.438343, -59.041760),\n",
       "                new google.maps.LatLng(23.074250, 35.055575),\n",
       "                new google.maps.LatLng(21.636634, 33.571784),\n",
       "                new google.maps.LatLng(86.562874, -64.717123),\n",
       "                new google.maps.LatLng(-88.484209, 50.004618),\n",
       "                new google.maps.LatLng(49.125927, 79.434115),\n",
       "                new google.maps.LatLng(39.187012, -107.893771),\n",
       "                new google.maps.LatLng(16.687881, -88.375132),\n",
       "                new google.maps.LatLng(30.414297, 39.047550),\n",
       "                new google.maps.LatLng(49.874296, 20.235185),\n",
       "                new google.maps.LatLng(40.546951, 60.393291),\n",
       "                new google.maps.LatLng(-17.347481, 175.238399),\n",
       "                new google.maps.LatLng(-8.323076, 111.838130),\n",
       "                new google.maps.LatLng(-43.551196, -34.758410),\n",
       "                new google.maps.LatLng(-20.897375, -1.011387),\n",
       "                new google.maps.LatLng(19.325058, -52.363525),\n",
       "                new google.maps.LatLng(30.068603, 99.644823),\n",
       "                new google.maps.LatLng(52.724046, 127.112030),\n",
       "                new google.maps.LatLng(73.156753, -74.836478),\n",
       "                new google.maps.LatLng(-85.157185, -114.611657),\n",
       "                new google.maps.LatLng(-82.622720, -45.742463),\n",
       "                new google.maps.LatLng(-61.618365, -110.795595),\n",
       "                new google.maps.LatLng(-86.699150, -136.726374),\n",
       "                new google.maps.LatLng(-69.682968, -134.938154),\n",
       "                new google.maps.LatLng(-3.779419, 158.437007),\n",
       "                new google.maps.LatLng(65.751092, -93.583212),\n",
       "                new google.maps.LatLng(88.364404, 140.549538),\n",
       "                new google.maps.LatLng(69.221713, -150.464137),\n",
       "                new google.maps.LatLng(-66.008616, 96.227636),\n",
       "                new google.maps.LatLng(-25.537169, 127.309031),\n",
       "                new google.maps.LatLng(66.372214, 13.770040),\n",
       "                new google.maps.LatLng(77.580215, 115.569576),\n",
       "                new google.maps.LatLng(-86.094659, -159.031744),\n",
       "                new google.maps.LatLng(44.778772, -43.495658),\n",
       "                new google.maps.LatLng(32.792591, 167.899067),\n",
       "                new google.maps.LatLng(-32.552442, 121.687084),\n",
       "                new google.maps.LatLng(-23.377627, -55.053404),\n",
       "                new google.maps.LatLng(13.990620, -85.035452),\n",
       "                new google.maps.LatLng(-28.444570, -103.863531),\n",
       "                new google.maps.LatLng(45.947713, -67.147433),\n",
       "                new google.maps.LatLng(17.099075, 123.385550),\n",
       "                new google.maps.LatLng(80.346343, 72.803381),\n",
       "                new google.maps.LatLng(-28.597195, -110.608865),\n",
       "                new google.maps.LatLng(38.463698, -49.058638),\n",
       "                new google.maps.LatLng(46.358994, -26.104971),\n",
       "                new google.maps.LatLng(9.418071, -39.113407),\n",
       "                new google.maps.LatLng(35.644046, -0.593580),\n",
       "                new google.maps.LatLng(43.570076, -48.151420),\n",
       "                new google.maps.LatLng(82.590066, 114.522660),\n",
       "                new google.maps.LatLng(33.444993, 60.784178),\n",
       "                new google.maps.LatLng(-84.631837, 44.173111),\n",
       "                new google.maps.LatLng(77.162134, -35.273841),\n",
       "                new google.maps.LatLng(43.766200, 60.917478),\n",
       "                new google.maps.LatLng(72.588356, -178.329046),\n",
       "                new google.maps.LatLng(61.828175, 175.012949),\n",
       "                new google.maps.LatLng(-73.998979, -154.281143),\n",
       "                new google.maps.LatLng(68.727670, 80.237904),\n",
       "                new google.maps.LatLng(-70.042889, -169.422922),\n",
       "                new google.maps.LatLng(-60.914176, -117.815681),\n",
       "                new google.maps.LatLng(36.736140, 89.788417),\n",
       "                new google.maps.LatLng(74.419864, 156.937166),\n",
       "                new google.maps.LatLng(35.848671, -138.646818),\n",
       "                new google.maps.LatLng(-82.868823, 163.347084),\n",
       "                new google.maps.LatLng(3.027608, 72.014795),\n",
       "                new google.maps.LatLng(-46.127121, 106.547614),\n",
       "                new google.maps.LatLng(37.161619, 165.869957),\n",
       "                new google.maps.LatLng(54.510061, -34.472269),\n",
       "                new google.maps.LatLng(-59.588183, 131.427846),\n",
       "                new google.maps.LatLng(62.997671, -76.889360),\n",
       "                new google.maps.LatLng(-49.580513, 58.700648),\n",
       "                new google.maps.LatLng(-77.637689, 43.570390),\n",
       "                new google.maps.LatLng(88.250128, 8.100267),\n",
       "                new google.maps.LatLng(57.418407, 24.993471),\n",
       "                new google.maps.LatLng(37.649205, 50.257149),\n",
       "                new google.maps.LatLng(49.207570, -93.637513),\n",
       "                new google.maps.LatLng(73.183398, -132.447271),\n",
       "                new google.maps.LatLng(49.499245, 69.491792),\n",
       "                new google.maps.LatLng(24.888448, -176.702638),\n",
       "                new google.maps.LatLng(-1.217160, -96.858764),\n",
       "                new google.maps.LatLng(-76.407909, 170.980731),\n",
       "                new google.maps.LatLng(-16.952129, -148.906302),\n",
       "            ]\n",
       "        });\n",
       "\n",
       "    }\n",
       "</script>\n",
       "</head>\n",
       "<body style=\"margin:0px; padding:0px;\" onload=\"initialize()\">\n",
       "    <div id=\"map_canvas\" style=\"width: 100%; height: 100%;\" />\n",
       "</body>\n",
       "</html>\n"
      ],
      "text/plain": [
       "<IPython.core.display.HTML object>"
      ]
     },
     "execution_count": 34,
     "metadata": {
      "tags": []
     },
     "output_type": "execute_result"
    }
   ],
   "source": [
    "import IPython\n",
    "IPython.display.HTML(open('/content/country_heatmap.html').read())"
   ]
  },
  {
   "cell_type": "code",
   "execution_count": 35,
   "metadata": {
    "colab": {
     "base_uri": "https://localhost:8080/",
     "height": 621
    },
    "id": "k1KNIFSvFZEV",
    "outputId": "e2ae408f-46a8-42ee-f256-ded88b3f3e69"
   },
   "outputs": [
    {
     "data": {
      "text/html": [
       "\n",
       "        <iframe\n",
       "            width=\"900\"\n",
       "            height=\"600\"\n",
       "            src=\"/content/country_heatmap.html\"\n",
       "            frameborder=\"0\"\n",
       "            allowfullscreen\n",
       "        ></iframe>\n",
       "        "
      ],
      "text/plain": [
       "<IPython.lib.display.IFrame at 0x7fe553257390>"
      ]
     },
     "execution_count": 35,
     "metadata": {
      "tags": []
     },
     "output_type": "execute_result"
    }
   ],
   "source": [
    "from IPython.display import IFrame\n",
    "IFrame(src='/content/country_heatmap.html', width=900, height=600)"
   ]
  },
  {
   "cell_type": "code",
   "execution_count": null,
   "metadata": {
    "id": "0NTPC6S-Fh-v"
   },
   "outputs": [],
   "source": []
  }
 ],
 "metadata": {
  "colab": {
   "name": "Untitled1.ipynb",
   "provenance": []
  },
  "kernelspec": {
   "display_name": "Python 3",
   "language": "python",
   "name": "python3"
  },
  "language_info": {
   "codemirror_mode": {
    "name": "ipython",
    "version": 3
   },
   "file_extension": ".py",
   "mimetype": "text/x-python",
   "name": "python",
   "nbconvert_exporter": "python",
   "pygments_lexer": "ipython3",
   "version": "3.8.5"
  }
 },
 "nbformat": 4,
 "nbformat_minor": 1
}
