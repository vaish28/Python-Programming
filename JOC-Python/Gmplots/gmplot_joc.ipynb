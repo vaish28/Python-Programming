{
 "cells": [
  {
   "cell_type": "code",
   "execution_count": null,
   "metadata": {
    "colab": {
     "base_uri": "https://localhost:8080/"
    },
    "id": "hxNgwNpwgh2s",
    "outputId": "ccf254c1-04c9-4a1e-f53f-6b5eb0ed83e0"
   },
   "outputs": [
    {
     "name": "stdout",
     "output_type": "stream",
     "text": [
      "Requirement already satisfied: gmplot in /usr/local/lib/python3.7/dist-packages (1.4.1)\n",
      "Requirement already satisfied: requests in /usr/local/lib/python3.7/dist-packages (from gmplot) (2.23.0)\n",
      "Requirement already satisfied: certifi>=2017.4.17 in /usr/local/lib/python3.7/dist-packages (from requests->gmplot) (2020.12.5)\n",
      "Requirement already satisfied: urllib3!=1.25.0,!=1.25.1,<1.26,>=1.21.1 in /usr/local/lib/python3.7/dist-packages (from requests->gmplot) (1.24.3)\n",
      "Requirement already satisfied: idna<3,>=2.5 in /usr/local/lib/python3.7/dist-packages (from requests->gmplot) (2.10)\n",
      "Requirement already satisfied: chardet<4,>=3.0.2 in /usr/local/lib/python3.7/dist-packages (from requests->gmplot) (3.0.4)\n"
     ]
    }
   ],
   "source": [
    "!pip install gmplot\n",
    " "
   ]
  },
  {
   "cell_type": "code",
   "execution_count": null,
   "metadata": {
    "id": "x0FE-rXphjmb"
   },
   "outputs": [],
   "source": [
    "#lat long: 18,486703,73.815898 \n",
    "import gmplot\n",
    "# googlemaplotter returns MapObject\n",
    "# Pass the center latitude and longitude\n",
    "\n",
    "lat = 18.486703\n",
    "longi = 73.815898\n",
    "gmap = gmplot.GoogleMapPlotter(lat,longi,15)\n",
    "gmap.coloricon = \"http://www.googlemapsmarkers.com/v1/%s/\"\n",
    "\n",
    "gmap.marker(lat,longi,'blue')\n",
    "\n",
    "gmap.draw(\"ccew16Apr.html\")"
   ]
  },
  {
   "cell_type": "code",
   "execution_count": null,
   "metadata": {
    "colab": {
     "base_uri": "https://localhost:8080/"
    },
    "id": "TUX_JgHZhjdx",
    "outputId": "55cf7540-293a-404e-c7c1-7336bb268968"
   },
   "outputs": [
    {
     "name": "stdout",
     "output_type": "stream",
     "text": [
      "/content\n",
      "ccew16Apr.html\tcoeprailst.csv\tsample_data\n"
     ]
    }
   ],
   "source": [
    "import os\n",
    "print(os.getcwd())\n",
    "!ls"
   ]
  },
  {
   "cell_type": "code",
   "execution_count": null,
   "metadata": {
    "colab": {
     "base_uri": "https://localhost:8080/",
     "height": 17
    },
    "id": "DzxrhQPChjWQ",
    "outputId": "15b22238-6ce7-4824-fa61-bc84a9ca41f2"
   },
   "outputs": [
    {
     "data": {
      "text/html": [
       "<html>\n",
       "<head>\n",
       "<meta name=\"viewport\" content=\"initial-scale=1.0, user-scalable=no\" />\n",
       "<meta http-equiv=\"content-type\" content=\"text/html; charset=UTF-8\" />\n",
       "<title>Google Maps - gmplot</title>\n",
       "<script type=\"text/javascript\" src=\"https://maps.googleapis.com/maps/api/js?libraries=visualization\"></script>\n",
       "<script type=\"text/javascript\">\n",
       "    function initialize() {\n",
       "        var map = new google.maps.Map(document.getElementById(\"map_canvas\"), {\n",
       "            zoom: 15,\n",
       "            center: new google.maps.LatLng(18.486703, 73.815898)\n",
       "        });\n",
       "\n",
       "        var marker_icon_0000FF = {\n",
       "            url: \"data:image/png;base64,iVBORw0KGgoAAAANSUhEUgAAABUAAAAiCAYAAACwaJKDAAAABmJLR0QA/wD/AP+gvaeTAAAB/UlEQVRIia3VMWsUQRgG4GcvJCqopZhITgs7EcVCLMTKwkJTqoj4C4ToT1AbRZSIjWCrRbCL2JigRlJFDCiIpBCSwogYRFGjiXKfxewSOS93l9t7Ydhjdr7n5nZn5jLNsweHsQMV1PAeU3jTova/HMU0gmpwPDibX6uR+k3n41omw1WyGqeDmaAWRF2biXQ/q6XxsmbgCFuChw2gRm0s0ngja8HDbAym2gSLNhWpznA9OIAf3FgnWLSbkeoN/IteYWew0iG6EuyK5KRlAkOcQ287L7NBeqV6Q0VPD5aZ6HCWRZuI5Oip5F/TR7XDWRapSo7eympnlERX6ytYSW2+JDqvsIr9/JbJkuik5KgVPZcZDJZLLKnBSM5q+vGNax2i1yPV66+f/3n6gmfrBCeDDZHqG+dWOiBetAm+DLZGqls7Ge4zECy0ABeL5ziqydFXZBNecywan6VFOxWYxeZWYJH9+M29NcDxkFb7kXbBIrfTz/tVB9aCg4EH6wVhG5a4W4c+CWmB7+0EhTvsq0NPBiY6BeEAglc5+CXyv44zZVCY5VKOjgaWtHjjlWY38zxiPP/4GJ7ie6lp4kTahsvB7sDFsiBsR34mZIFD3UDhExcCf6Qd1zTtPFOY4znpeP/ZLXSRdwXaMu2in/lKOoi7hn7MrwvdRD/k17l2Bv8FssfECaMr+zoAAAAASUVORK5CYII=\",\n",
       "            labelOrigin: new google.maps.Point(10, 11)\n",
       "        };\n",
       "\n",
       "        new google.maps.Marker({\n",
       "            position: new google.maps.LatLng(18.486703, 73.815898),\n",
       "            icon: marker_icon_0000FF,\n",
       "            map: map\n",
       "        });\n",
       "\n",
       "    }\n",
       "</script>\n",
       "</head>\n",
       "<body style=\"margin:0px; padding:0px;\" onload=\"initialize()\">\n",
       "    <div id=\"map_canvas\" style=\"width: 100%; height: 100%;\" />\n",
       "</body>\n",
       "</html>\n"
      ],
      "text/plain": [
       "<IPython.core.display.HTML object>"
      ]
     },
     "execution_count": 18,
     "metadata": {
      "tags": []
     },
     "output_type": "execute_result"
    }
   ],
   "source": [
    "import IPython\n",
    "IPython.display.HTML(open('/content/ccew16Apr.html').read())"
   ]
  },
  {
   "cell_type": "code",
   "execution_count": null,
   "metadata": {
    "colab": {
     "base_uri": "https://localhost:8080/",
     "height": 641
    },
    "id": "ofxr1-BGgT7g",
    "outputId": "fadccd63-3027-4660-a618-2fe850885a89"
   },
   "outputs": [
    {
     "data": {
      "text/html": [
       "\n",
       "        <iframe\n",
       "            width=\"900\"\n",
       "            height=\"600\"\n",
       "            src=\"/content/ccew16Apr.html\"\n",
       "            frameborder=\"0\"\n",
       "            allowfullscreen\n",
       "        ></iframe>\n",
       "        "
      ],
      "text/plain": [
       "<IPython.lib.display.IFrame at 0x7f0202d28b90>"
      ]
     },
     "execution_count": 19,
     "metadata": {
      "tags": []
     },
     "output_type": "execute_result"
    }
   ],
   "source": [
    "from IPython.display import IFrame\n",
    "IFrame(src='/content/ccew16Apr.html', width=900, height=600)"
   ]
  },
  {
   "cell_type": "code",
   "execution_count": null,
   "metadata": {
    "id": "BRPGawWcihS_"
   },
   "outputs": [],
   "source": [
    "#7FFFD4"
   ]
  },
  {
   "cell_type": "code",
   "execution_count": null,
   "metadata": {
    "colab": {
     "base_uri": "https://localhost:8080/"
    },
    "id": "OpXSmnOVlYFI",
    "outputId": "2095a57f-c9c5-44a9-f324-4bcbfd99de01"
   },
   "outputs": [
    {
     "name": "stdout",
     "output_type": "stream",
     "text": [
      "18.52952 73.85655\n",
      "18.52992 73.85676\n",
      "18.52979 73.86048\n",
      "18.52973 73.8615\n",
      "18.5258 73.86687\n",
      "18.52681 73.87032\n",
      "18.52752 73.87192\n",
      "18.52805 73.87318\n",
      "18.52838 73.87429\n",
      "18.52913 73.87443\n"
     ]
    }
   ],
   "source": [
    "import csv\n",
    "from gmplot import gmplot\n",
    "\n",
    "gmap = gmplot.GoogleMapPlotter(lat,longi,15)\n",
    "gmap.coloricon = \"http://www.googlemapsmarkers.com/v1/%s/\"\n",
    "\n",
    "with open('coeprailst.csv','r') as file:\n",
    "  reader = csv.reader(file)\n",
    "  i=0\n",
    "  for row in reader:\n",
    "    lat = float(row[0])\n",
    "    longi = float(row[1])\n",
    "    print(lat,longi)\n",
    "    if i==0:\n",
    "      gmap.marker(lat,longi,'green')\n",
    "      i=1\n",
    "    else:\n",
    "      gmap.marker(lat,longi,'blue')\n",
    "if i==1:\n",
    "  gmap.marker(lat,longi,'magenta')\n",
    "\n",
    "gmap.draw('coeprail.html')\n",
    "file.close()"
   ]
  },
  {
   "cell_type": "code",
   "execution_count": null,
   "metadata": {
    "colab": {
     "background_save": true
    },
    "id": "bYN5eAyHoY6i",
    "outputId": "ca7c0a31-3c1e-4353-e7bc-6ddf44d7dbab"
   },
   "outputs": [
    {
     "name": "stdout",
     "output_type": "stream",
     "text": [
      "/content\n",
      "ccew16Apr.html\tcoeprail.html  coeprailst.csv  sample_data\n"
     ]
    }
   ],
   "source": [
    "import os\n",
    "print(os.getcwd())\n",
    "!ls"
   ]
  },
  {
   "cell_type": "code",
   "execution_count": 23,
   "metadata": {
    "colab": {
     "base_uri": "https://localhost:8080/",
     "height": 17
    },
    "id": "uSyIFbRrojlh",
    "outputId": "75105170-cc53-40fe-aca7-c46c89ce859d"
   },
   "outputs": [
    {
     "data": {
      "text/html": [
       "<html>\n",
       "<head>\n",
       "<meta name=\"viewport\" content=\"initial-scale=1.0, user-scalable=no\" />\n",
       "<meta http-equiv=\"content-type\" content=\"text/html; charset=UTF-8\" />\n",
       "<title>Google Maps - gmplot</title>\n",
       "<script type=\"text/javascript\" src=\"https://maps.googleapis.com/maps/api/js?libraries=visualization\"></script>\n",
       "<script type=\"text/javascript\">\n",
       "    function initialize() {\n",
       "        var map = new google.maps.Map(document.getElementById(\"map_canvas\"), {\n",
       "            zoom: 15,\n",
       "            center: new google.maps.LatLng(18.486703, 73.815898)\n",
       "        });\n",
       "\n",
       "        var marker_icon_0000FF = {\n",
       "            url: \"data:image/png;base64,iVBORw0KGgoAAAANSUhEUgAAABUAAAAiCAYAAACwaJKDAAAABmJLR0QA/wD/AP+gvaeTAAAB/UlEQVRIia3VMWsUQRgG4GcvJCqopZhITgs7EcVCLMTKwkJTqoj4C4ToT1AbRZSIjWCrRbCL2JigRlJFDCiIpBCSwogYRFGjiXKfxewSOS93l9t7Ydhjdr7n5nZn5jLNsweHsQMV1PAeU3jTova/HMU0gmpwPDibX6uR+k3n41omw1WyGqeDmaAWRF2biXQ/q6XxsmbgCFuChw2gRm0s0ngja8HDbAym2gSLNhWpznA9OIAf3FgnWLSbkeoN/IteYWew0iG6EuyK5KRlAkOcQ287L7NBeqV6Q0VPD5aZ6HCWRZuI5Oip5F/TR7XDWRapSo7eympnlERX6ytYSW2+JDqvsIr9/JbJkuik5KgVPZcZDJZLLKnBSM5q+vGNax2i1yPV66+f/3n6gmfrBCeDDZHqG+dWOiBetAm+DLZGqls7Ge4zECy0ABeL5ziqydFXZBNecywan6VFOxWYxeZWYJH9+M29NcDxkFb7kXbBIrfTz/tVB9aCg4EH6wVhG5a4W4c+CWmB7+0EhTvsq0NPBiY6BeEAglc5+CXyv44zZVCY5VKOjgaWtHjjlWY38zxiPP/4GJ7ie6lp4kTahsvB7sDFsiBsR34mZIFD3UDhExcCf6Qd1zTtPFOY4znpeP/ZLXSRdwXaMu2in/lKOoi7hn7MrwvdRD/k17l2Bv8FssfECaMr+zoAAAAASUVORK5CYII=\",\n",
       "            labelOrigin: new google.maps.Point(10, 11)\n",
       "        };\n",
       "\n",
       "        new google.maps.Marker({\n",
       "            position: new google.maps.LatLng(18.486703, 73.815898),\n",
       "            icon: marker_icon_0000FF,\n",
       "            map: map\n",
       "        });\n",
       "\n",
       "    }\n",
       "</script>\n",
       "</head>\n",
       "<body style=\"margin:0px; padding:0px;\" onload=\"initialize()\">\n",
       "    <div id=\"map_canvas\" style=\"width: 100%; height: 100%;\" />\n",
       "</body>\n",
       "</html>\n"
      ],
      "text/plain": [
       "<IPython.core.display.HTML object>"
      ]
     },
     "execution_count": 23,
     "metadata": {
      "tags": []
     },
     "output_type": "execute_result"
    }
   ],
   "source": [
    "import IPython\n",
    "IPython.display.HTML(open('/content/ccew16Apr.html').read())"
   ]
  },
  {
   "cell_type": "code",
   "execution_count": 24,
   "metadata": {
    "colab": {
     "base_uri": "https://localhost:8080/",
     "height": 641
    },
    "id": "Cp8Es_uKowHY",
    "outputId": "218dcc8d-3a9d-4fe0-81de-2f8a3cb1d4f7"
   },
   "outputs": [
    {
     "data": {
      "text/html": [
       "\n",
       "        <iframe\n",
       "            width=\"900\"\n",
       "            height=\"600\"\n",
       "            src=\"/content/ccew16Apr.html\"\n",
       "            frameborder=\"0\"\n",
       "            allowfullscreen\n",
       "        ></iframe>\n",
       "        "
      ],
      "text/plain": [
       "<IPython.lib.display.IFrame at 0x7f01fef61a90>"
      ]
     },
     "execution_count": 24,
     "metadata": {
      "tags": []
     },
     "output_type": "execute_result"
    }
   ],
   "source": [
    "from IPython.display import IFrame\n",
    "IFrame(src='/content/ccew16Apr.html', width=900, height=600)"
   ]
  },
  {
   "cell_type": "code",
   "execution_count": null,
   "metadata": {
    "id": "YcRK1UZjo1hA"
   },
   "outputs": [],
   "source": []
  }
 ],
 "metadata": {
  "colab": {
   "collapsed_sections": [],
   "name": "gmplot_joc.ipynb",
   "provenance": []
  },
  "kernelspec": {
   "display_name": "Python 3",
   "language": "python",
   "name": "python3"
  },
  "language_info": {
   "codemirror_mode": {
    "name": "ipython",
    "version": 3
   },
   "file_extension": ".py",
   "mimetype": "text/x-python",
   "name": "python",
   "nbconvert_exporter": "python",
   "pygments_lexer": "ipython3",
   "version": "3.8.5"
  }
 },
 "nbformat": 4,
 "nbformat_minor": 1
}
