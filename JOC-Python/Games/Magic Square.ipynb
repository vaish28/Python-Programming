{
 "cells": [
  {
   "cell_type": "code",
   "execution_count": 1,
   "metadata": {},
   "outputs": [
    {
     "name": "stdout",
     "output_type": "stream",
     "text": [
      "[[0, 0, 0], [0, 0, 0], [0, 0, 0]]\n",
      " 2  7  6 \n",
      " 9  5  1 \n",
      " 4  3  8 \n"
     ]
    }
   ],
   "source": [
    "def magic_square_generator(num):\n",
    "    magic_Square = []\n",
    "    magic_Square = [[0 for x in range(num)]\n",
    "                   for y in range(num)]\n",
    "    print(magic_Square)\n",
    "    i = num/2\n",
    "    j = num-1\n",
    "    value = 1\n",
    "    while(value<=num*num):\n",
    "        if(i== -1 and  j==num):\n",
    "            j=num-2\n",
    "            i=0\n",
    "        else:\n",
    "            \n",
    "            if(i<0):\n",
    "                i=num-1\n",
    "                \n",
    "            if(j==num):\n",
    "                j=0\n",
    "        if(magic_Square[int(i)][int(j)]!=0):\n",
    "            j = j-2\n",
    "            i = i+1\n",
    "            continue\n",
    "        else:\n",
    "            magic_Square[int(i)][int(j)] = value\n",
    "            value = value + 1\n",
    "        j = j+1\n",
    "        i = i-1\n",
    "    for i in range(num):\n",
    "        for j in range(num):\n",
    "            print('%2d ' % (magic_Square[i][j]), end='')\n",
    "            if j == num - 1:\n",
    "                print()\n",
    "    \n",
    "magic_square_generator(3)    \n",
    "    "
   ]
  },
  {
   "cell_type": "code",
   "execution_count": null,
   "metadata": {},
   "outputs": [],
   "source": []
  }
 ],
 "metadata": {
  "kernelspec": {
   "display_name": "Python 3",
   "language": "python",
   "name": "python3"
  },
  "language_info": {
   "codemirror_mode": {
    "name": "ipython",
    "version": 3
   },
   "file_extension": ".py",
   "mimetype": "text/x-python",
   "name": "python",
   "nbconvert_exporter": "python",
   "pygments_lexer": "ipython3",
   "version": "3.8.5"
  }
 },
 "nbformat": 4,
 "nbformat_minor": 4
}
