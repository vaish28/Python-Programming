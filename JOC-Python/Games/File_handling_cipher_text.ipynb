{
 "cells": [
  {
   "cell_type": "code",
   "execution_count": 2,
   "metadata": {},
   "outputs": [
    {
     "name": "stdout",
     "output_type": "stream",
     "text": [
      "{'a': 'Y', 'b': 'Z', 'c': 'a', 'd': 'b', 'e': 'c', 'f': 'd', 'g': 'e', 'h': 'f', 'i': 'g', 'j': 'h', 'k': 'i', 'l': 'j', 'm': 'k', 'n': 'l', 'o': 'm', 'p': 'n', 'q': 'o', 'r': 'p', 's': 'q', 't': 'r', 'u': 's', 'v': 't', 'w': 'u', 'x': 'v', 'y': 'w', 'z': 'x', 'A': 'y', 'B': 'z', 'C': 'A', 'D': 'B', 'E': 'C', 'F': 'D', 'G': 'E', 'H': 'F', 'I': 'G', 'J': 'H', 'K': 'I', 'L': 'J', 'M': 'K', 'N': 'L', 'O': 'M', 'P': 'N', 'Q': 'O', 'R': 'P', 'S': 'Q', 'T': 'R', 'U': 'S', 'V': 'T', 'W': 'U', 'X': 'V', 'Y': 'W', 'Z': 'X'}\n"
     ]
    }
   ],
   "source": [
    "import string\n",
    "\n",
    "ci_dict = {}\n",
    "\n",
    "for i in range(len(string.ascii_letters)):\n",
    "    ci_dict[string.ascii_letters[i]] = string.ascii_letters[i-2]\n",
    "\n",
    "print(ci_dict)"
   ]
  },
  {
   "cell_type": "code",
   "execution_count": 1,
   "metadata": {},
   "outputs": [
    {
     "name": "stdout",
     "output_type": "stream",
     "text": [
      "I have cipher algorithm\n"
     ]
    }
   ],
   "source": [
    "with open('f1.txt','w') as f:\n",
    "    f.write('I have cipher algorithm')\n",
    "f.close()\n",
    "\n",
    "with open('f1.txt','r') as f:\n",
    "    print(f.read())\n",
    "f.close()"
   ]
  },
  {
   "cell_type": "code",
   "execution_count": 5,
   "metadata": {},
   "outputs": [
    {
     "name": "stdout",
     "output_type": "stream",
     "text": [
      "I have cipher algorithmand it is encodedand it is encoded and it is encoded\n"
     ]
    }
   ],
   "source": [
    "with open('f1.txt','a') as f:\n",
    "    f.write(' and it is encoded')\n",
    "f.close()\n",
    "\n",
    "with open('f1.txt','r') as f:\n",
    "    print(f.read())\n",
    "f.close()"
   ]
  },
  {
   "cell_type": "code",
   "execution_count": 5,
   "metadata": {},
   "outputs": [],
   "source": [
    "with open('in_file.txt','w') as f:\n",
    "    f.write('i have secret message of 3 characters and 1 special character,Meet me at the 12 secret door and using 3rd lane and stop at $ symbole')\n",
    "f.close()"
   ]
  },
  {
   "cell_type": "code",
   "execution_count": 6,
   "metadata": {},
   "outputs": [
    {
     "name": "stdout",
     "output_type": "stream",
     "text": [
      "i have secret message of 3 characters and 1 special character,Meet me at the 12 secret door and using 3rd lane and stop at $ symbole\n"
     ]
    }
   ],
   "source": [
    "with open('in_file.txt','r') as f:\n",
    "    print(f.read())\n",
    "f.close()"
   ]
  },
  {
   "cell_type": "code",
   "execution_count": 8,
   "metadata": {},
   "outputs": [
    {
     "name": "stdout",
     "output_type": "stream",
     "text": [
      "{'a': 'Y', 'b': 'Z', 'c': 'a', 'd': 'b', 'e': 'c', 'f': 'd', 'g': 'e', 'h': 'f', 'i': 'g', 'j': 'h', 'k': 'i', 'l': 'j', 'm': 'k', 'n': 'l', 'o': 'm', 'p': 'n', 'q': 'o', 'r': 'p', 's': 'q', 't': 'r', 'u': 's', 'v': 't', 'w': 'u', 'x': 'v', 'y': 'w', 'z': 'x', 'A': 'y', 'B': 'z', 'C': 'A', 'D': 'B', 'E': 'C', 'F': 'D', 'G': 'E', 'H': 'F', 'I': 'G', 'J': 'H', 'K': 'I', 'L': 'J', 'M': 'K', 'N': 'L', 'O': 'M', 'P': 'N', 'Q': 'O', 'R': 'P', 'S': 'Q', 'T': 'R', 'U': 'S', 'V': 'T', 'W': 'U', 'X': 'V', 'Y': 'W', 'Z': 'X'}\n",
      "g\n",
      " \n",
      "f\n",
      "Y\n",
      "t\n",
      "c\n",
      " \n",
      "q\n",
      "c\n",
      "a\n",
      "p\n",
      "c\n",
      "r\n",
      " \n",
      "k\n",
      "c\n",
      "q\n",
      "q\n",
      "Y\n",
      "e\n",
      "c\n",
      " \n",
      "m\n",
      "d\n",
      " \n",
      "3\n",
      " \n",
      "a\n",
      "f\n",
      "Y\n",
      "p\n",
      "Y\n",
      "a\n",
      "r\n",
      "c\n",
      "p\n",
      "q\n",
      " \n",
      "Y\n",
      "l\n",
      "b\n",
      " \n",
      "1\n",
      " \n",
      "q\n",
      "n\n",
      "c\n",
      "a\n",
      "g\n",
      "Y\n",
      "j\n",
      " \n",
      "a\n",
      "f\n",
      "Y\n",
      "p\n",
      "Y\n",
      "a\n",
      "r\n",
      "c\n",
      "p\n",
      ",\n",
      "K\n",
      "c\n",
      "c\n",
      "r\n",
      " \n",
      "k\n",
      "c\n",
      " \n",
      "Y\n",
      "r\n",
      " \n",
      "r\n",
      "f\n",
      "c\n",
      " \n",
      "1\n",
      "2\n",
      " \n",
      "q\n",
      "c\n",
      "a\n",
      "p\n",
      "c\n",
      "r\n",
      " \n",
      "b\n",
      "m\n",
      "m\n",
      "p\n",
      " \n",
      "Y\n",
      "l\n",
      "b\n",
      " \n",
      "s\n",
      "q\n",
      "g\n",
      "l\n",
      "e\n",
      " \n",
      "3\n",
      "p\n",
      "b\n",
      " \n",
      "j\n",
      "Y\n",
      "l\n",
      "c\n",
      " \n",
      "Y\n",
      "l\n",
      "b\n",
      " \n",
      "q\n",
      "r\n",
      "m\n",
      "n\n",
      " \n",
      "Y\n",
      "r\n",
      " \n",
      "$\n",
      " \n",
      "q\n",
      "w\n",
      "k\n",
      "Z\n",
      "m\n",
      "j\n",
      "c\n",
      "End of file\n"
     ]
    }
   ],
   "source": [
    "import string\n",
    "diction = {}\n",
    "data=\"\"\n",
    "to_convert = open(\"in_file.txt\",\"r\")\n",
    "converted = open(\"output_file.txt\",\"w\")\n",
    "\n",
    "for i in range(len(string.ascii_letters)):\n",
    "    diction[string.ascii_letters[i]] = string.ascii_letters[i-2]\n",
    "\n",
    "print(diction)\n",
    "\n",
    "while True:\n",
    "    content = to_convert.read(1)\n",
    "    \n",
    "    \n",
    "    if not content:\n",
    "        print(\"End of file\")\n",
    "        break\n",
    "    \n",
    "    if content in diction:\n",
    "        data = diction[content]\n",
    "        \n",
    "    else:\n",
    "        data = content\n",
    "        \n",
    "    print(data)\n",
    "    converted.write(data)\n",
    "    \n",
    "converted.close()"
   ]
  }
 ],
 "metadata": {
  "kernelspec": {
   "display_name": "Python 3",
   "language": "python",
   "name": "python3"
  },
  "language_info": {
   "codemirror_mode": {
    "name": "ipython",
    "version": 3
   },
   "file_extension": ".py",
   "mimetype": "text/x-python",
   "name": "python",
   "nbconvert_exporter": "python",
   "pygments_lexer": "ipython3",
   "version": "3.8.5"
  }
 },
 "nbformat": 4,
 "nbformat_minor": 4
}
