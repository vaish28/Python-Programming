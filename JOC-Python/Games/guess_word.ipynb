{
 "cells": [
  {
   "cell_type": "code",
   "execution_count": 1,
   "metadata": {},
   "outputs": [
    {
     "name": "stdout",
     "output_type": "stream",
     "text": [
      "Hello! enter your name player: va\n",
      "Hello! enter your name player: ma\n",
      "toiiendtsan\n",
      "It is your turn va\n",
      "What is your guess?dsds\n",
      "Oh! you got it wrong! correct answer is destination\n",
      "To continue press 1 else press 0: 1\n",
      "aknraaegrv\n",
      "It is your turn ma\n",
      "What is your guess?karvenagar\n",
      "you got it!! your score is 1\n",
      "To continue press 1 else press 0: 1\n",
      "ogpnmecg\n",
      "It is your turn va\n",
      "What is your guess?openmcg\n",
      "Oh! you got it wrong! correct answer is compengg\n",
      "To continue press 1 else press 0: 0\n",
      "Thanks for playing va your score is: 0\n",
      "Thanks for playing ma your score is: 1\n",
      "have a great day!\n"
     ]
    }
   ],
   "source": [
    "import random\n",
    "\n",
    "def select_word():\n",
    "    words=[\"elective\",\"education\",\"destination\",\"autonomous\",\"compengg\",\"karvenagar\"]\n",
    "    key=random.choice(words)\n",
    "    return key\n",
    "\n",
    "def mix(word):\n",
    "    new=\"\".join(random.sample(word,len(word)))\n",
    "    return new\n",
    "\n",
    "def thanks(pn1,pn2,ps1,ps2):\n",
    "    print(\"Thanks for playing\",pn1,\"your score is:\",ps1)\n",
    "    print(\"Thanks for playing\",pn2,\"your score is:\",ps2)\n",
    "    print(\"have a great day!\")\n",
    "    return\n",
    "\n",
    "def game():\n",
    "    \n",
    "    ply1=0\n",
    "    ply2=0\n",
    "    turn=0\n",
    "    \n",
    "    play1=input(\"Hello! enter your name player: \")\n",
    "    play2=input(\"Hello! enter your name player: \")\n",
    "    \n",
    "    \n",
    "    while(1):\n",
    "        guess = select_word()\n",
    "        ask = mix(guess)\n",
    "        print (ask)\n",
    "        if turn%2 == 0:\n",
    "            print(\"It is your turn\",play1)\n",
    "            ans = input(\"What is your guess?\")\n",
    "            if ans==guess:\n",
    "                ply1=ply1+1\n",
    "                print(\"you got it!! your score is\",ply1)\n",
    "            else:\n",
    "                print(\"Oh! you got it wrong! correct answer is\",guess)\n",
    "                \n",
    "            contd=int(input(\"To continue press 1 else press 0: \"))\n",
    "            if contd==0:\n",
    "                thanks(play1,play2,ply1,ply2)\n",
    "                break\n",
    "        \n",
    "        else:\n",
    "            print(\"It is your turn\",play2)\n",
    "            ans = input(\"What is your guess?\")\n",
    "            if ans==guess:\n",
    "                ply2=ply2+1\n",
    "                print(\"you got it!! your score is\",ply2)\n",
    "            else:\n",
    "                print(\"Oh! you got it wrong! correct answer is\",guess)\n",
    "                \n",
    "            contd=int(input(\"To continue press 1 else press 0: \"))\n",
    "            if contd==0:\n",
    "                thanks(play1,play2,ply1,ply2)\n",
    "                break\n",
    "        turn=turn+1\n",
    "            \n",
    "    \n",
    "game()   "
   ]
  },
  {
   "cell_type": "code",
   "execution_count": null,
   "metadata": {},
   "outputs": [],
   "source": []
  }
 ],
 "metadata": {
  "kernelspec": {
   "display_name": "Python 3",
   "language": "python",
   "name": "python3"
  },
  "language_info": {
   "codemirror_mode": {
    "name": "ipython",
    "version": 3
   },
   "file_extension": ".py",
   "mimetype": "text/x-python",
   "name": "python",
   "nbconvert_exporter": "python",
   "pygments_lexer": "ipython3",
   "version": "3.8.5"
  }
 },
 "nbformat": 4,
 "nbformat_minor": 4
}
