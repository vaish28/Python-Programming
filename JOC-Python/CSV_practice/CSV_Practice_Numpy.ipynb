{
 "cells": [
  {
   "cell_type": "code",
   "execution_count": 3,
   "metadata": {},
   "outputs": [
    {
     "name": "stdout",
     "output_type": "stream",
     "text": [
      "ï»¿department_id,department_name,manager_id,location_id\n",
      "10,Administration,200,1700\n",
      "20,Marketing,201,1800\n",
      "30,Purchasing,114,1700\n",
      "40,Human Resources,203,2400\n",
      "50,Shipping,121,500\n",
      "60,IT,103,1400\n"
     ]
    }
   ],
   "source": [
    "import csv\n",
    "with open('practice.csv','r') as csv_file:\n",
    "    data = csv.reader(csv_file)\n",
    "    for row in data:\n",
    "        print(','.join(row))"
   ]
  },
  {
   "cell_type": "code",
   "execution_count": 4,
   "metadata": {},
   "outputs": [
    {
     "name": "stdout",
     "output_type": "stream",
     "text": [
      "['ï»¿department_id,department_name,manager_id,location_id']\n",
      "['10,Administration,200,1700']\n",
      "['20,Marketing,201,1800']\n",
      "['30,Purchasing,114,1700']\n",
      "['40,Human Resources,203,2400']\n",
      "['50,Shipping,121,500']\n",
      "['60,IT,103,1400']\n"
     ]
    }
   ],
   "source": [
    "import csv\n",
    "with open('practice.csv', 'r') as file:\n",
    "    reader = csv.reader(file, delimiter = '\\t')\n",
    "    for row in reader:\n",
    "        print(row)"
   ]
  },
  {
   "cell_type": "code",
   "execution_count": null,
   "metadata": {},
   "outputs": [],
   "source": []
  },
  {
   "cell_type": "code",
   "execution_count": 16,
   "metadata": {},
   "outputs": [
    {
     "name": "stdout",
     "output_type": "stream",
     "text": [
      "2608\n",
      "1211\n",
      "1397\n"
     ]
    }
   ],
   "source": [
    "total_col_1=0\n",
    "total_col_2=0\n",
    "total_row=0\n",
    "with open(\"my_num.csv\",'r') as file:\n",
    "    data = csv.reader(file)\n",
    "    fields = next(data)\n",
    "    for row in data:\n",
    "        #print(row[1])\n",
    "        #print(row[0])\n",
    "        total_col_1 += int(row[0])\n",
    "        total_col_2 += int(row[1])\n",
    "        total_row += int(row[0])+int(row[1])\n",
    "print(total_row)\n",
    "print(total_col_1)\n",
    "print(total_col_2)"
   ]
  },
  {
   "cell_type": "code",
   "execution_count": 19,
   "metadata": {},
   "outputs": [
    {
     "name": "stdout",
     "output_type": "stream",
     "text": [
      "[[1 2 3]\n",
      " [4 5 6]\n",
      " [7 8 9]]\n"
     ]
    }
   ],
   "source": [
    "import numpy as np\n",
    "a = np.arange(1,10).reshape(3,3)\n",
    "print(a)"
   ]
  },
  {
   "cell_type": "code",
   "execution_count": 22,
   "metadata": {},
   "outputs": [
    {
     "name": "stdout",
     "output_type": "stream",
     "text": [
      "Values bigger than 3 = [4 5 6 7 8 9]\n"
     ]
    }
   ],
   "source": [
    "number_gt = []\n",
    "#number_gt = [x for x in a if x>3]\n",
    "print(\"Values bigger than 3 =\", a[a>3])"
   ]
  },
  {
   "cell_type": "code",
   "execution_count": 23,
   "metadata": {},
   "outputs": [
    {
     "name": "stdout",
     "output_type": "stream",
     "text": [
      "[['ï»¿department_id', 'department_name', 'manager_id', 'location_id'], ['10', 'Administration', '200', '1700'], ['20', 'Marketing', '201', '1800'], ['30', 'Purchasing', '114', '1700'], ['40', 'Human Resources', '203', '2400'], ['50', 'Shipping', '121', '500'], ['60', 'IT', '103', '1400']]\n"
     ]
    }
   ],
   "source": [
    "import csv\n",
    "with open('practice.csv', newline='') as f:\n",
    "    reader = csv.reader(f)\n",
    "    data_list = list(reader)\n",
    "print(data_list)"
   ]
  },
  {
   "cell_type": "code",
   "execution_count": 24,
   "metadata": {},
   "outputs": [
    {
     "name": "stdout",
     "output_type": "stream",
     "text": [
      "CSV file as a dictionary:\n",
      "\n",
      "{'ï»¿department_id': '10', 'department_name': 'Administration', 'manager_id': '200', 'location_id': '1700'}\n",
      "{'ï»¿department_id': '20', 'department_name': 'Marketing', 'manager_id': '201', 'location_id': '1800'}\n",
      "{'ï»¿department_id': '30', 'department_name': 'Purchasing', 'manager_id': '114', 'location_id': '1700'}\n",
      "{'ï»¿department_id': '40', 'department_name': 'Human Resources', 'manager_id': '203', 'location_id': '2400'}\n",
      "{'ï»¿department_id': '50', 'department_name': 'Shipping', 'manager_id': '121', 'location_id': '500'}\n",
      "{'ï»¿department_id': '60', 'department_name': 'IT', 'manager_id': '103', 'location_id': '1400'}\n"
     ]
    }
   ],
   "source": [
    "import csv\n",
    "data = csv.DictReader(open(\"practice.csv\"))\n",
    "print(\"CSV file as a dictionary:\\n\")\n",
    "for row in data:\n",
    "    print(row)"
   ]
  },
  {
   "cell_type": "code",
   "execution_count": null,
   "metadata": {},
   "outputs": [],
   "source": []
  }
 ],
 "metadata": {
  "kernelspec": {
   "display_name": "Python 3",
   "language": "python",
   "name": "python3"
  },
  "language_info": {
   "codemirror_mode": {
    "name": "ipython",
    "version": 3
   },
   "file_extension": ".py",
   "mimetype": "text/x-python",
   "name": "python",
   "nbconvert_exporter": "python",
   "pygments_lexer": "ipython3",
   "version": "3.8.5"
  }
 },
 "nbformat": 4,
 "nbformat_minor": 4
}
