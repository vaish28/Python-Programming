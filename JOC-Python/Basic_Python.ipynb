{
 "cells": [
  {
   "cell_type": "code",
   "execution_count": 1,
   "metadata": {},
   "outputs": [
    {
     "name": "stdout",
     "output_type": "stream",
     "text": [
      "what is your name? Supriya\n",
      "Hello  Supriya How are you doing today\n"
     ]
    }
   ],
   "source": [
    "name=input('what is your name? ')\n",
    "print('Hello ', name, 'How are you doing today')"
   ]
  },
  {
   "cell_type": "code",
   "execution_count": 3,
   "metadata": {},
   "outputs": [
    {
     "name": "stdout",
     "output_type": "stream",
     "text": [
      "Give me a number whose table you would like to see:5\n",
      "5  X  1  =  5\n",
      "5  X  2  =  10\n",
      "5  X  3  =  15\n",
      "5  X  4  =  20\n",
      "5  X  5  =  25\n",
      "5  X  6  =  30\n",
      "5  X  7  =  35\n",
      "5  X  8  =  40\n",
      "5  X  9  =  45\n",
      "5  X  10  =  50\n"
     ]
    }
   ],
   "source": [
    "n=int(input('Give me a number whose table you would like to see:'))\n",
    "for i in range(1,11):\n",
    "    print(n,' X ', i, ' = ', (n*i))"
   ]
  },
  {
   "cell_type": "code",
   "execution_count": 4,
   "metadata": {},
   "outputs": [
    {
     "name": "stdout",
     "output_type": "stream",
     "text": [
      "hello girls\n"
     ]
    }
   ],
   "source": [
    "def hello():\n",
    "    print('hello girls')\n",
    "    \n",
    "\n",
    "# main code\n",
    "hello()\n"
   ]
  },
  {
   "cell_type": "code",
   "execution_count": 8,
   "metadata": {},
   "outputs": [
    {
     "name": "stdout",
     "output_type": "stream",
     "text": [
      "adding 200 and 100\n",
      "asubtracting 150 and 50\n",
      "multiplying 15 and 20\n",
      "mdivinging 150 and 90\n",
      "sum is 300\n",
      "result of subtraction is 100\n",
      "product is 300\n",
      "quotient is 1 and remainder is 60\n"
     ]
    }
   ],
   "source": [
    "def add_2nos(a,b):\n",
    "    print('adding %d and %d' %(a,b))\n",
    "    return a+b   \n",
    "    \n",
    "  \n",
    "def sub_2nos(a,b):\n",
    "    print('asubtracting %d and %d' %(a,b))\n",
    "    return a-b  \n",
    "    \n",
    "  \n",
    "def mul_2nos(a,b):\n",
    "    print('multiplying %d and %d' %(a,b))\n",
    "    return a*b  \n",
    "    \n",
    "    \n",
    "def div_2nos(a,b):\n",
    "     print('mdivinging %d and %d' %(a,b))\n",
    "     return (a/b, a%b)\n",
    "    \n",
    "    \n",
    "    \n",
    "# Main code\n",
    "\n",
    "sum_2nos=add_2nos(200,100)\n",
    "result=sub_2nos(150,50)\n",
    "prod=mul_2nos(15,20)\n",
    "quo,rem=div_2nos(150,90)\n",
    "\n",
    "print('sum is %d' %(sum_2nos))\n",
    "print('result of subtraction is %d' %(result))\n",
    "print('product is %d' %(prod))\n",
    "print('quotient is %d and remainder is %d' %(quo,rem))\n"
   ]
  }
 ],
 "metadata": {
  "kernelspec": {
   "display_name": "Python 3",
   "language": "python",
   "name": "python3"
  },
  "language_info": {
   "codemirror_mode": {
    "name": "ipython",
    "version": 3
   },
   "file_extension": ".py",
   "mimetype": "text/x-python",
   "name": "python",
   "nbconvert_exporter": "python",
   "pygments_lexer": "ipython3",
   "version": "3.8.5"
  }
 },
 "nbformat": 4,
 "nbformat_minor": 2
}
