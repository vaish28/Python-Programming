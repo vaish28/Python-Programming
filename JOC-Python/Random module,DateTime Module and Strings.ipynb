{
 "cells": [
  {
   "cell_type": "code",
   "execution_count": 5,
   "metadata": {},
   "outputs": [
    {
     "name": "stdout",
     "output_type": "stream",
     "text": [
      "abcdefghijklmnopqrstuvwxyzABCDEFGHIJKLMNOPQRSTUVWXYZ\n",
      "abcdefghijklmnopqrstuvwxyz\n",
      "ABCDEFGHIJKLMNOPQRSTUVWXYZ\n",
      "0123456789\n",
      "0123456789abcdefABCDEF\n",
      "01234567\n",
      "!\"#$%&'()*+,-./:;<=>?@[\\]^_`{|}~\n"
     ]
    }
   ],
   "source": [
    "import string\n",
    "print(string.ascii_letters)\n",
    "print(string.ascii_lowercase)\n",
    "print(string.ascii_uppercase)\n",
    "print(string.digits)\n",
    "print(string.hexdigits)\n",
    "print(string.octdigits)\n",
    "print(string.punctuation)"
   ]
  },
  {
   "cell_type": "code",
   "execution_count": 6,
   "metadata": {},
   "outputs": [
    {
     "data": {
      "text/plain": [
       "'int:16; hex:10; oct:20; bin:10000'"
      ]
     },
     "execution_count": 6,
     "metadata": {},
     "output_type": "execute_result"
    }
   ],
   "source": [
    "\"int:{0:d}; hex:{0:x}; oct:{0:o}; bin:{0:b}\".format(16)"
   ]
  },
  {
   "cell_type": "code",
   "execution_count": 7,
   "metadata": {},
   "outputs": [
    {
     "name": "stdout",
     "output_type": "stream",
     "text": [
      "int:16; hex:10; oct:20; bin:10000\n"
     ]
    }
   ],
   "source": [
    "print(\"int:{0:d}; hex:{0:x}; oct:{0:o}; bin:{0:b}\".format(16))"
   ]
  },
  {
   "cell_type": "code",
   "execution_count": 8,
   "metadata": {},
   "outputs": [
    {
     "name": "stdout",
     "output_type": "stream",
     "text": [
      "int :16; hex:0x10 ; oct:0o20 ; bin:0b10000\n"
     ]
    }
   ],
   "source": [
    "print(\"int :{0:d}; hex:{0:#x} ; oct:{0:#o} ; bin:{0:#b}\".format(16))"
   ]
  },
  {
   "cell_type": "code",
   "execution_count": 9,
   "metadata": {},
   "outputs": [
    {
     "data": {
      "text/plain": [
       "'Average marks:45.45%'"
      ]
     },
     "execution_count": 9,
     "metadata": {},
     "output_type": "execute_result"
    }
   ],
   "source": [
    "marks = 10\n",
    "avg =22\n",
    "'Average marks:{:.2%}'.format(marks/avg)"
   ]
  },
  {
   "cell_type": "code",
   "execution_count": 11,
   "metadata": {},
   "outputs": [
    {
     "name": "stdout",
     "output_type": "stream",
     "text": [
      "         5          5          5        101 \n",
      "         6          6          6        110 \n",
      "         7          7          7        111 \n",
      "         8          8         10       1000 \n",
      "         9          9         11       1001 \n",
      "        10          A         12       1010 \n",
      "        11          B         13       1011 \n",
      "        12          C         14       1100 \n",
      "        13          D         15       1101 \n",
      "        14          E         16       1110 \n"
     ]
    }
   ],
   "source": [
    "width = 10\n",
    "for num in range(5,15):\n",
    "    for base in 'dXob':\n",
    "        print('{0:{width}{base}}'.format(num,base=base,width=width),end=' ')\n",
    "    print()"
   ]
  },
  {
   "cell_type": "code",
   "execution_count": 27,
   "metadata": {},
   "outputs": [
    {
     "name": "stdout",
     "output_type": "stream",
     "text": [
      "Min allowed year 1\n",
      "Max allowed year 9999\n",
      "Weekday:  4\n",
      "ISO Weekday 5\n",
      "ISO calendar (2020, 53, 5)\n",
      "ISO calendar (2021, 1, 1)\n"
     ]
    }
   ],
   "source": [
    "import datetime\n",
    "from datetime import date\n",
    "\n",
    "print('Min allowed year', datetime.MINYEAR)\n",
    "print('Max allowed year',datetime.MAXYEAR)\n",
    "\n",
    "print('Weekday: ',date(2021,3,19).weekday())\n",
    "print('ISO Weekday',date(2021,3,19).isoweekday())\n",
    "print('ISO calendar',date(2021,1,1).isocalendar()) #week starts on monday\n",
    "print('ISO calendar',date(2021,1,4).isocalendar()) #week starts on monday"
   ]
  },
  {
   "cell_type": "code",
   "execution_count": 28,
   "metadata": {},
   "outputs": [
    {
     "name": "stdout",
     "output_type": "stream",
     "text": [
      "2021-03-19\n",
      "Year:  2021\n",
      "Year:  3\n",
      "Year:  19\n",
      "time is not displayed as no args  00:00:00\n",
      "time is displyed as args 12:40:30\n",
      "date time now  2021-01-19 12:41:30\n"
     ]
    }
   ],
   "source": [
    "todayy = date.today()\n",
    "print(todayy)\n",
    "print('Year: ',todayy.year)\n",
    "print('Year: ',todayy.month)\n",
    "print('Year: ',todayy.day)\n",
    "\n",
    "time = datetime.time()\n",
    "print('time is not displayed as no args ',time)\n",
    "time = datetime.time(12,40,30)\n",
    "print('time is displyed as args',time)\n",
    "\n",
    "datetim = datetime.datetime(2021,1,19,12,41,30)\n",
    "print('date time now ',datetim)"
   ]
  },
  {
   "cell_type": "code",
   "execution_count": 30,
   "metadata": {},
   "outputs": [
    {
     "name": "stdout",
     "output_type": "stream",
     "text": [
      "2021-01-19\n",
      "time.struct_time(tm_year=2021, tm_mon=1, tm_mday=19, tm_hour=0, tm_min=0, tm_sec=0, tm_wday=1, tm_yday=19, tm_isdst=-1)\n"
     ]
    }
   ],
   "source": [
    "dayy = datetime.date(2021,1,19)\n",
    "print(dayy)\n",
    "print(dayy.timetuple())"
   ]
  },
  {
   "cell_type": "code",
   "execution_count": null,
   "metadata": {},
   "outputs": [],
   "source": []
  }
 ],
 "metadata": {
  "kernelspec": {
   "display_name": "Python 3",
   "language": "python",
   "name": "python3"
  },
  "language_info": {
   "codemirror_mode": {
    "name": "ipython",
    "version": 3
   },
   "file_extension": ".py",
   "mimetype": "text/x-python",
   "name": "python",
   "nbconvert_exporter": "python",
   "pygments_lexer": "ipython3",
   "version": "3.8.5"
  }
 },
 "nbformat": 4,
 "nbformat_minor": 4
}
