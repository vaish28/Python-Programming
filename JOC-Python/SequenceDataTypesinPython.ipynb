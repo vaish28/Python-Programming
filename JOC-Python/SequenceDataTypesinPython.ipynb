{
 "cells": [
  {
   "cell_type": "markdown",
   "metadata": {},
   "source": [
    "There are 3 types of sequence data types\n",
    "1. Lists\n",
    "2. Strings\n",
    "3. Tuples\n",
    "These are ordered collection of objects.\n",
    "\n",
    "(In mathematics, sequence is an enumerated collection of objects in which repetitions are allowed and order matters)"
   ]
  },
  {
   "cell_type": "code",
   "execution_count": 1,
   "metadata": {},
   "outputs": [
    {
     "name": "stdout",
     "output_type": "stream",
     "text": [
      "Cummins\n",
      "C\n",
      "s\n",
      "Cummins\n"
     ]
    }
   ],
   "source": [
    "col ='Cummins'\n",
    "print(col)\n",
    "#col[2] ='r' #immutable property no assignment at specific position\n",
    "\n",
    "print(col[0]) #indexing possible\n",
    "print(col[-1]) # negative indexing possible\n",
    "print(col)"
   ]
  },
  {
   "cell_type": "code",
   "execution_count": 4,
   "metadata": {},
   "outputs": [
    {
     "name": "stdout",
     "output_type": "stream",
     "text": [
      "Hello Girls !How are you doing?I am sure you are keeping your spirits high\n"
     ]
    }
   ],
   "source": [
    "text = ('Hello Girls !' 'How are you doing?''I am sure you are keeping your spirits high')\n",
    "print(text)"
   ]
  },
  {
   "cell_type": "code",
   "execution_count": 5,
   "metadata": {},
   "outputs": [
    {
     "name": "stdout",
     "output_type": "stream",
     "text": [
      "How \n",
      "7\n",
      "74\n"
     ]
    }
   ],
   "source": [
    "print(text[13:17])\n",
    "print(len(col))\n",
    "print(len(text))"
   ]
  },
  {
   "cell_type": "markdown",
   "metadata": {},
   "source": [
    "### TUPLE"
   ]
  },
  {
   "cell_type": "code",
   "execution_count": 9,
   "metadata": {},
   "outputs": [
    {
     "name": "stdout",
     "output_type": "stream",
     "text": [
      "(10, 20, 30, 40, 50, 'hi')\n"
     ]
    }
   ],
   "source": [
    "my_tuple=10,20,30,40,50,'hi'\n",
    "print(my_tuple)\n",
    "#tuples are immutable\n",
    "#my_tuple[0] =25:- error\n",
    "#tuples can be sliced or indexed"
   ]
  },
  {
   "cell_type": "code",
   "execution_count": 12,
   "metadata": {},
   "outputs": [
    {
     "name": "stdout",
     "output_type": "stream",
     "text": [
      "((10, 20, 30, 40, 50, 'hi'), (11, 22, 33, 44, 55, 66))\n"
     ]
    }
   ],
   "source": [
    "## Nesting tuple\n",
    "\n",
    "new_tuple = my_tuple,(11,22,33,44,55,66)\n",
    "print(new_tuple)"
   ]
  },
  {
   "cell_type": "code",
   "execution_count": 14,
   "metadata": {},
   "outputs": [
    {
     "name": "stdout",
     "output_type": "stream",
     "text": [
      "('hello', '[1,2,3]', (4, 5, 6))\n"
     ]
    }
   ],
   "source": [
    "my_tuple1 = ('hello','[1,2,3]',(4,5,6))\n",
    "print(my_tuple1)"
   ]
  },
  {
   "cell_type": "code",
   "execution_count": null,
   "metadata": {},
   "outputs": [],
   "source": [
    "a,b "
   ]
  }
 ],
 "metadata": {
  "kernelspec": {
   "display_name": "Python 3",
   "language": "python",
   "name": "python3"
  },
  "language_info": {
   "codemirror_mode": {
    "name": "ipython",
    "version": 3
   },
   "file_extension": ".py",
   "mimetype": "text/x-python",
   "name": "python",
   "nbconvert_exporter": "python",
   "pygments_lexer": "ipython3",
   "version": "3.8.5"
  }
 },
 "nbformat": 4,
 "nbformat_minor": 4
}
