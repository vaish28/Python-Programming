{
 "cells": [
  {
   "cell_type": "markdown",
   "metadata": {},
   "source": [
    "Lambda functions cannot be invoked directly, but you\n",
    "can assign them to variables:"
   ]
  },
  {
   "cell_type": "code",
   "execution_count": 1,
   "metadata": {},
   "outputs": [
    {
     "name": "stdout",
     "output_type": "stream",
     "text": [
      "6\n"
     ]
    }
   ],
   "source": [
    "multiply = lambda a,b:a*b\n",
    "print(multiply(2,3))"
   ]
  },
  {
   "cell_type": "code",
   "execution_count": 2,
   "metadata": {},
   "outputs": [
    {
     "name": "stdout",
     "output_type": "stream",
     "text": [
      "4\n"
     ]
    }
   ],
   "source": [
    "square = lambda x:x**2\n",
    "print(square(2))"
   ]
  },
  {
   "cell_type": "code",
   "execution_count": 3,
   "metadata": {},
   "outputs": [
    {
     "name": "stdout",
     "output_type": "stream",
     "text": [
      "7\n"
     ]
    }
   ],
   "source": [
    "add = lambda a,b:a+b\n",
    "print(add(2,5))"
   ]
  },
  {
   "cell_type": "code",
   "execution_count": 4,
   "metadata": {},
   "outputs": [
    {
     "name": "stdout",
     "output_type": "stream",
     "text": [
      "12\n"
     ]
    }
   ],
   "source": [
    "numeric_expression = lambda a,b:((a*b)+(a*b))\n",
    "print(numeric_expression(2,3))"
   ]
  },
  {
   "cell_type": "code",
   "execution_count": 5,
   "metadata": {},
   "outputs": [],
   "source": [
    "# can as many as arguments you wish to pass\n",
    "# sqaures of numer in range of q100"
   ]
  },
  {
   "cell_type": "code",
   "execution_count": 6,
   "metadata": {},
   "outputs": [
    {
     "name": "stdout",
     "output_type": "stream",
     "text": [
      "[0, 1, 4, 9, 16, 25, 36, 49, 64, 81]\n"
     ]
    }
   ],
   "source": [
    "squares = []\n",
    "for i in range(10):\n",
    "    sq = squares.append(i*i)\n",
    "print(squares)"
   ]
  },
  {
   "cell_type": "code",
   "execution_count": 7,
   "metadata": {},
   "outputs": [
    {
     "name": "stdout",
     "output_type": "stream",
     "text": [
      "[0, 1, 4, 9, 16, 25, 36, 49, 64, 81]\n"
     ]
    }
   ],
   "source": [
    "squares = list(map(lambda x: x**2,range(10)))\n",
    "print(squares) # here at first list was used in global namespace hence giving problem"
   ]
  },
  {
   "cell_type": "code",
   "execution_count": 8,
   "metadata": {},
   "outputs": [
    {
     "name": "stdout",
     "output_type": "stream",
     "text": [
      "[0, 1, 4, 9, 16, 25, 36, 49, 64, 81]\n"
     ]
    }
   ],
   "source": [
    "squares_1 = [x**2 for x in range(10)]\n",
    "print(squares_1)"
   ]
  },
  {
   "cell_type": "code",
   "execution_count": null,
   "metadata": {},
   "outputs": [],
   "source": [
    "#int function \n",
    "lt = list(map(int,input('Enter list elements ').split()))\n",
    "print(lt)"
   ]
  },
  {
   "cell_type": "code",
   "execution_count": 5,
   "metadata": {},
   "outputs": [
    {
     "name": "stdout",
     "output_type": "stream",
     "text": [
      "Enter list elements 123\n",
      "[123]\n"
     ]
    }
   ],
   "source": [
    "lt = list(map(int,input('Enter list elements ').split(',')))\n",
    "print(lt)"
   ]
  },
  {
   "cell_type": "code",
   "execution_count": 8,
   "metadata": {},
   "outputs": [
    {
     "name": "stdout",
     "output_type": "stream",
     "text": [
      "Enter list elements 1,2,43\n",
      "[1, 2, 43]\n"
     ]
    }
   ],
   "source": [
    "lt = list(map(int,input('Enter list elements ').split(',')))\n",
    "print(lt)"
   ]
  },
  {
   "cell_type": "code",
   "execution_count": 9,
   "metadata": {},
   "outputs": [],
   "source": [
    "mat = []\n",
    "for i in range(3):\n",
    "    row = []\n",
    "    for j in range(3):\n",
    "        row.append(0)\n",
    "    mat.append(row)"
   ]
  },
  {
   "cell_type": "code",
   "execution_count": 11,
   "metadata": {},
   "outputs": [
    {
     "name": "stdout",
     "output_type": "stream",
     "text": [
      "usual way of printing a matrix [[0, 0, 0], [0, 0, 0], [0, 0, 0]]\n"
     ]
    }
   ],
   "source": [
    "print('usual way of printing a matrix', mat)\n"
   ]
  },
  {
   "cell_type": "code",
   "execution_count": 12,
   "metadata": {},
   "outputs": [
    {
     "name": "stdout",
     "output_type": "stream",
     "text": [
      "[0, 0, 0]\n"
     ]
    }
   ],
   "source": [
    "r = [0 for i in range(3)] # for rows\n",
    "print(r)"
   ]
  },
  {
   "cell_type": "code",
   "execution_count": 13,
   "metadata": {},
   "outputs": [],
   "source": [
    "mat = [[0 for i in range(3)] for j in range(3)] # here j is row and i is column"
   ]
  },
  {
   "cell_type": "code",
   "execution_count": 14,
   "metadata": {},
   "outputs": [
    {
     "name": "stdout",
     "output_type": "stream",
     "text": [
      "[[0, 0, 0], [0, 0, 0], [0, 0, 0]]\n"
     ]
    }
   ],
   "source": [
    "print(mat)"
   ]
  },
  {
   "cell_type": "code",
   "execution_count": 9,
   "metadata": {},
   "outputs": [
    {
     "data": {
      "text/plain": [
       "[[0, 0, 0],\n",
       " [0, 0, 0],\n",
       " [0, 0, 0],\n",
       " [0, 0, 0],\n",
       " [0, 0, 0],\n",
       " [0, 0, 0],\n",
       " [0, 0, 0],\n",
       " [0, 0, 0],\n",
       " [0, 0, 0],\n",
       " [0, 0, 0]]"
      ]
     },
     "execution_count": 9,
     "metadata": {},
     "output_type": "execute_result"
    }
   ],
   "source": [
    "mat  = [[0 for i in range(3)] for j in range(10)] # here 3 columns and 10 rows\n",
    "mat"
   ]
  },
  {
   "cell_type": "code",
   "execution_count": 11,
   "metadata": {},
   "outputs": [
    {
     "data": {
      "text/plain": [
       "[12, 2, 1, 4, 9, 78, 45, 1]"
      ]
     },
     "execution_count": 11,
     "metadata": {},
     "output_type": "execute_result"
    }
   ],
   "source": [
    "l = [12,0,2,1,0,4,0,0,9,78,0,45,0,1,0]\n",
    "lt = [x for x in l if x!=0]\n",
    "lt"
   ]
  },
  {
   "cell_type": "code",
   "execution_count": 12,
   "metadata": {},
   "outputs": [
    {
     "name": "stdout",
     "output_type": "stream",
     "text": [
      "[1, 3, 6, 8, 10, 4]\n"
     ]
    }
   ],
   "source": [
    "l1 = [1.2,3.4,5.6,7.8,9.8,3.5]\n",
    "lr = [round(x) for x in l1]\n",
    "print(lr)"
   ]
  },
  {
   "cell_type": "code",
   "execution_count": 14,
   "metadata": {},
   "outputs": [
    {
     "name": "stdout",
     "output_type": "stream",
     "text": [
      "[1, 2, 3, 4, 5, 6, 7, 8, 9]\n"
     ]
    }
   ],
   "source": [
    "l = [[1,2,3],[4,5,6],[7,8,9]]\n",
    "l =  [x for lt in l for x in lt] #for x in lt for lt in l -> does not work since lt is not defined yet \n",
    "print(lt)"
   ]
  },
  {
   "cell_type": "markdown",
   "metadata": {},
   "source": [
    "LEAP YEAR"
   ]
  },
  {
   "cell_type": "code",
   "execution_count": 17,
   "metadata": {},
   "outputs": [
    {
     "name": "stdout",
     "output_type": "stream",
     "text": [
      "1990 is not a leap year\n",
      "1991 is not a leap year\n",
      "1992 is a leap year!\n",
      "1993 is not a leap year\n",
      "1994 is not a leap year\n",
      "1995 is not a leap year\n",
      "1996 is a leap year!\n",
      "1997 is not a leap year\n",
      "1998 is not a leap year\n",
      "1999 is not a leap year\n",
      "2000 is a leap year!\n",
      "2001 is not a leap year\n",
      "2002 is not a leap year\n",
      "2003 is not a leap year\n",
      "2004 is a leap year!\n",
      "2005 is not a leap year\n",
      "2006 is not a leap year\n",
      "2007 is not a leap year\n",
      "2008 is a leap year!\n",
      "2009 is not a leap year\n",
      "2010 is not a leap year\n",
      "2011 is not a leap year\n",
      "2012 is a leap year!\n",
      "2013 is not a leap year\n",
      "2014 is not a leap year\n",
      "2015 is not a leap year\n",
      "2016 is a leap year!\n",
      "2017 is not a leap year\n",
      "2018 is not a leap year\n",
      "2019 is not a leap year\n",
      "2020 is a leap year!\n"
     ]
    }
   ],
   "source": [
    "for year in range(1990, 2021):\n",
    "    if(year%4==0 and (year%100!=0) or year%400==0): print(str(year)+\" is a leap year!\") #and take precedence over or\n",
    "    else: print(str(year)+\" is not a leap year\")"
   ]
  },
  {
   "cell_type": "markdown",
   "metadata": {},
   "source": [
    "#### ANAGRAMS"
   ]
  },
  {
   "cell_type": "markdown",
   "metadata": {},
   "source": [
    "Given two strings find if it is an anagram\n",
    "\n",
    "tea and eat\n",
    "\n",
    "steam and teams\n",
    "\n",
    "By sorting"
   ]
  },
  {
   "cell_type": "code",
   "execution_count": 18,
   "metadata": {},
   "outputs": [
    {
     "name": "stdout",
     "output_type": "stream",
     "text": [
      "['a', 'e', 'm', 's', 't']\n",
      "['a', 'e', 'm', 'r', 's', 't']\n"
     ]
    }
   ],
   "source": [
    "str1 = \"teams\"\n",
    "str2 = \"stream\"\n",
    "str1 = sorted(list(str1)) #you can also not convert to list sorted(str1)\n",
    "str2 = sorted(list(str2))\n",
    "print(str1)\n",
    "print(str2)"
   ]
  },
  {
   "cell_type": "code",
   "execution_count": 23,
   "metadata": {},
   "outputs": [
    {
     "name": "stdout",
     "output_type": "stream",
     "text": [
      "False\n",
      "['a', 'e', 'm', 's', 't']\n",
      "['a', 'e', 'm', 'r', 's', 't']\n",
      "Not Anagrams\n"
     ]
    }
   ],
   "source": [
    "flag = (str1==str2)\n",
    "print(flag)\n",
    "print(str1)\n",
    "print(str2)\n",
    "if flag: \n",
    "    print(\"Anagrams\")\n",
    "else: \n",
    "    print(\"Not Anagrams\")"
   ]
  },
  {
   "cell_type": "code",
   "execution_count": 24,
   "metadata": {},
   "outputs": [
    {
     "name": "stdout",
     "output_type": "stream",
     "text": [
      "['a', 'e', 'm', 's', 't']\n",
      "['a', 'e', 'm', 's', 't']\n",
      "True\n",
      "['a', 'e', 'm', 's', 't']\n",
      "['a', 'e', 'm', 's', 't']\n",
      "Anagrams\n"
     ]
    }
   ],
   "source": [
    "str1 = \"teams\"\n",
    "str2 = \"steam\"\n",
    "str1 = sorted(list(str1)) #you can also not convert to list sorted(str1)\n",
    "str2 = sorted(list(str2))\n",
    "print(str1)\n",
    "print(str2)\n",
    "flag = (str1==str2)\n",
    "print(flag)\n",
    "print(str1)\n",
    "print(str2)\n",
    "if flag: \n",
    "    print(\"Anagrams\")\n",
    "else: \n",
    "    print(\"Not Anagrams\")"
   ]
  },
  {
   "cell_type": "code",
   "execution_count": 25,
   "metadata": {},
   "outputs": [
    {
     "name": "stdout",
     "output_type": "stream",
     "text": [
      "True\n"
     ]
    }
   ],
   "source": [
    "# 2nd approach\n",
    "#By summing unicode(ord) values of the entire string\n",
    "\n",
    "sum1 = sum(map(lambda x: ord(x),list(str1)))\n",
    "sum2 = sum(map(lambda x: ord(x),list(str2)))\n",
    "print(sum1 == sum2)"
   ]
  },
  {
   "cell_type": "code",
   "execution_count": 29,
   "metadata": {},
   "outputs": [
    {
     "name": "stdout",
     "output_type": "stream",
     "text": [
      "97\n",
      "98\n"
     ]
    }
   ],
   "source": [
    "print(ord('a'))\n",
    "print(ord('b'))"
   ]
  },
  {
   "cell_type": "code",
   "execution_count": 40,
   "metadata": {},
   "outputs": [
    {
     "name": "stdout",
     "output_type": "stream",
     "text": [
      "<class 'map'>\n",
      "[97, 101, 109, 115, 116]\n",
      "[97, 101, 109, 115, 116]\n",
      "Anagrams\n"
     ]
    }
   ],
   "source": [
    "sum1 = (map(lambda x: ord(x),list(str1)))\n",
    "sum2 = (map(lambda x: ord(x),list(str2)))\n",
    "print(type(sum1))\n",
    "l = list(sum1)\n",
    "\n",
    "l1 = list(sum2)\n",
    "#for s in sum1:\n",
    "#    print(sum1)\n",
    "#print(sum1 == sum2)\n",
    "print(l)\n",
    "print(l1)\n",
    "sum1 = sum(l)\n",
    "sum2 = sum(l1)\n",
    "if(sum1==sum2):\n",
    "    print(\"Anagrams\")\n",
    "else: print(\"Not Anagrams\")"
   ]
  },
  {
   "cell_type": "code",
   "execution_count": 41,
   "metadata": {},
   "outputs": [
    {
     "name": "stdout",
     "output_type": "stream",
     "text": [
      "Anagrams\n"
     ]
    }
   ],
   "source": [
    "# 3rd approach\n",
    "# By counting the number of characters in each word\n",
    "flag = True\n",
    "st1 = \"teams\"\n",
    "st2 = \"steam\"\n",
    "if len(st1) != len(st2):\n",
    "    flag = False\n",
    "else:\n",
    "    for ch in st1:\n",
    "        if not flag: break\n",
    "        if st1.count(ch)!=st2.count(ch):\n",
    "            flag=False\n",
    "if flag: print(\"Anagrams\")\n",
    "else: print(\"Not Anagrams\")"
   ]
  },
  {
   "cell_type": "markdown",
   "metadata": {},
   "source": [
    "### Snakes and Ladders"
   ]
  },
  {
   "cell_type": "code",
   "execution_count": 43,
   "metadata": {},
   "outputs": [],
   "source": [
    "from PIL import Image\n",
    "def show_board():\n",
    "    board = Image.open(\"path\\\\SnakeLadder.jpg\")\n",
    "    board.show()\n",
    "    \n",
    "ladders = {\n",
    "    8 : 26,\n",
    "    21 : 82, \n",
    "    43 : 77,\n",
    "    50 : 91,\n",
    "    54 : 93,\n",
    "    62 : 96,\n",
    "    66 : 87,\n",
    "    80 : 100 \n",
    "}\n",
    "\n",
    "snakes = {\n",
    "    44 : 22,\n",
    "    46 : 5,\n",
    "    48 : 9,\n",
    "    52 : 11,\n",
    "    55 : 7,\n",
    "    59 : 17,\n",
    "    64 : 36,\n",
    "    69 : 33,\n",
    "    73 : 1,\n",
    "    83 : 19,\n",
    "    92 : 51,\n",
    "    95 : 24,\n",
    "    98 : 28\n",
    "}"
   ]
  },
  {
   "cell_type": "code",
   "execution_count": 47,
   "metadata": {},
   "outputs": [
    {
     "name": "stdout",
     "output_type": "stream",
     "text": [
      "Now it is Player 1's turn\n",
      "Score is 4\n",
      "Now it is Player 2's turn\n",
      "Score is 2\n",
      "Now it is Player 1's turn\n",
      "Score is 7\n",
      "Now it is Player 2's turn\n",
      "Score is 5\n",
      "Now it is Player 1's turn\n",
      "Score is 10\n",
      "Now it is Player 2's turn\n",
      "Ladders! Your score is 26\n",
      "Now it is Player 1's turn\n",
      "Score is 15\n",
      "Now it is Player 2's turn\n",
      "Score is 32\n",
      "Now it is Player 1's turn\n",
      "Score is 16\n",
      "Now it is Player 2's turn\n",
      "Score is 38\n",
      "Now it is Player 1's turn\n",
      "Score is 20\n",
      "Now it is Player 2's turn\n",
      "Ladders! Your score is 77\n",
      "Now it is Player 1's turn\n",
      "Ladders! Your score is 82\n",
      "Now it is Player 2's turn\n",
      "Score is 79\n",
      "Now it is Player 1's turn\n",
      "Score is 85\n",
      "Now it is Player 2's turn\n",
      "Ladders! Your score is 100\n",
      "Now it is Player 1's turn\n",
      "Score is 88\n",
      "Now it is Player 2's turn\n",
      "Player2 has won!\n"
     ]
    }
   ],
   "source": [
    "import random\n",
    "\n",
    "def roll_dice():\n",
    "    return random.randint(1,6)\n",
    "flag = True\n",
    "score1 = 0\n",
    "score2 = 0\n",
    "show_board()\n",
    "\n",
    "def check_play(score):\n",
    "    if ladders.get(score) == None:\n",
    "        if snakes.get(score) == None: \n",
    "            print(\"Score is\",score)\n",
    "        else:\n",
    "            score = snakes.get(score)\n",
    "            print(\"Snake! Your score is\",score)\n",
    "    else:\n",
    "        score = ladders.get(score)\n",
    "        print(\"Ladders! Your score is\",score)\n",
    "    return score\n",
    "            \n",
    "while score1<101 and score2<101:\n",
    "    play = roll_dice()\n",
    "    if flag:\n",
    "        print(\"Now it is Player 1's turn\")\n",
    "        score1 += play\n",
    "        if score1>100: break\n",
    "        score1 = check_play(score1)\n",
    "        flag = False\n",
    "    else:\n",
    "        print(\"Now it is Player 2's turn\")\n",
    "        score2 += play\n",
    "        if score2>100: break\n",
    "        score2 = check_play(score2)\n",
    "        flag = True\n",
    "\n",
    "if score1>score2: print(\"Player1 has won!\")\n",
    "else: print(\"Player2 has won!\")"
   ]
  },
  {
   "cell_type": "code",
   "execution_count": 62,
   "metadata": {},
   "outputs": [],
   "source": [
    "from PIL import Image\n",
    "end = 100\n",
    "def show_board():\n",
    "    board = Image.open(\"path\\\\SnakeLadder.jpg\")\n",
    "    board.show()\n",
    "    \n",
    "def check_ladder(points):\n",
    "    if points == 8:\n",
    "        print(\"ladder\")\n",
    "        return 26\n",
    "    elif points == 21:\n",
    "        print(\"ladder\")\n",
    "        return 82\n",
    "    elif points == 43:\n",
    "        print(\"ladder\")\n",
    "        return 77\n",
    "    elif points == 50:\n",
    "        print(\"ladder\")\n",
    "        return 91\n",
    "    elif points == 54:\n",
    "        print(\"ladder\")\n",
    "        return 93\n",
    "    elif points == 62:\n",
    "        print(\"ladder\")\n",
    "        return 96\n",
    "    elif points == 66:\n",
    "        print(\"ladder\")\n",
    "        return 87\n",
    "    elif points == 80:\n",
    "        print(\"ladder\")\n",
    "        return 100\n",
    "    else:#no change in points\n",
    "        return points\n",
    "    \n",
    "def check_snake(points):\n",
    "    \n",
    "    if points == 44:\n",
    "        print(\"Snake\")\n",
    "        return 22\n",
    "    elif points == 46:\n",
    "        print(\"Snake\")\n",
    "        return 5\n",
    "    elif points == 48:\n",
    "        print(\"Snake\")\n",
    "        return 9\n",
    "    elif points == 46:\n",
    "        print(\"Snake\")\n",
    "        return 5\n",
    "    elif points == 46:\n",
    "        print(\"Snake\")\n",
    "        return 5\n",
    "    elif points == 52:\n",
    "        print(\"Snake\")\n",
    "        return 11\n",
    "    elif points == 55:\n",
    "        print(\"Snake\")\n",
    "        return 7\n",
    "    elif points == 59:\n",
    "        print(\"Snake\")\n",
    "        return 17\n",
    "    elif points == 64:\n",
    "        print(\"Snake\")\n",
    "        return 36\n",
    "    elif points == 69:\n",
    "        print(\"Snake\")\n",
    "        return 33\n",
    "    elif points == 73:\n",
    "        print(\"Snake\")\n",
    "        return 1\n",
    "    elif points == 83:\n",
    "        print(\"Snake\")\n",
    "        return 19\n",
    "    elif points == 92:\n",
    "        print(\"Snake\")\n",
    "        return 51\n",
    "    elif points == 95:\n",
    "        print(\"Snake\")\n",
    "        return 24\n",
    "    elif points == 98:\n",
    "        print(\"Snake\")\n",
    "        return 28\n",
    "    else:\n",
    "        return points\n",
    "    \n",
    "def reached_end(points):\n",
    "    if points==end:\n",
    "        return True\n",
    "    else:\n",
    "        return False\n",
    "\n",
    "def game():\n",
    "    p1_name = input(\"Enter player1 name \")\n",
    "    p2_name = input(\"Enter player2 name \")\n",
    "    pp1 = 0\n",
    "    pp2 = 0\n",
    "    \n",
    "    turn = 0\n",
    "    \n",
    "    while(1):\n",
    "        \n",
    "        if turn%2 == 0:\n",
    "            print(\"player 1\",p1_name)\n",
    "        \n",
    "            #ask wish of player's choice \n",
    "            c = input(\"Press 1 continue and 0 to exit \")\n",
    "            \n",
    "            if int(c)==0:\n",
    "                print(\"here\")\n",
    "                print(\"Thanks for you playing \",p1_name,\" your points \",pp1)\n",
    "                print(\"Thanks for you playing \",p2_name,\"your points \",pp2)\n",
    "                break\n",
    "                \n",
    "            # generate dice value\n",
    "            dice = random.randint(1,6)\n",
    "            print(\"you got\", dice)\n",
    "            pp1 = pp1+dice\n",
    "\n",
    "            pp1 = check_ladder(pp1)\n",
    "            pp1 = check_snake(pp1)\n",
    "\n",
    "            #player 1 goes beyond the board\n",
    "            if pp1>=end:\n",
    "                pp1 = end\n",
    "\n",
    "            print(\"player 1 \",p1_name,\" your score is \",pp1)\n",
    "\n",
    "            if reached_end(pp1):\n",
    "                print(\"player 1 has won \",p1_name)\n",
    "                break #player 1 ha s reached end point\n",
    "                \n",
    "        else:\n",
    "            \n",
    "            print(\"player 2\",p2_name)\n",
    "        \n",
    "            #ask wish of player's choice \n",
    "            c = input(\"enter your choice to quit 1 play  0 for quit \")\n",
    "            if c==0:\n",
    "                print(\"Thanks for you playing \",p2_name,\" your points \",pp1)\n",
    "                print(\"Thanks for you playing \",p2_name,\"your points \",pp2)\n",
    "                break\n",
    "            # generate dice value\n",
    "            dice = random.randint(1,6)\n",
    "            print(\"you got\", dice)\n",
    "            pp2 = pp2+dice\n",
    "\n",
    "            pp2 = check_ladder(pp2)\n",
    "            pp2 = check_snake(pp2)\n",
    "\n",
    "            #player 1 goes beyond the board\n",
    "            if pp2>=end:\n",
    "                pp2 = end\n",
    "\n",
    "            print(\"player 2 \",p2_name,\" your score is \",pp2)\n",
    "\n",
    "            if reached_end(pp2):\n",
    "                print(\"player 2 has won \",p2_name)\n",
    "                break #player 1 ha s reached end point\n",
    "            \n",
    "        turn =turn+1\n"
   ]
  },
  {
   "cell_type": "code",
   "execution_count": 63,
   "metadata": {},
   "outputs": [
    {
     "name": "stdout",
     "output_type": "stream",
     "text": [
      "Enter player1 name v\n",
      "Enter player2 name m\n",
      "player 1 v\n",
      "Press 1 continue and 0 to exit 0\n",
      "here\n",
      "Thanks for you playing  v  your points  0\n",
      "Thanks for you playing  m your points  0\n"
     ]
    }
   ],
   "source": [
    "show_board()\n",
    "game()"
   ]
  },
  {
   "cell_type": "markdown",
   "metadata": {},
   "source": [
    "#### Monty Hall Problem"
   ]
  },
  {
   "cell_type": "code",
   "execution_count": 1,
   "metadata": {},
   "outputs": [
    {
     "name": "stdout",
     "output_type": "stream",
     "text": [
      "give your choice of door(1/2/3): 2\n",
      "[1, 2, 3]\n",
      "1\n",
      "\n",
      "remaining doors after not chhosing the car door [2, 3]\n",
      "\n",
      "Door to be opened for the player 3\n",
      "[2]\n",
      "\n",
      "swap choice of door to be given to player 2\n",
      "\n",
      "ch_door and door values: 2 1\n",
      "\n",
      "Do you want to swap your choice between 1 and 2 ?\n",
      "\n",
      " Press y for yes and n for No: y\n",
      "Congratulations!!You won BMW!!!\n"
     ]
    }
   ],
   "source": [
    "import random\n",
    "\n",
    "doors=[1,2,3]\n",
    "rem_doors=[]\n",
    "#print (door)\n",
    "#print (doors)\n",
    "ch_door=int(input(\"give your choice of door(1/2/3): \"))\n",
    "door=random.choice(doors)    # car!\n",
    "print(doors)\n",
    "print(door)\n",
    "\n",
    "\n",
    "for i in range(len(doors)):\n",
    "    if doors[i]!=door:\n",
    "        rem_doors.append(doors[i])\n",
    "\n",
    "print('\\nremaining doors after not chhosing the car door',rem_doors)\n",
    "    \n",
    "for i in range(len(rem_doors)):\n",
    "    if rem_doors[i]!=ch_door:\n",
    "        open_door=rem_doors[i]\n",
    "        \n",
    "print('\\nDoor to be opened for the player',open_door)\n",
    "        \n",
    "rem_doors.remove(open_door)\n",
    "\n",
    "for i in range(len(rem_doors)):\n",
    "    swap_ch=rem_doors[i]\n",
    "\n",
    "\n",
    "print(rem_doors)\n",
    "print('\\nswap choice of door to be given to player',swap_ch)\n",
    "print('\\nch_door and door values:',ch_door,door)\n",
    "       \n",
    "print(\"\\nDo you want to swap your choice between\",door,\"and\",swap_ch,\"?\" )\n",
    "yn =input(\"\\n Press y for yes and n for No: \")\n",
    "if yn=='y':\n",
    "    if ch_door!=door:\n",
    "        print(\"Congratulations!!You won BMW!!!\")\n",
    "    \n",
    "    else:\n",
    "        print(\"Oh! You lost!! Better luck next time\")\n",
    "        \n",
    "    \n",
    "else:\n",
    "    if ch_door==door:\n",
    "        print(\"Congratulations!!You won BMW!!!\")\n",
    "        \n",
    "    else:\n",
    "        print(\"Oh! You lost!! Better luck next time\")\n",
    "        "
   ]
  },
  {
   "cell_type": "markdown",
   "metadata": {},
   "source": [
    "### Tuple"
   ]
  },
  {
   "cell_type": "code",
   "execution_count": 2,
   "metadata": {},
   "outputs": [],
   "source": [
    "tuple = 10,20,30,40.5,'hi' #different data types supported"
   ]
  },
  {
   "cell_type": "code",
   "execution_count": 3,
   "metadata": {},
   "outputs": [
    {
     "name": "stdout",
     "output_type": "stream",
     "text": [
      "(10, 20, 30, 40.5, 'hi')\n"
     ]
    }
   ],
   "source": [
    "print(tuple) "
   ]
  },
  {
   "cell_type": "code",
   "execution_count": 49,
   "metadata": {},
   "outputs": [],
   "source": [
    "#tuples can be nested"
   ]
  },
  {
   "cell_type": "code",
   "execution_count": 4,
   "metadata": {},
   "outputs": [
    {
     "name": "stdout",
     "output_type": "stream",
     "text": [
      "30\n"
     ]
    }
   ],
   "source": [
    "print(tuple[2])"
   ]
  },
  {
   "cell_type": "code",
   "execution_count": 5,
   "metadata": {},
   "outputs": [
    {
     "name": "stdout",
     "output_type": "stream",
     "text": [
      "(20, 30, 40.5)\n"
     ]
    }
   ],
   "source": [
    "print(tuple[1:4])"
   ]
  },
  {
   "cell_type": "code",
   "execution_count": 6,
   "metadata": {},
   "outputs": [
    {
     "ename": "TypeError",
     "evalue": "'tuple' object does not support item assignment",
     "output_type": "error",
     "traceback": [
      "\u001b[1;31m---------------------------------------------------------------------------\u001b[0m",
      "\u001b[1;31mTypeError\u001b[0m                                 Traceback (most recent call last)",
      "\u001b[1;32m<ipython-input-6-4de3b1e54133>\u001b[0m in \u001b[0;36m<module>\u001b[1;34m\u001b[0m\n\u001b[1;32m----> 1\u001b[1;33m \u001b[0mtuple\u001b[0m\u001b[1;33m[\u001b[0m\u001b[1;36m0\u001b[0m\u001b[1;33m]\u001b[0m\u001b[1;33m=\u001b[0m\u001b[1;36m45\u001b[0m\u001b[1;33m\u001b[0m\u001b[1;33m\u001b[0m\u001b[0m\n\u001b[0m",
      "\u001b[1;31mTypeError\u001b[0m: 'tuple' object does not support item assignment"
     ]
    }
   ],
   "source": [
    "tuple[0]=45#immutable"
   ]
  },
  {
   "cell_type": "code",
   "execution_count": 8,
   "metadata": {},
   "outputs": [
    {
     "name": "stdout",
     "output_type": "stream",
     "text": [
      "((10, 20, 30, 40.5, 'hi'), (11, 22, 33, 44, 55))\n"
     ]
    }
   ],
   "source": [
    "new_tuple = tuple,(11,22,33,44,55)\n",
    "print(new_tuple)"
   ]
  },
  {
   "cell_type": "code",
   "execution_count": 11,
   "metadata": {},
   "outputs": [
    {
     "name": "stdout",
     "output_type": "stream",
     "text": [
      "('hello', [1, 2, 3], (4, 5, 6))\n",
      "('hello', '[1,2,3]', (4, 5, 6))\n"
     ]
    }
   ],
   "source": [
    "#combining string,list and tuple\n",
    "my_new1 = ('hello',[1,2,3],(4,5,6))\n",
    "print(my_new1)\n",
    "\n",
    "my_new2 = ('hello','[1,2,3]',(4,5,6))\n",
    "print(my_new2)"
   ]
  },
  {
   "cell_type": "code",
   "execution_count": 12,
   "metadata": {},
   "outputs": [
    {
     "data": {
      "text/plain": [
       "False"
      ]
     },
     "execution_count": 12,
     "metadata": {},
     "output_type": "execute_result"
    }
   ],
   "source": [
    "55 in new_tuple"
   ]
  },
  {
   "cell_type": "code",
   "execution_count": 13,
   "metadata": {},
   "outputs": [
    {
     "data": {
      "text/plain": [
       "True"
      ]
     },
     "execution_count": 13,
     "metadata": {},
     "output_type": "execute_result"
    }
   ],
   "source": [
    "(11,22,33,44,55) in new_tuple"
   ]
  },
  {
   "cell_type": "code",
   "execution_count": 14,
   "metadata": {},
   "outputs": [
    {
     "name": "stdout",
     "output_type": "stream",
     "text": [
      "(10, 20, 30, 40.5, 'hi')\n",
      "(11, 22, 33, 44, 55)\n"
     ]
    }
   ],
   "source": [
    "for ele in new_tuple:\n",
    "    print(ele)"
   ]
  },
  {
   "cell_type": "code",
   "execution_count": 15,
   "metadata": {},
   "outputs": [],
   "source": [
    "a = (10,20)\n",
    "b = (30,40)\n",
    "a,b = b,a"
   ]
  },
  {
   "cell_type": "code",
   "execution_count": 17,
   "metadata": {},
   "outputs": [
    {
     "name": "stdout",
     "output_type": "stream",
     "text": [
      "(30, 40) a  (10, 20)  b\n"
     ]
    }
   ],
   "source": [
    "print(a,\"a \",b,\" b\")"
   ]
  },
  {
   "cell_type": "code",
   "execution_count": 51,
   "metadata": {},
   "outputs": [
    {
     "name": "stdout",
     "output_type": "stream",
     "text": [
      "22 44 66\n"
     ]
    }
   ],
   "source": [
    "#unpacking of tuple elements\n",
    "t1=22,44,66\n",
    "x,y,z=t1\n",
    "print(x,y,z)"
   ]
  },
  {
   "cell_type": "code",
   "execution_count": null,
   "metadata": {},
   "outputs": [],
   "source": []
  },
  {
   "cell_type": "code",
   "execution_count": 12,
   "metadata": {},
   "outputs": [
    {
     "name": "stdout",
     "output_type": "stream",
     "text": [
      "[1, 2, 3, 4, 5, 6, 7, 8, 9, 10, 11, 12, 13, 14, 15, 16, 17, 18, 19, 20, 21, 22, 23, 24, 25, 26, 27, 28, 29, 30, 31, 32, 33, 34, 35, 36, 37, 38, 39, 40, 41, 42, 43, 44, 45, 46, 47, 48, 49, 50]\n",
      "divisible  [2, 4, 6, 8, 10, 12, 14, 16, 18, 20, 22, 24, 26, 28, 30, 32, 34, 36, 38, 40, 42, 44, 46, 48, 50]\n",
      "no of ele  25\n"
     ]
    }
   ],
   "source": [
    "import random\n",
    "divisible = []\n",
    "list_1 = list(range(1,51))\n",
    "print(list_1)\n",
    "divisible = [x for x in list_1 if x%2==0]\n",
    "print(\"divisible \",divisible)\n",
    "print(\"no of ele \", len(divisible))"
   ]
  },
  {
   "cell_type": "code",
   "execution_count": 10,
   "metadata": {},
   "outputs": [
    {
     "name": "stdout",
     "output_type": "stream",
     "text": [
      "[11, 22, 33, 44, 55]\n"
     ]
    }
   ],
   "source": [
    "list_1 = [1,2,3,4,5]\n",
    "list_2 = [x*11 for x in list_1]\n",
    "print(list_2)"
   ]
  },
  {
   "cell_type": "code",
   "execution_count": 11,
   "metadata": {},
   "outputs": [
    {
     "data": {
      "text/plain": [
       "['q', 'w', 'e', '', 'r', '', '', 't', 'y']"
      ]
     },
     "execution_count": 11,
     "metadata": {},
     "output_type": "execute_result"
    }
   ],
   "source": [
    "x=\"q/w/e//r///t/y\" \n",
    "x.split('/')"
   ]
  },
  {
   "cell_type": "code",
   "execution_count": 15,
   "metadata": {},
   "outputs": [
    {
     "name": "stdout",
     "output_type": "stream",
     "text": [
      "banana#pear#strawberry#papaya#grape\n"
     ]
    }
   ],
   "source": [
    "mylist = ['apple', 'orange', 'banana', 'pear', 'strawberry', 'papaya', 'grape', 'rabbit', 'lion', 'cow'] \n",
    "print ('#'. join(mylist[2:7]))"
   ]
  },
  {
   "cell_type": "code",
   "execution_count": 16,
   "metadata": {},
   "outputs": [
    {
     "data": {
      "text/plain": [
       "67"
      ]
     },
     "execution_count": 16,
     "metadata": {},
     "output_type": "execute_result"
    }
   ],
   "source": [
    "ord('C')"
   ]
  },
  {
   "cell_type": "code",
   "execution_count": 17,
   "metadata": {},
   "outputs": [
    {
     "data": {
      "text/plain": [
       "71"
      ]
     },
     "execution_count": 17,
     "metadata": {},
     "output_type": "execute_result"
    }
   ],
   "source": [
    "67+4"
   ]
  },
  {
   "cell_type": "code",
   "execution_count": 18,
   "metadata": {},
   "outputs": [
    {
     "data": {
      "text/plain": [
       "6"
      ]
     },
     "execution_count": 18,
     "metadata": {},
     "output_type": "execute_result"
    }
   ],
   "source": [
    "71-65\n"
   ]
  },
  {
   "cell_type": "code",
   "execution_count": 19,
   "metadata": {},
   "outputs": [
    {
     "data": {
      "text/plain": [
       "71"
      ]
     },
     "execution_count": 19,
     "metadata": {},
     "output_type": "execute_result"
    }
   ],
   "source": [
    "6%26+65"
   ]
  },
  {
   "cell_type": "code",
   "execution_count": 20,
   "metadata": {},
   "outputs": [
    {
     "data": {
      "text/plain": [
       "'G'"
      ]
     },
     "execution_count": 20,
     "metadata": {},
     "output_type": "execute_result"
    }
   ],
   "source": [
    "chr(71)"
   ]
  },
  {
   "cell_type": "code",
   "execution_count": 2,
   "metadata": {},
   "outputs": [
    {
     "name": "stdout",
     "output_type": "stream",
     "text": [
      "4#5#6#7#8\n"
     ]
    }
   ],
   "source": [
    "l1 = ['1','3','4','5','6','7','8','9']\n",
    "print ('#'. join(l1[2:7]))"
   ]
  },
  {
   "cell_type": "code",
   "execution_count": 2,
   "metadata": {},
   "outputs": [],
   "source": [
    "with open('f3.txt','w') as  f:\n",
    "    f.write('Hey Hi')\n",
    "f.close()"
   ]
  },
  {
   "cell_type": "code",
   "execution_count": 3,
   "metadata": {},
   "outputs": [
    {
     "name": "stdout",
     "output_type": "stream",
     "text": [
      "Hey Hi\n"
     ]
    }
   ],
   "source": [
    "with open('f3.txt','r') as  f:\n",
    "    print(f.read())\n",
    "f.close()"
   ]
  },
  {
   "cell_type": "code",
   "execution_count": 4,
   "metadata": {},
   "outputs": [],
   "source": [
    "with open('f3.txt','w') as  f:\n",
    "    f.write('I have a cipher encoded it')\n",
    "f.close()"
   ]
  },
  {
   "cell_type": "code",
   "execution_count": 5,
   "metadata": {},
   "outputs": [
    {
     "name": "stdout",
     "output_type": "stream",
     "text": [
      "I have a cipher encoded it\n"
     ]
    }
   ],
   "source": [
    "with open('f3.txt','r') as  f:\n",
    "    print(f.read())\n",
    "f.close()"
   ]
  },
  {
   "cell_type": "code",
   "execution_count": 6,
   "metadata": {},
   "outputs": [],
   "source": [
    "#contents change if again open the file in w mode\n",
    "#to not change contents open in a mode\n",
    "with open('f3.txt','a') as  f:\n",
    "    f.write('Hey Hi')\n",
    "f.close()"
   ]
  },
  {
   "cell_type": "code",
   "execution_count": 7,
   "metadata": {},
   "outputs": [
    {
     "name": "stdout",
     "output_type": "stream",
     "text": [
      "I have a cipher encoded itHey Hi\n"
     ]
    }
   ],
   "source": [
    "with open('f3.txt','r') as  f:\n",
    "    print(f.read())\n",
    "f.close()"
   ]
  },
  {
   "cell_type": "code",
   "execution_count": 10,
   "metadata": {},
   "outputs": [
    {
     "name": "stdout",
     "output_type": "stream",
     "text": [
      "2\n"
     ]
    }
   ],
   "source": [
    "def match_words(words):\n",
    "    ctr = 0\n",
    "\n",
    "    for word in words:\n",
    "        if len(word) > 1 and word[0] == word[-1]:\n",
    "            ctr += 1\n",
    "    return ctr\n",
    "\n",
    "print(match_words(['abc', 'xyz', 'aba', '1221']))"
   ]
  },
  {
   "cell_type": "code",
   "execution_count": 14,
   "metadata": {},
   "outputs": [
    {
     "name": "stdout",
     "output_type": "stream",
     "text": [
      "{10}\n",
      "[10]\n",
      "{10, 20}\n",
      "[10, 20]\n",
      "{10, 20, 30}\n",
      "[10, 20, 30]\n",
      "{10, 20, 50, 30}\n",
      "[10, 20, 30, 50]\n",
      "{10, 50, 20, 60, 30}\n",
      "[10, 20, 30, 50, 60]\n",
      "{40, 10, 50, 20, 60, 30}\n",
      "[10, 20, 30, 50, 60, 40]\n",
      "{40, 10, 80, 50, 20, 60, 30}\n",
      "[10, 20, 30, 50, 60, 40, 80]\n"
     ]
    }
   ],
   "source": [
    "a = [10,20,30,20,10,50,60,40,80,50,40]\n",
    "\n",
    "dup_items = set()\n",
    "uniq_items = []\n",
    "for x in a:\n",
    "    if x not in dup_items:\n",
    "        uniq_items.append(x)\n",
    "        dup_items.add(x)\n",
    "        print(dup_items)\n",
    "        print(uniq_items)\n",
    "\n",
    "#print(dup_items)\n",
    "#print(uniq_items)"
   ]
  },
  {
   "cell_type": "code",
   "execution_count": 16,
   "metadata": {},
   "outputs": [
    {
     "name": "stdout",
     "output_type": "stream",
     "text": [
      "[(2, 1), (1, 2), (2, 3), (4, 4), (2, 5)]\n"
     ]
    }
   ],
   "source": [
    "def last(n): return n[-1]\n",
    "\n",
    "def sort_list_last(tuples):\n",
    "    return sorted(tuples, key=last)\n",
    "\n",
    "print(sort_list_last([(2, 5), (1, 2), (4, 4), (2, 3), (2, 1)]))"
   ]
  },
  {
   "cell_type": "code",
   "execution_count": 17,
   "metadata": {},
   "outputs": [
    {
     "name": "stdout",
     "output_type": "stream",
     "text": [
      "[ 2.14011913  1.93100237 -1.37138981  2.09804034 -0.45422269]\n"
     ]
    }
   ],
   "source": [
    "import numpy as np\n",
    "x = np.random.normal(size=5)\n",
    "print(x)\n",
    "# five random numbers from normal distribution"
   ]
  },
  {
   "cell_type": "code",
   "execution_count": 18,
   "metadata": {},
   "outputs": [
    {
     "name": "stdout",
     "output_type": "stream",
     "text": [
      "[21 26 22 26 24 10]\n"
     ]
    }
   ],
   "source": [
    "import numpy as np\n",
    "x = np.random.randint(low=10, high=30, size=6)\n",
    "print(x)\n",
    "#Write a NumPy program to generate six random integers between 10 and 30"
   ]
  },
  {
   "cell_type": "code",
   "execution_count": 19,
   "metadata": {},
   "outputs": [
    {
     "name": "stdout",
     "output_type": "stream",
     "text": [
      "[[[0.1634779  0.00384155 0.10051803]\n",
      "  [0.53377585 0.59951275 0.4160278 ]\n",
      "  [0.16289144 0.95296456 0.27634858]]\n",
      "\n",
      " [[0.08166083 0.48576955 0.31072988]\n",
      "  [0.20472417 0.4078541  0.35170738]\n",
      "  [0.5732368  0.05708809 0.9870106 ]]\n",
      "\n",
      " [[0.6095591  0.98902054 0.84915274]\n",
      "  [0.77072472 0.1396087  0.45534519]\n",
      "  [0.22155451 0.49910626 0.57100275]]]\n"
     ]
    }
   ],
   "source": [
    "#Write a NumPy program to create a 3x3x3 array with random values.\n",
    "import numpy as np\n",
    "x = np.random.random((3,3,3))\n",
    "print(x)"
   ]
  },
  {
   "cell_type": "code",
   "execution_count": 20,
   "metadata": {},
   "outputs": [
    {
     "data": {
      "text/plain": [
       "['a', 'b', 'c']"
      ]
     },
     "execution_count": 20,
     "metadata": {},
     "output_type": "execute_result"
    }
   ],
   "source": [
    "# Do this instead:\n",
    "'a,b,c'.split(',')"
   ]
  },
  {
   "cell_type": "code",
   "execution_count": 21,
   "metadata": {},
   "outputs": [
    {
     "data": {
      "text/plain": [
       "['a', '', 'b', '', '', 'c', '']"
      ]
     },
     "execution_count": 21,
     "metadata": {},
     "output_type": "execute_result"
    }
   ],
   "source": [
    "# Do this instead:\n",
    "'a,,b,,,c,'.split(',')"
   ]
  },
  {
   "cell_type": "code",
   "execution_count": 22,
   "metadata": {},
   "outputs": [
    {
     "name": "stdout",
     "output_type": "stream",
     "text": [
      "Original Array:\n",
      "[[0.87160309 0.07793506 0.55337159 0.58487783 0.09553514]\n",
      " [0.76824763 0.13547684 0.96462007 0.98485948 0.31553267]\n",
      " [0.69549621 0.66386363 0.72998914 0.20663279 0.67169095]\n",
      " [0.44007567 0.11660709 0.61466311 0.6932981  0.21293807]\n",
      " [0.0335295  0.8276809  0.36351787 0.2727389  0.8986125 ]]\n",
      "Minimum and Maximum Values:\n",
      "0.03352950395715815 0.9848594759858144\n"
     ]
    }
   ],
   "source": [
    "import numpy as np\n",
    "x = np.random.random((5,5))\n",
    "print(\"Original Array:\")\n",
    "print(x) \n",
    "xmin, xmax = x.min(), x.max()\n",
    "print(\"Minimum and Maximum Values:\")\n",
    "print(xmin, xmax)"
   ]
  },
  {
   "cell_type": "raw",
   "metadata": {},
   "source": [
    "Given an array of ints, return True if 6 appears as either the first or last element in the array. The array will be length 1 or more.\n",
    "\n",
    "\n",
    "first_last6([1, 2, 6]) → True\n",
    "first_last6([6, 1, 2, 3]) → True\n",
    "first_last6([13, 6, 1, 2, 3]) → False\n"
   ]
  },
  {
   "cell_type": "code",
   "execution_count": 3,
   "metadata": {},
   "outputs": [],
   "source": [
    "def first_last6(nums):\n",
    "    if nums[0]==6 or nums[len(nums)-1]==6:\n",
    "        return True\n",
    "    return False"
   ]
  },
  {
   "cell_type": "code",
   "execution_count": 4,
   "metadata": {},
   "outputs": [
    {
     "data": {
      "text/plain": [
       "1"
      ]
     },
     "execution_count": 4,
     "metadata": {},
     "output_type": "execute_result"
    }
   ],
   "source": [
    "one = [1]\n",
    "one[-1]"
   ]
  },
  {
   "cell_type": "code",
   "execution_count": 5,
   "metadata": {},
   "outputs": [
    {
     "data": {
      "text/plain": [
       "1"
      ]
     },
     "execution_count": 5,
     "metadata": {},
     "output_type": "execute_result"
    }
   ],
   "source": [
    "one[0]"
   ]
  },
  {
   "cell_type": "code",
   "execution_count": null,
   "metadata": {},
   "outputs": [],
   "source": [
    "def common_end(a, b):\n",
    "    if (a[-1] == b[-1]) or (a[0] == b[0]):\n",
    "        return True\n",
    "    return False"
   ]
  },
  {
   "cell_type": "code",
   "execution_count": 1,
   "metadata": {},
   "outputs": [],
   "source": [
    "import turtle\n",
    "t =turtle.Turtle()\n",
    "t.circle(60)\n",
    "turtle.done()"
   ]
  },
  {
   "cell_type": "code",
   "execution_count": 1,
   "metadata": {},
   "outputs": [
    {
     "name": "stdout",
     "output_type": "stream",
     "text": [
      "abc\n",
      "<class 'str'>\n",
      "abc\n"
     ]
    }
   ],
   "source": [
    "S = input()\n",
    "print(type(S))\n",
    "print(S)"
   ]
  },
  {
   "cell_type": "code",
   "execution_count": 2,
   "metadata": {},
   "outputs": [
    {
     "name": "stdout",
     "output_type": "stream",
     "text": [
      "Enter a number20\n",
      "<class 'int'>\n",
      "20\n"
     ]
    }
   ],
   "source": [
    "N = int(input(\"Enter a number\"))\n",
    "print(type(N))\n",
    "print(N)"
   ]
  },
  {
   "cell_type": "code",
   "execution_count": 5,
   "metadata": {},
   "outputs": [
    {
     "name": "stdout",
     "output_type": "stream",
     "text": [
      "100 20\n",
      "100\n",
      "20\n"
     ]
    }
   ],
   "source": [
    "#function, interable\n",
    "a,b = map(int,input().split(\" \"))\n",
    "print(a)\n",
    "print(b)\n",
    "#if entered less values  not enough values to iterate"
   ]
  },
  {
   "cell_type": "code",
   "execution_count": 6,
   "metadata": {},
   "outputs": [
    {
     "name": "stdout",
     "output_type": "stream",
     "text": [
      "100,20\n",
      "100\n",
      "20\n"
     ]
    }
   ],
   "source": [
    "a,b = map(int,input().split(\",\"))\n",
    "print(a)\n",
    "print(b)"
   ]
  },
  {
   "cell_type": "code",
   "execution_count": 7,
   "metadata": {},
   "outputs": [
    {
     "name": "stdout",
     "output_type": "stream",
     "text": [
      "100,20,30,40\n",
      "<class 'list'>\n",
      "[100, 20, 30, 40]\n"
     ]
    }
   ],
   "source": [
    "list1= list(map(int,input().split(\",\")))\n",
    "print(type(list1))\n",
    "print(list1)"
   ]
  },
  {
   "cell_type": "code",
   "execution_count": 11,
   "metadata": {},
   "outputs": [
    {
     "name": "stdout",
     "output_type": "stream",
     "text": [
      "abc vbn\n",
      "<class 'str'>\n",
      "<class 'list'>\n",
      "['abc', 'vbn']\n"
     ]
    }
   ],
   "source": [
    "S = input()\n",
    "print(type(S))\n",
    "S = S.split(\" \")\n",
    "print(type(S))\n",
    "print(S)"
   ]
  },
  {
   "cell_type": "code",
   "execution_count": 12,
   "metadata": {},
   "outputs": [],
   "source": [
    "A=\"\".join(S)"
   ]
  },
  {
   "cell_type": "code",
   "execution_count": 13,
   "metadata": {},
   "outputs": [
    {
     "name": "stdout",
     "output_type": "stream",
     "text": [
      "abcvbn\n"
     ]
    }
   ],
   "source": [
    "print(A)"
   ]
  },
  {
   "cell_type": "code",
   "execution_count": 22,
   "metadata": {},
   "outputs": [],
   "source": [
    "def rotate_left3(nums):\n",
    "    n=1\n",
    "    for i in range(0, n): \n",
    "        first = nums[0];\n",
    "        for j in range(0,len(nums)-1):\n",
    "            nums[j] = nums[j+1]\n",
    "    nums[len(nums)-1]=first\n",
    "    return nums"
   ]
  },
  {
   "cell_type": "code",
   "execution_count": 23,
   "metadata": {},
   "outputs": [
    {
     "data": {
      "text/plain": [
       "[2, 3, 5, 1]"
      ]
     },
     "execution_count": 23,
     "metadata": {},
     "output_type": "execute_result"
    }
   ],
   "source": [
    "rotate_left3([1,2,3,5])"
   ]
  },
  {
   "cell_type": "code",
   "execution_count": 30,
   "metadata": {},
   "outputs": [
    {
     "name": "stdout",
     "output_type": "stream",
     "text": [
      "[6, 5, 4, 3, 2, 1]\n",
      "['Windows', 'macOS', 'Linux']\n"
     ]
    }
   ],
   "source": [
    "#The reverse() method doesn't return any value. It updates the existing list.\n",
    "#change made in list1 itself not anothe list is reverse() \n",
    "list1=[1,2,3,4,5,6]\n",
    "list1.reverse()\n",
    "print(list1)\n",
    "#Reverse a List Using Slicing Operator\n",
    "reversed_list = systems[::-1]\n",
    "print(reversed_list)"
   ]
  },
  {
   "cell_type": "code",
   "execution_count": 26,
   "metadata": {},
   "outputs": [
    {
     "name": "stdout",
     "output_type": "stream",
     "text": [
      "Original List: ['Windows', 'macOS', 'Linux']\n",
      "Updated List: ['Linux', 'macOS', 'Windows']\n"
     ]
    }
   ],
   "source": [
    "systems = ['Windows', 'macOS', 'Linux']\n",
    "print('Original List:', systems)\n",
    "\n",
    "# List Reverse\n",
    "systems.reverse()\n",
    "\n",
    "# updated list\n",
    "print('Updated List:', systems)"
   ]
  },
  {
   "cell_type": "code",
   "execution_count": 33,
   "metadata": {},
   "outputs": [
    {
     "name": "stdout",
     "output_type": "stream",
     "text": [
      "HelloJavaTpoint\n"
     ]
    }
   ],
   "source": [
    "str1 = \"Hello\"  \n",
    "str2 = \"JavaTpoint\"  \n",
    "print(\"\".join([str1,str2]))"
   ]
  },
  {
   "cell_type": "code",
   "execution_count": 36,
   "metadata": {},
   "outputs": [
    {
     "name": "stdout",
     "output_type": "stream",
     "text": [
      "HelloJavaTpoint\n"
     ]
    }
   ],
   "source": [
    "#In the above code, the %s represents the string data-type. We passed both variables's value to the %s that combined the strings and returned the \"Hello JavaTpoint\".\n",
    "print(\"%s%s\"%(str1,str2))"
   ]
  },
  {
   "cell_type": "code",
   "execution_count": 37,
   "metadata": {},
   "outputs": [
    {
     "name": "stdout",
     "output_type": "stream",
     "text": [
      "Hello JavaTpoint\n"
     ]
    }
   ],
   "source": [
    "print(\"{} {}\".format(str1, str2))   \n",
    "  \n",
    "# store the result in another variable   \n",
    "str3 = \"{} {}\".format(str1, str2) "
   ]
  },
  {
   "cell_type": "raw",
   "metadata": {},
   "source": [
    "def reverse3(nums):\n",
    "  return nums[::-1]\n"
   ]
  },
  {
   "cell_type": "code",
   "execution_count": 38,
   "metadata": {},
   "outputs": [
    {
     "data": {
      "text/plain": [
       "<matplotlib.legend.Legend at 0x1d0d89c1a00>"
      ]
     },
     "execution_count": 38,
     "metadata": {},
     "output_type": "execute_result"
    },
    {
     "data": {
      "image/png": "[encoded data removed]",
      "text/plain": [
       "<Figure size 432x288 with 1 Axes>"
      ]
     },
     "metadata": {
      "needs_background": "light"
     },
     "output_type": "display_data"
    }
   ],
   "source": [
    "import matplotlib.pyplot as plt\n",
    "plt.xlabel('X-axis')\n",
    "plt.ylabel('Y-axis')\n",
    "axes = plt.gca()\n",
    "axes.set_xlim([0,4])\n",
    "axes.set_ylim([0,20]) #axes limit\n",
    "\n",
    "x = [1,2,3,4]\n",
    "y1 = [1,2,3,4]\n",
    "y2 = [1,4,9,16]\n",
    "y3 = [1,8,27,64]\n",
    "\n",
    "plt.plot(x,y1,label=\"numbers\")\n",
    "plt.plot(x,y2,label=\"sqaures\")\n",
    "plt.plot(x,y3,label=\"cubes\")\n",
    "\n",
    "plt.legend(loc='upper left')"
   ]
  },
  {
   "cell_type": "markdown",
   "metadata": {},
   "source": [
    "#### Strings"
   ]
  },
  {
   "cell_type": "code",
   "execution_count": 39,
   "metadata": {},
   "outputs": [],
   "source": [
    "col = \"Cummins\""
   ]
  },
  {
   "cell_type": "code",
   "execution_count": 40,
   "metadata": {},
   "outputs": [
    {
     "ename": "TypeError",
     "evalue": "'str' object does not support item assignment",
     "output_type": "error",
     "traceback": [
      "\u001b[1;31m---------------------------------------------------------------------------\u001b[0m",
      "\u001b[1;31mTypeError\u001b[0m                                 Traceback (most recent call last)",
      "\u001b[1;32m<ipython-input-40-302134601980>\u001b[0m in \u001b[0;36m<module>\u001b[1;34m\u001b[0m\n\u001b[1;32m----> 1\u001b[1;33m \u001b[0mcol\u001b[0m\u001b[1;33m[\u001b[0m\u001b[1;36m2\u001b[0m\u001b[1;33m]\u001b[0m\u001b[1;33m=\u001b[0m\u001b[1;34m'a'\u001b[0m\u001b[1;33m\u001b[0m\u001b[1;33m\u001b[0m\u001b[0m\n\u001b[0m",
      "\u001b[1;31mTypeError\u001b[0m: 'str' object does not support item assignment"
     ]
    }
   ],
   "source": [
    "col[2]='a'#string is immutable no assignment"
   ]
  },
  {
   "cell_type": "code",
   "execution_count": 42,
   "metadata": {},
   "outputs": [
    {
     "name": "stdout",
     "output_type": "stream",
     "text": [
      "C\n"
     ]
    }
   ],
   "source": [
    "print(col[0])#indexing possible"
   ]
  },
  {
   "cell_type": "code",
   "execution_count": 44,
   "metadata": {},
   "outputs": [
    {
     "data": {
      "text/plain": [
       "'s'"
      ]
     },
     "execution_count": 44,
     "metadata": {},
     "output_type": "execute_result"
    }
   ],
   "source": [
    "col[-1]#negative indexing possible"
   ]
  },
  {
   "cell_type": "code",
   "execution_count": 46,
   "metadata": {},
   "outputs": [
    {
     "name": "stdout",
     "output_type": "stream",
     "text": [
      "Hello Girls !  How are you doing  I am sure you are doing fine \n",
      "Hello Girls !  How are you doing  I am sure you are doing fine \n"
     ]
    }
   ],
   "source": [
    "text = \"Hello Girls ! \" \" How are you doing \" \" I am sure you are doing fine \"\n",
    "print(text)\n",
    "text = (\"Hello Girls ! \" \" How are you doing \" \" I am sure you are doing fine \")\n",
    "print(text)"
   ]
  },
  {
   "cell_type": "code",
   "execution_count": 48,
   "metadata": {},
   "outputs": [
    {
     "name": "stdout",
     "output_type": "stream",
     "text": [
      "  Ho\n",
      "7\n"
     ]
    }
   ],
   "source": [
    "print(text[13:17])#slicing possible\n",
    "print(len(col))"
   ]
  },
  {
   "cell_type": "markdown",
   "metadata": {},
   "source": [
    "#### GUESS MOVIE GAME"
   ]
  },
  {
   "cell_type": "code",
   "execution_count": 58,
   "metadata": {},
   "outputs": [
    {
     "name": "stdout",
     "output_type": "stream",
     "text": [
      "please enter your name: a\n",
      "***** ******\n",
      "Guess the letter! a\n",
      "**a** ****a*\n",
      "press 1 to guess the movie or 2 to unlock the next letter...2\n",
      "Guess the letter! e\n",
      "e not found!!\n",
      "Guess the letter! i\n",
      "**a** **i*a*\n",
      "press 1 to guess the movie or 2 to unlock the next letter...2\n",
      "Guess the letter! o\n",
      "o not found!!\n",
      "Guess the letter! u\n",
      "u not found!!\n",
      "Guess the letter! a\n",
      "**a** **i*a*\n",
      "press 1 to guess the movie or 2 to unlock the next letter...2\n",
      "Guess the letter! b\n",
      "b*a** **i*a*\n",
      "press 1 to guess the movie or 2 to unlock the next letter...2\n",
      "Guess the letter! c\n",
      "b*ac* **i*a*\n",
      "press 1 to guess the movie or 2 to unlock the next letter...2\n",
      "Guess the letter! d\n",
      "b*ac* **ida*\n",
      "press 1 to guess the movie or 2 to unlock the next letter...2\n",
      "Guess the letter! l\n",
      "blac* **ida*\n",
      "press 1 to guess the movie or 2 to unlock the next letter...2\n",
      "Guess the letter! k\n",
      "black **ida*\n",
      "press 1 to guess the movie or 2 to unlock the next letter...2\n",
      "Guess the letter! f\n",
      "black f*ida*\n",
      "press 1 to guess the movie or 2 to unlock the next letter...2\n",
      "Guess the letter! r\n",
      "black frida*\n",
      "press 1 to guess the movie or 2 to unlock the next letter...2\n",
      "Guess the letter! y\n",
      "black friday\n",
      "press 1 to guess the movie or 2 to unlock the next letter...2\n",
      "Guess the letter! a\n",
      "black friday\n",
      "press 1 to guess the movie or 2 to unlock the next letter...1\n",
      "your guess? black friday\n",
      "you guessed it right!\n",
      "a your score is: 1\n",
      "If you wish to continue press 1 or 0: 0\n",
      "a Thanks for playing! your score is  1\n"
     ]
    }
   ],
   "source": [
    "import random\n",
    "\n",
    "movies=[\"anand\",\"swades\",\"andhadhun\",\"black friday\",\"dangal\",\"queen\",\"hera pheri\",\"gol maal\",\"wednesday\",\"lagaan\"]\n",
    "\n",
    "def make_quest(mname):\n",
    "    no_chars=len(mname)\n",
    "    chars= list(mname)\n",
    "    temp =[]\n",
    "    for i in range(no_chars):\n",
    "        if chars[i] == ' ':\n",
    "            temp.append(' ')\n",
    "        else:\n",
    "            temp.append('*')\n",
    "    quest =''.join(temp)     \n",
    "    return quest\n",
    "\n",
    "  \n",
    "def unlock(mod_quest,movie,ch):\n",
    "    m_list=list(movie)\n",
    "    mquest_list=list(mod_quest)\n",
    "    temp = []\n",
    "    n=len(movie)\n",
    "    for i in range(n):\n",
    "        if m_list[i] == ' ' or m_list[i] == ch:\n",
    "            temp.append(m_list[i])\n",
    "        else:\n",
    "            if mquest_list[i]=='*':\n",
    "                temp.append('*')\n",
    "            else:\n",
    "                temp.append(m_list[i])\n",
    "    new_quest = ''.join(temp)\n",
    "    return new_quest\n",
    "        \n",
    "def is_there(ch,movie):\n",
    "    cnt = movie.count(ch)\n",
    "    if cnt == 0:\n",
    "        return False\n",
    "    else:\n",
    "        return True\n",
    "\n",
    "plyname=input(\"please enter your name: \")\n",
    "pscore=0\n",
    "continu=True\n",
    "\n",
    "while continu:\n",
    "    selected_movie = random.choice(movies)\n",
    "    quest = make_quest(selected_movie)   # put * in place of movie letters but not for spaces\n",
    "    print (quest)\n",
    "    modified_quest = quest\n",
    "    not_yet = True\n",
    "    while not_yet:\n",
    "        char = input(\"Guess the letter! \")\n",
    "        if(is_there(char,selected_movie)):\n",
    "            # unlock the star and put the char in the right place\n",
    "            modified_quest = unlock(modified_quest,selected_movie,char)\n",
    "            print(modified_quest)\n",
    "            next = int(input(\"press 1 to guess the movie or 2 to unlock the next letter...\"))\n",
    "            if next==1:\n",
    "                \n",
    "                guess = input(\"your guess? \")\n",
    "                if guess == selected_movie:\n",
    "                    pscore = pscore+1\n",
    "                    print(\"you guessed it right!\")\n",
    "                    not_yet=False\n",
    "                    print(plyname,\"your score is:\",pscore)\n",
    "                else:\n",
    "                    print(\"Wrong answer! Try again\")\n",
    "                        \n",
    "        else:\n",
    "            print(char, \"not found!!\")\n",
    "        \n",
    "    go_ahead=int(input(\"If you wish to continue press 1 or 0: \"))\n",
    "    if go_ahead==0:\n",
    "        print(plyname,\"Thanks for playing! your score is \", pscore)\n",
    "        continu=False      "
   ]
  },
  {
   "cell_type": "markdown",
   "metadata": {},
   "source": [
    "#### guess word"
   ]
  },
  {
   "cell_type": "code",
   "execution_count": 61,
   "metadata": {},
   "outputs": [
    {
     "name": "stdout",
     "output_type": "stream",
     "text": [
      "Hello! enter your name player1: mm\n",
      "Hello! enter your name player2: nn\n",
      "autonomous\n",
      "osotnouamu\n",
      "osotnouamu\n",
      "It is your turn mm\n",
      "What is your guess?autonomous\n",
      "you got it!! your score is 1\n",
      "To continue press 1 else press 0: 0\n",
      "Thanks for playing mm your score is: 1\n",
      "Thanks for playing nn your score is: 0\n",
      "have a great day!\n"
     ]
    }
   ],
   "source": [
    "import random\n",
    "\n",
    "def select_word():\n",
    "    words=[\"elective\",\"education\",\"destination\",\"autonomous\",\"compengg\",\"karvenagar\"]\n",
    "    key=random.choice(words)\n",
    "    #print(key) just selecting the word from bag of words\n",
    "    return key\n",
    "\n",
    "def mix(word):\n",
    "    new=\"\".join(random.sample(word,len(word))) #jumbling the words\n",
    "    print(new)\n",
    "    return new\n",
    "\n",
    "def thanks(pn1,pn2,ps1,ps2):\n",
    "    print(\"Thanks for playing\",pn1,\"your score is:\",ps1)\n",
    "    print(\"Thanks for playing\",pn2,\"your score is:\",ps2)\n",
    "    print(\"have a great day!\")\n",
    "    return\n",
    "\n",
    "def game():\n",
    "    \n",
    "    ply1=0\n",
    "    ply2=0\n",
    "    turn=0\n",
    "    \n",
    "    play1=input(\"Hello! enter your name player1: \")\n",
    "    play2=input(\"Hello! enter your name player2: \")\n",
    "    \n",
    "    \n",
    "    while(1):\n",
    "        guess = select_word()\n",
    "        ask = mix(guess)\n",
    "        print (ask)\n",
    "        if turn%2 == 0:\n",
    "            print(\"It is your turn\",play1)\n",
    "            ans = input(\"What is your guess?\")\n",
    "            if ans==guess:\n",
    "                ply1=ply1+1\n",
    "                print(\"you got it!! your score is\",ply1)\n",
    "            else:\n",
    "                print(\"Oh! you got it wrong! correct answer is\",guess)\n",
    "                \n",
    "            contd=int(input(\"To continue press 1 else press 0: \"))\n",
    "            if contd==0:\n",
    "                thanks(play1,play2,ply1,ply2)\n",
    "                break\n",
    "        \n",
    "        else:\n",
    "            print(\"It is your turn\",play2)\n",
    "            ans = input(\"What is your guess?\")\n",
    "            if ans==guess:\n",
    "                ply2=ply2+1\n",
    "                print(\"you got it!! your score is\",ply2)\n",
    "            else:\n",
    "                print(\"Oh! you got it wrong! correct answer is\",guess)\n",
    "                \n",
    "            contd=int(input(\"To continue press 1 else press 0: \"))\n",
    "            if contd==0:\n",
    "                thanks(play1,play2,ply1,ply2)\n",
    "                break\n",
    "        turn=turn+1\n",
    "            \n",
    "    \n",
    "game()   \n"
   ]
  },
  {
   "cell_type": "markdown",
   "metadata": {},
   "source": [
    "#### Dobble Game"
   ]
  },
  {
   "cell_type": "code",
   "execution_count": 66,
   "metadata": {},
   "outputs": [
    {
     "name": "stdout",
     "output_type": "stream",
     "text": [
      "Enter Your Name\n",
      "mm\n",
      "['a', 'b', 'c', 'd', 'e', 'f', 'g', 'h', 'i', 'j', 'k', 'l', 'm', 'n', 'o', 'p', 'q', 'r', 's', 't', 'u', 'v', 'w', 'x', 'y', 'z', 'A', 'B', 'C', 'D', 'E', 'F', 'G', 'H', 'I', 'J', 'K', 'L', 'M', 'N', 'O', 'P', 'Q', 'R', 'S', 'T', 'U', 'V', 'W', 'X', 'Y', 'Z'] \n",
      "\n",
      "[0, 'K', 0, 0, 0]\n",
      "1\n",
      "[0, 0, 0, 0, 'K']\n",
      "4\n",
      "[0, 'K', 0, 0, 'e']\n",
      "[0, 'o', 0, 0, 'K']\n",
      "['V', 'K', 'f', 'w', 'e']\n",
      "['g', 'o', 'J', 'k', 'K']\n",
      "SPOT THE SIMILARITY mm\n",
      "Better luck next time\n",
      "Your current score is -1\n",
      "Want to continue the game?? Press 1 for Yes\n",
      "2\n",
      "Thanks  mm  for playing\n",
      "Your Scores are -1\n"
     ]
    }
   ],
   "source": [
    "import string\n",
    "import random\n",
    "player_name = input(\"Enter Your Name\\n\")\n",
    "score=0 #Current score of the player\n",
    "symbols=[]\n",
    "card_1=[0]*5 #It will act as the first card of symbols\n",
    "card_2=[0]*5 #It will act as the other card of symbols\n",
    "\n",
    "while(1):\n",
    "    symbol_bank = list(string.ascii_letters)\n",
    "    print(symbol_bank,\"\\n\")\n",
    "\n",
    "   \n",
    "    pos_1 = pos_2 =1\n",
    "    while pos_1 == pos_2:\n",
    "        pos_1 = random.randint(0,4)\n",
    "        pos_2 = random.randint(0,4) \n",
    "        \n",
    "    same_symbol = random.choice(symbol_bank)    \n",
    "    symbol_bank.remove(same_symbol)\n",
    "    \n",
    "    card_1[pos_1]=same_symbol\n",
    "    card_2[pos_2]=same_symbol\n",
    "    #print(card_1[pos_1])\n",
    "    #print(card_1)\n",
    "    #print(pos_1)\n",
    "    #print(card_2[pos_2])\n",
    "    #print(card_2)\n",
    "    #print(pos_2)\n",
    "    #Interchanging of postions\n",
    "    card_1[pos_2]=random.choice(symbol_bank)\n",
    "    symbol_bank.remove(card_1[pos_2])\n",
    "    #print(card_1)\n",
    "    card_2[pos_1]=random.choice(symbol_bank)\n",
    "    symbol_bank.remove(card_2[pos_1])\n",
    "    #print(card_2)\n",
    "    for i in range(5):\n",
    "        if(i!=pos_1 and i!=pos_2): #will check for 2 positions in cards\n",
    "            alphabet_1 = random.choice(symbol_bank)\n",
    "            symbol_bank.remove(alphabet_1)\n",
    "            alphabet_2 = random.choice(symbol_bank)\n",
    "            symbol_bank.remove(alphabet_2)\n",
    "            card_1[i] = alphabet_1\n",
    "            card_2[i] = alphabet_2\n",
    "            \n",
    "    print(card_1)\n",
    "    print(card_2)\n",
    "    \n",
    "    t=input(\"SPOT THE SIMILARITY \")\n",
    "    if t==same_symbol:\n",
    "        print(\"You Guessed it right\")\n",
    "        score=score+1\n",
    "    else:\n",
    "        print(\"Better luck next time\")\n",
    "        score=score-1\n",
    "    print(\"Your current score is\",score)\n",
    "    c=input(\"Want to continue the game?? Press 1 for Yes\\n\")\n",
    "    if c!='1':\n",
    "        print(\"Thanks \",player_name,\" for playing\")\n",
    "        print(\"Your Scores are\",score)\n",
    "        break"
   ]
  },
  {
   "cell_type": "markdown",
   "metadata": {},
   "source": [
    "### Equal Point distribution"
   ]
  },
  {
   "cell_type": "code",
   "execution_count": 68,
   "metadata": {},
   "outputs": [],
   "source": [
    "import networkx as nx\n",
    "G = nx.DiGraph()"
   ]
  },
  {
   "cell_type": "code",
   "execution_count": 69,
   "metadata": {},
   "outputs": [
    {
     "data": {
      "text/plain": [
       "NodeView(())"
      ]
     },
     "execution_count": 69,
     "metadata": {},
     "output_type": "execute_result"
    }
   ],
   "source": [
    "G.nodes() #empty graph"
   ]
  },
  {
   "cell_type": "code",
   "execution_count": 70,
   "metadata": {},
   "outputs": [],
   "source": [
    "G.add_nodes_from([i for i in range(5)])"
   ]
  },
  {
   "cell_type": "code",
   "execution_count": 71,
   "metadata": {},
   "outputs": [
    {
     "data": {
      "text/plain": [
       "NodeView((0, 1, 2, 3, 4))"
      ]
     },
     "execution_count": 71,
     "metadata": {},
     "output_type": "execute_result"
    }
   ],
   "source": [
    "G.nodes()"
   ]
  },
  {
   "cell_type": "code",
   "execution_count": 72,
   "metadata": {},
   "outputs": [
    {
     "data": {
      "text/plain": [
       "[0, 1, 2, 3, 4]"
      ]
     },
     "execution_count": 72,
     "metadata": {},
     "output_type": "execute_result"
    }
   ],
   "source": [
    "list(G.nodes())"
   ]
  },
  {
   "cell_type": "code",
   "execution_count": 73,
   "metadata": {},
   "outputs": [
    {
     "data": {
      "text/plain": [
       "OutEdgeView([])"
      ]
     },
     "execution_count": 73,
     "metadata": {},
     "output_type": "execute_result"
    }
   ],
   "source": [
    "G.edges()#default outedges"
   ]
  },
  {
   "cell_type": "code",
   "execution_count": 74,
   "metadata": {},
   "outputs": [
    {
     "data": {
      "text/plain": [
       "OutEdgeView([])"
      ]
     },
     "execution_count": 74,
     "metadata": {},
     "output_type": "execute_result"
    }
   ],
   "source": [
    "G.out_edges()"
   ]
  },
  {
   "cell_type": "code",
   "execution_count": 75,
   "metadata": {},
   "outputs": [
    {
     "data": {
      "text/plain": [
       "InEdgeView([])"
      ]
     },
     "execution_count": 75,
     "metadata": {},
     "output_type": "execute_result"
    }
   ],
   "source": [
    "G.in_edges()"
   ]
  },
  {
   "cell_type": "code",
   "execution_count": 76,
   "metadata": {},
   "outputs": [],
   "source": [
    "G.add_edge(1,2)\n",
    "G.add_edge(0,3)\n",
    "G.add_edge(3,2)\n",
    "G.add_edge(3,4)\n",
    "G.add_edge(4,1)"
   ]
  },
  {
   "cell_type": "code",
   "execution_count": 77,
   "metadata": {},
   "outputs": [
    {
     "name": "stdout",
     "output_type": "stream",
     "text": [
      "[(0, 3)]\n",
      "[(3, 2), (3, 4)]\n"
     ]
    }
   ],
   "source": [
    "print(G.in_edges(3))\n",
    "print(G.out_edges(3))"
   ]
  },
  {
   "cell_type": "code",
   "execution_count": 78,
   "metadata": {},
   "outputs": [
    {
     "data": {
      "image/png": "[encoded data removed]",
      "text/plain": [
       "<Figure size 432x288 with 1 Axes>"
      ]
     },
     "metadata": {},
     "output_type": "display_data"
    }
   ],
   "source": [
    "import random\n",
    "\n",
    "def add_edges():\n",
    "    nodes = list(G.nodes())\n",
    "    for s in nodes:\n",
    "        for t in nodes:\n",
    "            if s!=t:\n",
    "                r = random.random() #toss a coin randomly add edges\n",
    "                if r<0.5:\n",
    "                    G.add_edge(s,t)\n",
    "    return G\n",
    "                \n",
    "\n",
    "G = nx.DiGraph()\n",
    "G.add_nodes_from([i for i in range(10)])\n",
    "G =add_edges()\n",
    "\n",
    "#visualise the graph\n",
    "import matplotlib.pyplot as plt \n",
    "%matplotlib inline\n",
    "\n",
    "nx.draw(G,with_labels= True)\n",
    "plt.show()"
   ]
  },
  {
   "cell_type": "code",
   "execution_count": 79,
   "metadata": {},
   "outputs": [
    {
     "name": "stdout",
     "output_type": "stream",
     "text": [
      "[116.66666666666667, 16.666666666666668, 141.66666666666666, 66.66666666666667, 133.33333333333334, 41.66666666666667, 133.33333333333334, 91.66666666666667, 116.66666666666667, 141.66666666666669]\n",
      "Press # to stop ,enter to continue,\n",
      "[100.69444444444444, 23.611111111111114, 152.7777777777778, 65.27777777777779, 105.55555555555557, 19.444444444444446, 128.47222222222223, 115.27777777777779, 123.61111111111113, 165.27777777777777]\n",
      "Press # to stop ,enter to continuem\n",
      "[101.50462962962965, 27.546296296296294, 150.63657407407408, 66.95601851851852, 106.6550925925926, 20.254629629629633, 128.18287037037038, 115.74074074074075, 119.73379629629629, 162.78935185185185]\n",
      "Press # to stop ,enter to continuej\n",
      "[101.71199845679013, 27.131558641975307, 149.77334104938274, 66.57021604938272, 107.83661265432099, 21.330054012345677, 129.43672839506175, 114.48688271604938, 119.83989197530865, 161.88271604938274]\n",
      "Press # to stop ,enter to continue#\n",
      "[(5, 21.330054012345677), (1, 27.131558641975307), (3, 66.57021604938272), (0, 101.71199845679013), (4, 107.83661265432099), (7, 114.48688271604938), (8, 119.83989197530865), (6, 129.43672839506175), (2, 149.77334104938274), (9, 161.88271604938274)]\n",
      "[(5, 0.03535993765312204), (1, 0.0363155117678345), (3, 0.0716003466981877), (0, 0.10315900091126773), (4, 0.10942014511897885), (7, 0.10969236267720639), (8, 0.11698644018180818), (6, 0.12515773861827445), (2, 0.1418462387981674), (9, 0.1504622775751528)]\n"
     ]
    },
    {
     "data": {
      "image/png": "[encoded data removed]",
      "text/plain": [
       "<Figure size 432x288 with 1 Axes>"
      ]
     },
     "metadata": {},
     "output_type": "display_data"
    }
   ],
   "source": [
    "\n",
    "import networkx as nx\n",
    "import random as R\n",
    "import matplotlib.pyplot as plt\n",
    "\n",
    "def add_edges():\n",
    "    nodes=list(G.nodes())\n",
    "    for i in range(len(nodes)):\n",
    "        for j in range(len(nodes)):\n",
    "            if nodes[j]!=nodes[i]:\n",
    "                rand=R.random()\n",
    "                if rand<0.5:\n",
    "                    G.add_edge(i,j)\n",
    "\n",
    "    return G\n",
    "\n",
    "def assign_points(G):\n",
    "    nodes=list(G.nodes())\n",
    "    p=[]\n",
    "    for _ in nodes:\n",
    "        p.append(100)\n",
    "    return p\n",
    "\n",
    "\n",
    "def distribute_points(G,points):\n",
    "    nodes=list(G.nodes())\n",
    "    new_points=[]\n",
    "    for i in range(len(nodes)):\n",
    "        new_points.append(0)\n",
    "        \n",
    "    for n in nodes:\n",
    "        out=list(G.out_edges(n))\n",
    "        if len(out):\n",
    "            share=points[n]/len(out)\n",
    "            for (src,tgt) in out:\n",
    "                new_points[tgt]+=share\n",
    "        else:\n",
    "            new_points[n]=new_points[n]+points[n]\n",
    "    return new_points\n",
    "\n",
    "\n",
    "def keep_distributing(points,G):\n",
    "    \n",
    "    while(1):\n",
    "        new_pt=distribute_points(G,points)\n",
    "        print(new_pt)\n",
    "        points=new_pt\n",
    "        stop=input(\"Press # to stop ,enter to continue\")\n",
    "        if stop==\"#\":\n",
    "            break\n",
    "    return new_pt\n",
    "\n",
    "\n",
    "def rank_points(final_points):\n",
    "    #make a dictionary to assign key value pair\n",
    "    d={}\n",
    "    for i in range(len(final_points)):\n",
    "        #Assigning key with points\n",
    "        d[i]=final_points[i]\n",
    "     \n",
    "        #sort the dictionary on the basis of key which is here function lambda\n",
    "        # where f is representing the dictionary f[1] denotes value at index 1\n",
    "    print(sorted(d.items(),key=lambda f:f[1]))\n",
    "        \n",
    "\n",
    "G=nx.DiGraph()\n",
    "G.add_nodes_from([i for i in range(10)])\n",
    "G=add_edges()\n",
    "\n",
    "#Add labels to nodes\n",
    "nx.draw(G,with_labels=True)\n",
    "\n",
    "\n",
    "#Assign points to each nodes so that we can distribute later\n",
    "points = assign_points(G)\n",
    "\n",
    "\n",
    "#distribute points\n",
    "final_points=keep_distributing(points,G)\n",
    "\n",
    "\n",
    "#rank all the points\n",
    "rank_points(final_points)\n",
    "\n",
    "\n",
    "#lets compare with default networkx function to check whether our calculated results are matching the values calculated by default functions itself\n",
    "result=nx.pagerank(G) #Gives more upto 2 decimal places compared to our results\n",
    "print(sorted(result.items(),key=lambda f:f[1]))\n",
    "\n",
    "nx.draw(G)\n",
    "plt.show()\n"
   ]
  },
  {
   "cell_type": "code",
   "execution_count": 1,
   "metadata": {},
   "outputs": [
    {
     "name": "stdout",
     "output_type": "stream",
     "text": [
      "1,2,3\n",
      "M values are: [1, 2, 3]\n",
      "Z values are: 2,3,3\n"
     ]
    }
   ],
   "source": [
    "\"\"\"\n",
    "To calculate Z = Square root of [(2 * X * M)/Y]\n",
    "Given X and Y, accept M as list of values. \n",
    "Calculate Z for all the values of M\n",
    "\"\"\"\n",
    "\n",
    "# Solution 1\n",
    "\n",
    "from math import sqrt\n",
    "X=50\n",
    "Y=30\n",
    "Z=[]\n",
    "M=list(map(int,input().split(',')))    # input ase.g.:  1,2,3\n",
    "print('M values are:',M)\n",
    "\n",
    "for i in range(len(M)):\n",
    "    re=round(sqrt((2 * X * M[i])/Y))\n",
    "    Z.append(re)\n",
    "\n",
    "Z = ','.join(map(str,Z))\n",
    "print('Z values are:',Z)   \n",
    "    \n"
   ]
  },
  {
   "cell_type": "code",
   "execution_count": 3,
   "metadata": {},
   "outputs": [
    {
     "name": "stdout",
     "output_type": "stream",
     "text": [
      "123\n",
      "Q values are:  20\n"
     ]
    }
   ],
   "source": [
    "#above using list comprehension\n",
    "# solution 2   List comprehension used here\n",
    "#to calculate Q = Square root of [(2 * C * D)/H]\n",
    "from math import sqrt\n",
    "H=30\n",
    "C=50\n",
    "D=list(map(int,input().split(\",\")))    # input as: 1,2,3\n",
    "Q=[round(sqrt((2*C*i)/H)) for i in D]\n",
    "Q = ','.join(map(str, Q))\n",
    "print('Q values are: ',Q)"
   ]
  },
  {
   "cell_type": "code",
   "execution_count": 4,
   "metadata": {},
   "outputs": [
    {
     "name": "stdout",
     "output_type": "stream",
     "text": [
      "abc@google.com\n",
      "google\n"
     ]
    }
   ],
   "source": [
    "# Accept mailID and print only the company name. \n",
    "#eg: i/p: abc@google.com   ans: google \n",
    "\n",
    "# Solution 1  \n",
    "\n",
    "email_add=list(input())   # input as : abc@google.com\n",
    "company=\"\"\n",
    "#print('email ID:',email_add)\n",
    "index1=email_add.index('@')\n",
    "index2=email_add.index('.')\n",
    "for i in range(index1+1,index2):\n",
    "    company+=email_add[i]\n",
    "print(company)\n"
   ]
  },
  {
   "cell_type": "code",
   "execution_count": 5,
   "metadata": {},
   "outputs": [
    {
     "name": "stdout",
     "output_type": "stream",
     "text": [
      "abc@google.com\n",
      "Name of the company is: google\n"
     ]
    }
   ],
   "source": [
    "# solution 2   List comprehension used here\n",
    "\n",
    "email_add=list(input())\n",
    "l=[email_add[i] for i in range(email_add.index('@')+1,email_add.index('.'))]  \n",
    "l=\"\".join(l)    # converted list l  to string l\n",
    "print('Name of the company is:',l) "
   ]
  },
  {
   "cell_type": "code",
   "execution_count": 6,
   "metadata": {},
   "outputs": [
    {
     "name": "stdout",
     "output_type": "stream",
     "text": [
      "2 4 5 3 6\n",
      "Given list of values: [2, 3, 4, 5, 6]\n",
      "Missing number from the given list is: 1\n"
     ]
    }
   ],
   "source": [
    "# Given a list of n-1 numbers ranging from 1 to n, \n",
    "#Find the missing number. There are no duplicates\n",
    "# e.g: 2 5 4 3 6    here missing number is 1\n",
    "\n",
    "# Solution 1\n",
    "\n",
    "l=[]\n",
    "ls=list(map(int,input().split(\" \")))  # input as:2 5 4 3 6\n",
    "ls.sort()\n",
    "print('Given list of values:',ls)\n",
    "for i in range(1,len(ls)+1):\n",
    "    if i not in ls:\n",
    "        l.append(i)\n",
    "#l=[i for i in range(1,len(ls)+1) if i not in ls]\n",
    "print ('Missing number from the given list is:',l[0])\n",
    "    "
   ]
  },
  {
   "cell_type": "code",
   "execution_count": 7,
   "metadata": {},
   "outputs": [
    {
     "name": "stdout",
     "output_type": "stream",
     "text": [
      "2 4 5 3 6\n",
      "[2, 3, 4, 5, 6]\n",
      "Missing number is: 1\n"
     ]
    }
   ],
   "source": [
    "# Given a list of n-1 numbers ranging from 1 to n, \n",
    "#your task is to find the missing number. There are no duplicates\n",
    "\n",
    "    \n",
    "\n",
    "# Solution 2 List comprehension used here\n",
    "\n",
    "l=[]\n",
    "ls=list(map(int,input().split(\" \")))\n",
    "ls.sort()\n",
    "print(ls)\n",
    "l=[i for i in range(1,len(ls)+1) if i not in ls]\n",
    "print('Missing number is:',l[0])\n"
   ]
  },
  {
   "cell_type": "code",
   "execution_count": 9,
   "metadata": {},
   "outputs": [
    {
     "name": "stdout",
     "output_type": "stream",
     "text": [
      "0.42633179999938875\n"
     ]
    }
   ],
   "source": [
    "\"\"\"\n",
    "To calculate Z = Square root of [(2 * X * M)/Y]\n",
    "Given X and Y, accept M as list of values. \n",
    "Calculate Z for all the values of M\n",
    "\"\"\"\n",
    "\n",
    "# Solution 1\n",
    "\n",
    "import timeit\n",
    "\n",
    "mysetup = \"from math import sqrt\"\n",
    "\n",
    "mycode = '''\n",
    "X=50\n",
    "Y=30\n",
    "Z=[]\n",
    "M=[10,20,30,40,50]\n",
    "#print('M values are:',M)\n",
    "\n",
    "for i in range(len(M)):\n",
    "    re=round(sqrt((2 * X * M[i])/Y))\n",
    "    Z.append(re)\n",
    "\n",
    "Z = ','.join(map(str,Z))\n",
    "#print('Z values are:',Z)   \n",
    "'''   \n",
    "\n",
    "print(timeit.timeit(stmt=mycode, setup=mysetup,number=100000))"
   ]
  },
  {
   "cell_type": "code",
   "execution_count": 10,
   "metadata": {},
   "outputs": [
    {
     "name": "stdout",
     "output_type": "stream",
     "text": [
      "0.3624210999996649\n"
     ]
    }
   ],
   "source": [
    "\"\"\"\n",
    " to calculate Q = Square root of [(2 * C * D)/H]\n",
    "\"\"\"\n",
    "# solution 2   List comprehension used here\n",
    "\n",
    "import timeit\n",
    "\n",
    "mysetup = \"from math import sqrt\"\n",
    "mycode = '''\n",
    "H=30\n",
    "C=50\n",
    "D=[10,20,30,40,50]\n",
    "Q=[round(sqrt((2*C*i)/H)) for i in D]\n",
    "Q = ','.join(map(str, Q))\n",
    "#print('Q values are: ',Q)\n",
    "'''\n",
    "# timeit statement \n",
    "print (timeit.timeit(setup = mysetup,stmt = mycode, number = 100000))"
   ]
  },
  {
   "cell_type": "code",
   "execution_count": 11,
   "metadata": {},
   "outputs": [
    {
     "name": "stdout",
     "output_type": "stream",
     "text": [
      "Original array: \n",
      "[[ 0 10 20]\n",
      " [20 30 40]]\n",
      "Values bigger than 10 = [20 20 30 40]\n",
      "Their indices are  (array([0, 1, 1, 1], dtype=int64), array([2, 0, 1, 2], dtype=int64))\n"
     ]
    }
   ],
   "source": [
    "import numpy as np\n",
    "x = np.array([[0, 10, 20], [20, 30, 40]])\n",
    "print(\"Original array: \")\n",
    "print(x)\n",
    "print(\"Values bigger than 10 =\", x[x>10])\n",
    "print(\"Their indices are \", np.nonzero(x > 10))\n"
   ]
  }
 ],
 "metadata": {
  "kernelspec": {
   "display_name": "Python 3",
   "language": "python",
   "name": "python3"
  },
  "language_info": {
   "codemirror_mode": {
    "name": "ipython",
    "version": 3
   },
   "file_extension": ".py",
   "mimetype": "text/x-python",
   "name": "python",
   "nbconvert_exporter": "python",
   "pygments_lexer": "ipython3",
   "version": "3.8.5"
  }
 },
 "nbformat": 4,
 "nbformat_minor": 4
}
