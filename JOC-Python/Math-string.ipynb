{
 "cells": [
  {
   "cell_type": "code",
   "execution_count": 4,
   "metadata": {},
   "outputs": [
    {
     "name": "stdout",
     "output_type": "stream",
     "text": [
      "Math:  81.25\n",
      "Math:  97\n",
      "Math:  82\n",
      "18.75\n",
      "3\n",
      "18\n",
      "6.75\n"
     ]
    }
   ],
   "source": [
    "print(\"Math: \", 100 - 25*3/4)\n",
    "print(\"Math: \", 100 - 25*3%4)\n",
    "print(\"Math: \", 100 - 25*3//4) #// floor division\n",
    "print (25*3/4)\n",
    "print (25*3%4)\n",
    "print (25*3//4)\n",
    "print(3 + 2 + 1 - 5 + 4 % 2 - 1 / 4 + 6)"
   ]
  },
  {
   "cell_type": "code",
   "execution_count": 56,
   "metadata": {},
   "outputs": [
    {
     "name": "stdout",
     "output_type": "stream",
     "text": [
      "Hello Shweta\n",
      "Hello 'Shweta'\n",
      "Roll No: 7878\n",
      "Roll No: 7878\n",
      "....................\n",
      "Supriya\n"
     ]
    }
   ],
   "source": [
    "my_name=\"Shweta\"\n",
    "roll_no=7878\n",
    "my_dept=\"Computer Engg\"\n",
    "print(\"Hello %s\" %my_name)\n",
    "print(\"Hello %r\" %my_name)\n",
    "print(\"Roll No: %d\" %roll_no)\n",
    "print(\"Roll No: %r\" %roll_no)\n",
    "print('.' *20)\n",
    "str1='S'\n",
    "str2='u'\n",
    "str3='p'\n",
    "str4='r'\n",
    "str5='i'\n",
    "str6='y'\n",
    "str7='a'\n",
    "print(str1+str2+str3+str4+str5+str6+str7)"
   ]
  },
  {
   "cell_type": "code",
   "execution_count": 55,
   "metadata": {},
   "outputs": [
    {
     "name": "stdout",
     "output_type": "stream",
     "text": [
      "Those who love math and those don't\n",
      "I love math\n",
      "I love 'math'\n",
      "I love math and 'science'\n",
      "Lovely sky with breathtaking view\n",
      "....................\n"
     ]
    }
   ],
   "source": [
    "# Strings and Text\n",
    "x = \"math\"\n",
    "i = 'science'\n",
    "y = \"don't\"\n",
    "z = \"Those who love %s and those %s\" % (x, y)\n",
    "print(z)\n",
    "print (\"I love %s\" % x)\n",
    "print (\"I love %r\" % x)    # prints the raw data of the variable...used for debugging...otherwise for regular printing use %s\n",
    "print (\"I love %s and %r\" % (x,i))\n",
    "print (\"Lovely sky with breathtaking %s\" % 'view')\n",
    "print ('.' * 20)    # printing twenty dots"
   ]
  },
  {
   "cell_type": "code",
   "execution_count": 18,
   "metadata": {},
   "outputs": [
    {
     "name": "stdout",
     "output_type": "stream",
     "text": [
      "%r %r %r %r\n",
      "1 2 3 4\n",
      "'C' 'C' 'E' 'W'\n",
      "True False True False\n"
     ]
    }
   ],
   "source": [
    "formatter = \"%r %r %r %r\"\n",
    "print(formatter)\n",
    "print(formatter % (1, 2, 3, 4))\n",
    "print(formatter % (\"C\", \"C\", \"E\", \"W\"))\n",
    "print(formatter % (True, False, True, False))"
   ]
  },
  {
   "cell_type": "code",
   "execution_count": 68,
   "metadata": {},
   "outputs": [
    {
     "name": "stdout",
     "output_type": "stream",
     "text": [
      "Python has 2 quote types.\n",
      "Pune has  10 major attractions for visitors.\n"
     ]
    }
   ],
   "source": [
    "# printf style string formatting\n",
    "print('%(language)s has %(number)d quote types.' %{'language': \"Python\", \"number\": 2})\n",
    "print('%(city)s has %(number)3d major attractions for visitors.' %{'city': \"Pune\", \"number\": 10})"
   ]
  },
  {
   "cell_type": "code",
   "execution_count": 53,
   "metadata": {},
   "outputs": [
    {
     "name": "stdout",
     "output_type": "stream",
     "text": [
      "this is \\t single tab\r",
      "\u0007\n",
      "this is \t single tab\n"
     ]
    }
   ],
   "source": [
    "# \\t  tab\n",
    "# \\n  Line feed\n",
    "# \\r  carriage return\n",
    "# \\a  bell\n",
    "# \\b  backspace\n",
    "# \\\\  backslash\n",
    "# \\'  single quote\n",
    "# \\\"  double quote\n",
    "use_tab=\"this is \\\\t single tab\\r\\a\" # escape seuences \\a bell \\\\ backslash \\t  tab \\r CR \\n Line feed\n",
    "print(use_tab)\n",
    "use_tab=\"this is \\t single tab\"\n",
    "print(use_tab)"
   ]
  }
 ],
 "metadata": {
  "kernelspec": {
   "display_name": "Python 3",
   "language": "python",
   "name": "python3"
  },
  "language_info": {
   "codemirror_mode": {
    "name": "ipython",
    "version": 3
   },
   "file_extension": ".py",
   "mimetype": "text/x-python",
   "name": "python",
   "nbconvert_exporter": "python",
   "pygments_lexer": "ipython3",
   "version": "3.8.5"
  }
 },
 "nbformat": 4,
 "nbformat_minor": 2
}
