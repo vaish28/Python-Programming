{
 "cells": [
  {
   "cell_type": "code",
   "execution_count": 8,
   "metadata": {},
   "outputs": [
    {
     "name": "stdout",
     "output_type": "stream",
     "text": [
      "adding 200 and 100 \n",
      "300\n"
     ]
    }
   ],
   "source": [
    "def add(a,b):\n",
    "    print(\"adding %d and %d \"%(a,b))\n",
    "    return a+b\n",
    "print(add(200,100))\n",
    "\n",
    "#%d is used as a placeholder\n",
    "#for numeric or decimal values. \n",
    "#For example (for python 3) print ('%s is %d years old' % ('Joe', 42))"
   ]
  },
  {
   "cell_type": "markdown",
   "metadata": {},
   "source": [
    "https://nptel.ac.in/content/storage2/courses/downloads_new/106106182/noc20-cs35_Week_06_Assignment_01.pdf\n",
    "\n",
    "\n",
    "https://github.com/vishnureddy7/Joy-of-Computing-using-Python-NPTEL\n"
   ]
  },
  {
   "cell_type": "code",
   "execution_count": 9,
   "metadata": {},
   "outputs": [
    {
     "name": "stdout",
     "output_type": "stream",
     "text": [
      "adding 5 and 6 \n",
      "11\n"
     ]
    }
   ],
   "source": [
    "# %d form for addition\n",
    "def add_number(a,b):\n",
    "    print(\"adding %d and %d \" %(a,b))\n",
    "    return a+b\n",
    "print(add_number(5,6))"
   ]
  },
  {
   "cell_type": "code",
   "execution_count": 13,
   "metadata": {},
   "outputs": [
    {
     "name": "stdout",
     "output_type": "stream",
     "text": [
      "adding 5 and 6 and sum is 11\n",
      "subtracting 5 and 6 and difference is -1\n",
      "Multiplying 5 and 6 and product is 30\n",
      "Dividing 5 and 6 and divison is 0\n",
      "Remainder is 5 \n"
     ]
    }
   ],
   "source": [
    "def add_number(a,b):\n",
    "    print(\"adding %d and %d and sum is %d\" %(a,b,(a+b)))\n",
    "    \n",
    "def sub_number(a,b):\n",
    "    print('subtracting %d and %d and difference is %d' %(a,b,(a-b)))\n",
    "    \n",
    "def multiply(a,b):\n",
    "    print('Multiplying %d and %d and product is %d' %(a,b,(a*b)))\n",
    "    \n",
    "def divison(a,b):\n",
    "    print('Dividing %d and %d and divison is %d' %(a,b,a/b))\n",
    "    #print(\"Remainder is %d \"%a%b)\n",
    "    print(\"Remainder is %d \"%(a%b))\n",
    "    \n",
    "\n",
    "add_number(5,6)\n",
    "\n",
    "sub_number(5,6)\n",
    "\n",
    "multiply(5,6)\n",
    "\n",
    "divison(5,6)"
   ]
  },
  {
   "cell_type": "code",
   "execution_count": 4,
   "metadata": {},
   "outputs": [
    {
     "name": "stdout",
     "output_type": "stream",
     "text": [
      "Quotient is 2 and Remainder is 0\n"
     ]
    }
   ],
   "source": [
    "# returning two values in function\n",
    "\n",
    "def divison(a,b):\n",
    "    return (a/b,a%b)\n",
    "\n",
    "quo,rem=divison(10,5)\n",
    "print('Quotient is %d and Remainder is %d'  %(quo,rem))"
   ]
  },
  {
   "cell_type": "code",
   "execution_count": 17,
   "metadata": {},
   "outputs": [
    {
     "name": "stdout",
     "output_type": "stream",
     "text": [
      "Using randrange: 0\n"
     ]
    }
   ],
   "source": [
    "import random as rand\n",
    "\n",
    "\n",
    "print('using random range ',(rand.randrange(0,5,2)))\n",
    "#print('Using randrange:',(random.randrange(0,5,2)))  # start, stop and step\n"
   ]
  },
  {
   "cell_type": "markdown",
   "metadata": {},
   "source": [
    "#### randrange\n",
    "random.randrange(stop)\n",
    "random.randrange(start, stop,[, step])\n",
    "Return a randomly selected element from range(start, stop, step). This is equivalent to choice(range(start, stop, step)), but doesn’t actually build a range object\n",
    "\n",
    "#### randint\n",
    "random.randint(a, b)\n",
    "Return a random integer N such that a <= N <= b. Alias for randrange(a, b+1)"
   ]
  },
  {
   "cell_type": "code",
   "execution_count": 16,
   "metadata": {},
   "outputs": [
    {
     "name": "stdout",
     "output_type": "stream",
     "text": [
      "using random int  4\n"
     ]
    }
   ],
   "source": [
    "print('using random int ',(rand.randint(0,5)))"
   ]
  },
  {
   "cell_type": "markdown",
   "metadata": {},
   "source": [
    "#### getrandbits\n",
    "Return an 3 bits sized integer\n",
    "Returns a non-negative Python integer with k random bits. \n",
    "When available, getrandbits() enables randrange() to handle arbitrarily large ranges."
   ]
  },
  {
   "cell_type": "code",
   "execution_count": 20,
   "metadata": {},
   "outputs": [
    {
     "name": "stdout",
     "output_type": "stream",
     "text": [
      "using random getrandbits  6\n"
     ]
    }
   ],
   "source": [
    "print('using random getrandbits ',(rand.getrandbits(3)))"
   ]
  },
  {
   "cell_type": "code",
   "execution_count": 26,
   "metadata": {},
   "outputs": [
    {
     "name": "stdout",
     "output_type": "stream",
     "text": [
      "['Maharashtra', 'Gujarat', 'Karnataka', 'Bihar', 'Tamil Nadu']\n"
     ]
    }
   ],
   "source": [
    "states = ['Bihar','Maharashtra','Tamil Nadu','Karnataka','Gujarat']\n",
    "rand.shuffle(states)\n",
    "print(states)#changes applied to original string"
   ]
  },
  {
   "cell_type": "code",
   "execution_count": 27,
   "metadata": {},
   "outputs": [
    {
     "name": "stdout",
     "output_type": "stream",
     "text": [
      "Bihar\n"
     ]
    }
   ],
   "source": [
    "#randomly choosing one value\n",
    "\n",
    "selected =rand.choice(states)\n",
    "print(selected)"
   ]
  },
  {
   "cell_type": "markdown",
   "metadata": {},
   "source": [
    "#### rand.sample()\n",
    "\n",
    "random.sample(population, k, *, counts=None)\n",
    "\n",
    "Return a k length list of unique elements chosen from the population sequence or set. Used for random sampling without replacement.\n",
    "\n",
    "\n",
    "Returns a new list containing elements from the population while leaving the original population unchanged. The resulting list is in selection order so that all sub-slices will also be valid random samples.\n",
    "\n",
    "Members of the population need not be hashable or unique. If the population contains repeats, then each occurrence is a possible selection in the sample.\n",
    "\n"
   ]
  },
  {
   "cell_type": "code",
   "execution_count": 29,
   "metadata": {},
   "outputs": [
    {
     "name": "stdout",
     "output_type": "stream",
     "text": [
      "['t', 'r', 'e', 'w', 'y', 'q']\n",
      "qwerty\n",
      "qwyetr\n"
     ]
    }
   ],
   "source": [
    "word=\"qwerty\"\n",
    "print(rand.sample(word,len(word))) \n",
    "print(word)\n",
    "print(\"\".join(rand.sample(word,len(word))))\n",
    "# Returns a new list containing elements from the population while leaving the original population unchanged"
   ]
  },
  {
   "cell_type": "code",
   "execution_count": 43,
   "metadata": {},
   "outputs": [
    {
     "name": "stdout",
     "output_type": "stream",
     "text": [
      "['q', 't', 'e', 'w', 'y', 't', 'r']\n",
      "['r', 'y']\n",
      "qwertty\n",
      "tywteqr\n"
     ]
    }
   ],
   "source": [
    "word=\"qwertty\"\n",
    "print(rand.sample(word,len(word)))\n",
    "print(rand.sample(word,2))\n",
    "print(word)\n",
    "print(\"\".join(rand.sample(word,len(word))))\n",
    "# Returns a new list containing elements from the population while leaving the original population unchanged"
   ]
  },
  {
   "cell_type": "code",
   "execution_count": 37,
   "metadata": {},
   "outputs": [
    {
     "name": "stdout",
     "output_type": "stream",
     "text": [
      "vaos\n",
      "v a o s\n",
      "v  a  o  s\n"
     ]
    }
   ],
   "source": [
    "print(\"\".join(\"vaos\"))\n",
    "print(\" \".join(\"vaos\"))\n",
    "print(\"  \".join(\"vaos\"))"
   ]
  },
  {
   "cell_type": "code",
   "execution_count": 21,
   "metadata": {},
   "outputs": [
    {
     "name": "stdout",
     "output_type": "stream",
     "text": [
      "['blue', 'red', 'blue', 'red', 'red']\n"
     ]
    }
   ],
   "source": [
    "print(rand.sample(['red', 'red', 'red', 'red', 'blue', 'blue'], k=5)) "
   ]
  },
  {
   "cell_type": "code",
   "execution_count": 46,
   "metadata": {},
   "outputs": [
    {
     "name": "stdout",
     "output_type": "stream",
     "text": [
      "[3, 8, 3, 6]\n"
     ]
    }
   ],
   "source": [
    "ls=[1,2,3,4,5,6,7,8,9,10]\n",
    "ch_made=random.choices(ls,k=4)\n",
    "print(ch_made)"
   ]
  },
  {
   "cell_type": "code",
   "execution_count": 51,
   "metadata": {},
   "outputs": [
    {
     "name": "stdout",
     "output_type": "stream",
     "text": [
      "0.13467193542241407\n",
      "2.812114066233045\n",
      "Gaussian distribution 8.024548304567581\n"
     ]
    }
   ],
   "source": [
    "print(rand.random())\n",
    "print(random.uniform(1,4))\n",
    "# Syntax : random.gauss(mu, sigma)\n",
    "\n",
    "# Parameters :\n",
    "#    mu : mean\n",
    "#    sigma : standard deviation\n",
    "\n",
    "# Returns : a random gaussian distribution floating number\n",
    "print('Gaussian distribution',random.gauss(10.22,3.94))   #4, 9, 11, 12, 17, 5, 8, 12, 14"
   ]
  },
  {
   "cell_type": "markdown",
   "metadata": {},
   "source": [
    "## STRINGS"
   ]
  },
  {
   "cell_type": "raw",
   "metadata": {},
   "source": [
    "1. Strings are immutable sequences of Unicode code points. \n",
    "2. String literals are written in a variety of ways:\n",
    "3. There is also no mutable string type, but str.join() or io.StringIO can be used to efficiently construct strings from multiple fragments."
   ]
  },
  {
   "cell_type": "markdown",
   "metadata": {},
   "source": [
    "String constants:- \n",
    "The constants defined in this module are:\n",
    "\n",
    "string.ascii_letters:- \n",
    "The concatenation of the ascii_lowercase and ascii_uppercase constants described below. This value is not locale-dependent.\n",
    "\n",
    "string.ascii_lowercase:- \n",
    "The lowercase letters 'abcdefghijklmnopqrstuvwxyz'. This value is not locale-dependent and will not change.\n",
    "\n",
    "string.ascii_uppercase:- \n",
    "The uppercase letters 'ABCDEFGHIJKLMNOPQRSTUVWXYZ'. This value is not locale-dependent and will not change.\n",
    "\n",
    "string.digits:- \n",
    "The string '0123456789'.\n",
    "\n",
    "string.hexdigits:- \n",
    "The string '0123456789abcdefABCDEF'.\n",
    "\n",
    "string.octdigits:-\n",
    "The string '01234567'.\n",
    "\n",
    "string.punctuation:-\n",
    "String of ASCII characters which are considered punctuation characters in the C locale: !\"#$%&'()*+,-./:;<=>?@[\\]^_`{|}~.\n",
    "\n",
    "string.printable:-\n",
    "String of ASCII characters which are considered printable. This is a combination of digits, ascii_letters, punctuation, and whitespace.\n",
    "\n",
    "string.whitespace:-\n",
    "A string containing all ASCII characters that are considered whitespace. This includes the characters space, tab, linefeed, return, formfeed, and vertical tab."
   ]
  },
  {
   "cell_type": "code",
   "execution_count": 22,
   "metadata": {},
   "outputs": [
    {
     "name": "stdout",
     "output_type": "stream",
     "text": [
      "abcdefghijklmnopqrstuvwxyz\n",
      "ABCDEFGHIJKLMNOPQRSTUVWXYZ\n",
      "abcdefghijklmnopqrstuvwxyzABCDEFGHIJKLMNOPQRSTUVWXYZ\n",
      "0123456789\n",
      "0123456789abcdefABCDEF\n",
      "01234567\n",
      "!\"#$%&'()*+,-./:;<=>?@[\\]^_`{|}~\n",
      "0123456789abcdefghijklmnopqrstuvwxyzABCDEFGHIJKLMNOPQRSTUVWXYZ!\"#$%&'()*+,-./:;<=>?@[\\]^_`{|}~ \t\n",
      "\r",
      "\u000b",
      "\f",
      "\n"
     ]
    }
   ],
   "source": [
    "import string as st\n",
    "#help(string) \n",
    "\n",
    "print(st.ascii_lowercase)\n",
    "print(st.ascii_uppercase)\n",
    "print(st.ascii_letters)\n",
    "print(st.digits)\n",
    "print(st.hexdigits)\n",
    "print(st.octdigits)\n",
    "print(st.punctuation)\n",
    "#print(st.whitespace)\n",
    "print(st.printable)"
   ]
  },
  {
   "cell_type": "markdown",
   "metadata": {},
   "source": [
    "#####  “Old Style” String Formatting (% Operator)"
   ]
  },
  {
   "cell_type": "code",
   "execution_count": 23,
   "metadata": {},
   "outputs": [
    {
     "name": "stdout",
     "output_type": "stream",
     "text": [
      "Hey Bob the error is 50159747054\n",
      "Hey Bob, there is a 0xbadc0ffee error!\n"
     ]
    }
   ],
   "source": [
    "#string formatting\n",
    "\n",
    "# why string formatting\n",
    "\n",
    "errno = 50159747054\n",
    "name = 'Bob'\n",
    "\n",
    "print('Hey',name,'the error is',errno)\n",
    "\n",
    "#but you want to generate error like\n",
    "\n",
    "print('Hey Bob, there is a 0xbadc0ffee error!')"
   ]
  },
  {
   "cell_type": "code",
   "execution_count": 24,
   "metadata": {},
   "outputs": [
    {
     "data": {
      "text/plain": [
       "'badc0ffee'"
      ]
     },
     "execution_count": 24,
     "metadata": {},
     "output_type": "execute_result"
    }
   ],
   "source": [
    "# Here, you can use the %x format specifier to convert an int value to a string and to represent it as a hexadecimal number:\n",
    "'%x'%errno"
   ]
  },
  {
   "cell_type": "code",
   "execution_count": 25,
   "metadata": {},
   "outputs": [
    {
     "data": {
      "text/plain": [
       "'Hello, Bob'"
      ]
     },
     "execution_count": 25,
     "metadata": {},
     "output_type": "execute_result"
    }
   ],
   "source": [
    "'Hello, %s' %name"
   ]
  },
  {
   "cell_type": "code",
   "execution_count": 26,
   "metadata": {},
   "outputs": [
    {
     "data": {
      "text/plain": [
       "'Hello, Bob there is a 0xbadc0ffee error!'"
      ]
     },
     "execution_count": 26,
     "metadata": {},
     "output_type": "execute_result"
    }
   ],
   "source": [
    "'Hello, %s there is a 0x%x error!' %(name,errno)"
   ]
  },
  {
   "cell_type": "code",
   "execution_count": 27,
   "metadata": {},
   "outputs": [
    {
     "data": {
      "text/plain": [
       "'Hey Bob, there is a 0xbadc0ffee error!'"
      ]
     },
     "execution_count": 27,
     "metadata": {},
     "output_type": "execute_result"
    }
   ],
   "source": [
    "#btwn the % and s there should be inserted name hence used between them\n",
    "'Hey %(nm)s, there is a 0x%(ernum)x error!' % {\"nm\": name, \"ernum\": errno } #dictionary is used"
   ]
  },
  {
   "cell_type": "markdown",
   "metadata": {},
   "source": [
    "##### “New Style” String Formatting (str.format)\n",
    "\n",
    "This “new style” string formatting gets rid of the %-operator special syntax and makes the syntax for string formatting more regular"
   ]
  },
  {
   "cell_type": "code",
   "execution_count": 28,
   "metadata": {},
   "outputs": [
    {
     "data": {
      "text/plain": [
       "'Hello, Bob '"
      ]
     },
     "execution_count": 28,
     "metadata": {},
     "output_type": "execute_result"
    }
   ],
   "source": [
    "'Hello, {} '.format(name)"
   ]
  },
  {
   "cell_type": "code",
   "execution_count": 29,
   "metadata": {},
   "outputs": [
    {
     "data": {
      "text/plain": [
       "'Hello, Bob there is a 0xbadc0ffee error! '"
      ]
     },
     "execution_count": 29,
     "metadata": {},
     "output_type": "execute_result"
    }
   ],
   "source": [
    "#This also shows that the syntax to format an int variable as a hexadecimal string has changed. \n",
    "#Now you need to pass a format spec by adding a :x suffix. \n",
    "'Hello, {} there is a 0x{:x} error! '.format(name,errno)#..for a number like above do not use "
   ]
  },
  {
   "cell_type": "code",
   "execution_count": 30,
   "metadata": {},
   "outputs": [
    {
     "data": {
      "text/plain": [
       "'Hey Bob, there is a 0xbadc0ffee error!'"
      ]
     },
     "execution_count": 30,
     "metadata": {},
     "output_type": "execute_result"
    }
   ],
   "source": [
    "# if you do not know the explicit order then you might want to use a dictionary\n",
    "#'Hello,{nm} there is a 0x{errno:x} error'.format({nm:name,errno:errno}).... note not use dictionary here..\n",
    "'Hey {nm}, there is a 0x{errno:x} error!'.format(nm=name, errno=errno)"
   ]
  },
  {
   "cell_type": "code",
   "execution_count": 78,
   "metadata": {},
   "outputs": [
    {
     "name": "stdout",
     "output_type": "stream",
     "text": [
      "int: 16; hex:10; oct: 20; bin: 10000\n"
     ]
    }
   ],
   "source": [
    "#single input format strings\n",
    "\n",
    "#print('int: {:d} ; hex: {:x} ; oct: {:o}; bin: {:b}'.format(16))... this gives an error\n",
    "print(\"int: {0:d}; hex:{0:x}; oct: {0:o}; bin: {0:b}\".format(16))"
   ]
  },
  {
   "cell_type": "code",
   "execution_count": 87,
   "metadata": {},
   "outputs": [
    {
     "name": "stdout",
     "output_type": "stream",
     "text": [
      "Average marks: 45.454545%\n",
      "Average marks: 45.454545%\n",
      "Average marks: 45.454545%\n",
      "Average marks: 45.454545454545453%\n",
      "Average marks: 45.455%\n"
     ]
    }
   ],
   "source": [
    "# Some examples of str.format()\n",
    "\n",
    "marks=10\n",
    "avg=22\n",
    "print('Average marks: {:%}'.format(marks/avg)) # the % sign indicates that we want express it in percentage\n",
    "print('Average marks: {:2%}'.format(marks/avg)) # this will give same output as above no difference\n",
    "print('Average marks: {:%}'.format(marks/avg)) # this will give same output as above no difference\n",
    "print('Average marks: {:.2%}'.format(marks/avg)) # print upto only 2 digits after decimal point\n",
    "print('Average marks: {:.3%}'.format(marks/avg)) # print upto only 3 digits after decimal point"
   ]
  },
  {
   "cell_type": "code",
   "execution_count": 33,
   "metadata": {},
   "outputs": [
    {
     "data": {
      "text/plain": [
       "'1,234,567,890'"
      ]
     },
     "execution_count": 33,
     "metadata": {},
     "output_type": "execute_result"
    }
   ],
   "source": [
    "'{:,}'.format(1234567890) #Using the comma as a thousands separator:"
   ]
  },
  {
   "cell_type": "code",
   "execution_count": 34,
   "metadata": {},
   "outputs": [
    {
     "data": {
      "text/plain": [
       "'left aligned                  '"
      ]
     },
     "execution_count": 34,
     "metadata": {},
     "output_type": "execute_result"
    }
   ],
   "source": [
    "'{:<30}'.format('left aligned')"
   ]
  },
  {
   "cell_type": "code",
   "execution_count": 35,
   "metadata": {},
   "outputs": [
    {
     "data": {
      "text/plain": [
       "'                 right aligned'"
      ]
     },
     "execution_count": 35,
     "metadata": {},
     "output_type": "execute_result"
    }
   ],
   "source": [
    "'{:>30}'.format('right aligned')"
   ]
  },
  {
   "cell_type": "code",
   "execution_count": 36,
   "metadata": {},
   "outputs": [
    {
     "data": {
      "text/plain": [
       "'           centered           '"
      ]
     },
     "execution_count": 36,
     "metadata": {},
     "output_type": "execute_result"
    }
   ],
   "source": [
    "'{:^30}'.format('centered')"
   ]
  },
  {
   "cell_type": "code",
   "execution_count": 37,
   "metadata": {},
   "outputs": [
    {
     "data": {
      "text/plain": [
       "'***********centered***********'"
      ]
     },
     "execution_count": 37,
     "metadata": {},
     "output_type": "execute_result"
    }
   ],
   "source": [
    "'{:*^30}'.format('centered')  # use '*' as a fill char"
   ]
  },
  {
   "cell_type": "markdown",
   "metadata": {},
   "source": [
    "#### DATETIME MODULE"
   ]
  },
  {
   "cell_type": "code",
   "execution_count": 65,
   "metadata": {},
   "outputs": [
    {
     "name": "stdout",
     "output_type": "stream",
     "text": [
      "Min allowed year 1\n",
      "Max allowed year 9999\n"
     ]
    }
   ],
   "source": [
    "import datetime as dt\n",
    "from datetime import date\n",
    "print('Min allowed year', dt.MINYEAR)\n",
    "print('Max allowed year', dt.MAXYEAR)\n",
    "\n",
    "#The smallest year number allowed in a date or datetime object. MINYEAR is 1.\n",
    "#The largest year number allowed in a date or datetime object. MAXYEAR is 9999."
   ]
  },
  {
   "cell_type": "code",
   "execution_count": 76,
   "metadata": {},
   "outputs": [
    {
     "name": "stdout",
     "output_type": "stream",
     "text": [
      "Weekday: 2\n",
      "Weekday: 3\n",
      "ISO Weekday: 3\n"
     ]
    }
   ],
   "source": [
    "print('Weekday:',date(2021,4,7).weekday())\n",
    "# regular calendar\n",
    "print('Weekday:',date(2021,4,8).weekday())\n",
    "#sunday as the first day of the week\n",
    "print('ISO Weekday:',date(2020,1,1).isoweekday())\n",
    "#print('ISO calendar:',date(2021,1,4).isocalendar())  # Week starts on Monday"
   ]
  },
  {
   "cell_type": "markdown",
   "metadata": {},
   "source": [
    "#### Math and some string"
   ]
  },
  {
   "cell_type": "code",
   "execution_count": 39,
   "metadata": {},
   "outputs": [
    {
     "data": {
      "text/plain": [
       "4.0"
      ]
     },
     "execution_count": 39,
     "metadata": {},
     "output_type": "execute_result"
    }
   ],
   "source": [
    "100/25"
   ]
  },
  {
   "cell_type": "code",
   "execution_count": 40,
   "metadata": {},
   "outputs": [
    {
     "data": {
      "text/plain": [
       "False"
      ]
     },
     "execution_count": 40,
     "metadata": {},
     "output_type": "execute_result"
    }
   ],
   "source": [
    "#float comparison\n",
    "#Internal representation of float objects is not precise, so they can’t be relied on to equal exactly what you think they will:\n",
    "1.1 + 2.2 == 3.3   "
   ]
  },
  {
   "cell_type": "code",
   "execution_count": 41,
   "metadata": {},
   "outputs": [],
   "source": [
    "# You should instead compute whether the numbers are close enough to one another to satisfy a specified tolerance:\n"
   ]
  },
  {
   "cell_type": "code",
   "execution_count": 42,
   "metadata": {},
   "outputs": [
    {
     "data": {
      "text/plain": [
       "True"
      ]
     },
     "execution_count": 42,
     "metadata": {},
     "output_type": "execute_result"
    }
   ],
   "source": [
    "tolerance = 0.00001\n",
    "abs((1.1 + 2.2) - 3.3) < tolerance"
   ]
  },
  {
   "cell_type": "code",
   "execution_count": 88,
   "metadata": {},
   "outputs": [],
   "source": [
    "x = isinstance(5, int)"
   ]
  },
  {
   "cell_type": "code",
   "execution_count": 89,
   "metadata": {},
   "outputs": [
    {
     "data": {
      "text/plain": [
       "True"
      ]
     },
     "execution_count": 89,
     "metadata": {},
     "output_type": "execute_result"
    }
   ],
   "source": [
    "x"
   ]
  },
  {
   "cell_type": "code",
   "execution_count": 90,
   "metadata": {},
   "outputs": [],
   "source": [
    "x = isinstance(\"Hello\", (float, int, str, list, dict, tuple))"
   ]
  },
  {
   "cell_type": "code",
   "execution_count": 46,
   "metadata": {},
   "outputs": [
    {
     "name": "stdout",
     "output_type": "stream",
     "text": [
      "True\n"
     ]
    }
   ],
   "source": [
    "print(x)"
   ]
  },
  {
   "cell_type": "code",
   "execution_count": 47,
   "metadata": {},
   "outputs": [],
   "source": [
    "#This is a case where the terms of the expression, (x < 100.0) and isinstance(x, float), \n",
    "# are both not only truthy, \n",
    "# but actually equal to the Python value True. The expression is therefore also True.\n",
    "x = 10.0\n",
    "y = (x < 100.0) and isinstance(x, float)"
   ]
  },
  {
   "cell_type": "code",
   "execution_count": 48,
   "metadata": {},
   "outputs": [
    {
     "name": "stdout",
     "output_type": "stream",
     "text": [
      "True\n"
     ]
    }
   ],
   "source": [
    "print(y)"
   ]
  },
  {
   "cell_type": "code",
   "execution_count": 49,
   "metadata": {},
   "outputs": [
    {
     "data": {
      "text/plain": [
       "[]"
      ]
     },
     "execution_count": 49,
     "metadata": {},
     "output_type": "execute_result"
    }
   ],
   "source": [
    "[]"
   ]
  },
  {
   "cell_type": "code",
   "execution_count": 50,
   "metadata": {},
   "outputs": [
    {
     "data": {
      "text/plain": [
       "'None'"
      ]
     },
     "execution_count": 50,
     "metadata": {},
     "output_type": "execute_result"
    }
   ],
   "source": [
    "'None'"
   ]
  },
  {
   "cell_type": "code",
   "execution_count": 51,
   "metadata": {},
   "outputs": [
    {
     "data": {
      "text/plain": [
       "'False'"
      ]
     },
     "execution_count": 51,
     "metadata": {},
     "output_type": "execute_result"
    }
   ],
   "source": [
    "'False'"
   ]
  },
  {
   "cell_type": "code",
   "execution_count": 52,
   "metadata": {},
   "outputs": [
    {
     "data": {
      "text/plain": [
       "1e-06"
      ]
     },
     "execution_count": 52,
     "metadata": {},
     "output_type": "execute_result"
    }
   ],
   "source": [
    "0.000001"
   ]
  },
  {
   "cell_type": "code",
   "execution_count": 53,
   "metadata": {},
   "outputs": [
    {
     "data": {
      "text/plain": [
       "0"
      ]
     },
     "execution_count": 53,
     "metadata": {},
     "output_type": "execute_result"
    }
   ],
   "source": [
    "0"
   ]
  },
  {
   "cell_type": "markdown",
   "metadata": {},
   "source": [
    "### NOTE:- The Python object None is falsy, but the non-empty string 'None' is truthy.\n",
    "#### 0.000001, a non-zero numeric value, is also truthy. But barely."
   ]
  },
  {
   "cell_type": "code",
   "execution_count": 57,
   "metadata": {},
   "outputs": [
    {
     "name": "stdout",
     "output_type": "stream",
     "text": [
      "unary + 4\n",
      "unary - -4\n",
      "unary - -3\n",
      "3\n",
      "addition 7\n",
      "subtraction 1\n",
      "multiply 12\n",
      "divison 1.3333333333333333\n",
      "floor divison 0\n",
      "1\n"
     ]
    }
   ],
   "source": [
    "## (//) a // b Floor Division (also called Integer Division)\n",
    "## Quotient when a is divided by b, rounded to the next smallest whole number\n",
    "\n",
    "## (**) a ** b Exponentiation\n",
    "## a raised to the power of b\n",
    "\n",
    "a=4\n",
    "b=3\n",
    "c= -3\n",
    "\n",
    "#unary +\n",
    "print(\"unary +\",+a)\n",
    "\n",
    "#unary -\n",
    "print(\"unary -\",-a)\n",
    "print(\"unary -\", -b)\n",
    "print(-c)\n",
    "\n",
    "# add / sum\n",
    "\n",
    "print(\"addition\",a+b)\n",
    "\n",
    "# sub\n",
    "\n",
    "print(\"subtraction\",a-b)\n",
    "\n",
    "# multiply\n",
    "print(\"multiply\",a*b)\n",
    "\n",
    "#divide\n",
    "print(\"divison\",a/b)\n",
    "\n",
    "#floor division\n",
    "print(\"floor divison\",b//a)\n",
    "print(a//b)"
   ]
  },
  {
   "cell_type": "code",
   "execution_count": 59,
   "metadata": {},
   "outputs": [
    {
     "name": "stdout",
     "output_type": "stream",
     "text": [
      "2.5\n",
      "2\n",
      "-3\n",
      "-3\n",
      "2\n"
     ]
    }
   ],
   "source": [
    "print(10 / 4)\n",
    "\n",
    "print(10 // 4)\n",
    "\n",
    "print(10 // -4)\n",
    "\n",
    "print(-10 // 4 )\n",
    "\n",
    "print(-10 // -4)"
   ]
  },
  {
   "cell_type": "code",
   "execution_count": 60,
   "metadata": {},
   "outputs": [
    {
     "data": {
      "text/plain": [
       "True"
      ]
     },
     "execution_count": 60,
     "metadata": {},
     "output_type": "execute_result"
    }
   ],
   "source": [
    "x = 5\n",
    "x < 10\n"
   ]
  },
  {
   "cell_type": "code",
   "execution_count": 61,
   "metadata": {},
   "outputs": [
    {
     "data": {
      "text/plain": [
       "bool"
      ]
     },
     "execution_count": 61,
     "metadata": {},
     "output_type": "execute_result"
    }
   ],
   "source": [
    "type(x<10)"
   ]
  },
  {
   "cell_type": "code",
   "execution_count": 62,
   "metadata": {},
   "outputs": [
    {
     "name": "stdout",
     "output_type": "stream",
     "text": [
      "True\n"
     ]
    }
   ],
   "source": [
    "# The callable() function returns True if the specified object is callable, otherwise it returns False.\n",
    "def x():\n",
    "    \n",
    "    a = 5\n",
    "\n",
    "print(callable(x))"
   ]
  },
  {
   "cell_type": "code",
   "execution_count": 63,
   "metadata": {},
   "outputs": [
    {
     "name": "stdout",
     "output_type": "stream",
     "text": [
      "False\n"
     ]
    }
   ],
   "source": [
    "x = 5\n",
    "\n",
    "print(callable(x))"
   ]
  },
  {
   "cell_type": "code",
   "execution_count": 65,
   "metadata": {},
   "outputs": [
    {
     "name": "stdout",
     "output_type": "stream",
     "text": [
      "False False False\n",
      "True True True\n"
     ]
    }
   ],
   "source": [
    "#Numeric Value\n",
    "# 1.A zero value is false.\n",
    "# 2.A non-zero value is true\n",
    "\n",
    "# String\n",
    "# 1. An empty string is false.\n",
    "# 2. A non-empty string is true.\n",
    "\n",
    "\n",
    "print(bool(0), bool(0.0), bool(0.0+0j))\n",
    "print(bool(-3), bool(3.14159), bool(1.0+1j))"
   ]
  },
  {
   "cell_type": "code",
   "execution_count": 92,
   "metadata": {},
   "outputs": [
    {
     "name": "stdout",
     "output_type": "stream",
     "text": [
      "False False False\n",
      "True True True\n"
     ]
    }
   ],
   "source": [
    "print(bool(''), bool(\"\"), bool(\"\"\"\"\"\"))\n",
    "\n",
    "\n",
    "print(bool('foo'), bool(\" \"), bool(''' '''))\n"
   ]
  },
  {
   "cell_type": "code",
   "execution_count": 67,
   "metadata": {},
   "outputs": [
    {
     "data": {
      "text/plain": [
       "list"
      ]
     },
     "execution_count": 67,
     "metadata": {},
     "output_type": "execute_result"
    }
   ],
   "source": [
    "type([])"
   ]
  },
  {
   "cell_type": "code",
   "execution_count": 93,
   "metadata": {},
   "outputs": [
    {
     "data": {
      "text/plain": [
       "False"
      ]
     },
     "execution_count": 93,
     "metadata": {},
     "output_type": "execute_result"
    }
   ],
   "source": [
    "#  An object of one of these types is considered false if it is empty and true if it is non-empty.\n",
    "bool([])"
   ]
  },
  {
   "cell_type": "code",
   "execution_count": 94,
   "metadata": {},
   "outputs": [
    {
     "data": {
      "text/plain": [
       "True"
      ]
     },
     "execution_count": 94,
     "metadata": {},
     "output_type": "execute_result"
    }
   ],
   "source": [
    "bool([1])"
   ]
  },
  {
   "cell_type": "code",
   "execution_count": 95,
   "metadata": {},
   "outputs": [
    {
     "data": {
      "text/plain": [
       "False"
      ]
     },
     "execution_count": 95,
     "metadata": {},
     "output_type": "execute_result"
    }
   ],
   "source": [
    "#None is always false:\n",
    "bool(None)"
   ]
  },
  {
   "cell_type": "code",
   "execution_count": 96,
   "metadata": {},
   "outputs": [
    {
     "data": {
      "text/plain": [
       "True"
      ]
     },
     "execution_count": 96,
     "metadata": {},
     "output_type": "execute_result"
    }
   ],
   "source": [
    "#'None' string is true\n",
    "bool('None')"
   ]
  },
  {
   "cell_type": "code",
   "execution_count": 78,
   "metadata": {},
   "outputs": [
    {
     "name": "stdout",
     "output_type": "stream",
     "text": [
      "True\n",
      "False\n",
      "False\n"
     ]
    }
   ],
   "source": [
    "x =3\n",
    "print(bool(x))\n",
    "y = not x\n",
    "print(y)\n",
    "print(not(x))"
   ]
  },
  {
   "cell_type": "code",
   "execution_count": 79,
   "metadata": {},
   "outputs": [
    {
     "name": "stdout",
     "output_type": "stream",
     "text": [
      "False\n",
      "True\n"
     ]
    }
   ],
   "source": [
    "x = 0.0\n",
    "bool(x)\n",
    "print(bool(x))\n",
    "y = not x\n",
    "print(y)"
   ]
  },
  {
   "cell_type": "code",
   "execution_count": null,
   "metadata": {},
   "outputs": [],
   "source": [
    "#list' object is not callable"
   ]
  },
  {
   "cell_type": "code",
   "execution_count": 89,
   "metadata": {},
   "outputs": [
    {
     "name": "stdout",
     "output_type": "stream",
     "text": [
      "4\n",
      "3\n",
      "5\n",
      "1\n"
     ]
    }
   ],
   "source": [
    "# Even so, it is still the case that the expression x or y will be truthy if either x or y is truthy, \n",
    "# and falsy if both x and y are falsy.\n",
    "print(4 or 5) # returns 4\n",
    "print(3 or 4) # returns 3 \n",
    "print(5 or 6) # returns 5  trick ;) smallest\n",
    "print(0 or 1) # returns 1"
   ]
  },
  {
   "cell_type": "code",
   "execution_count": 88,
   "metadata": {},
   "outputs": [
    {
     "name": "stdout",
     "output_type": "stream",
     "text": [
      "200\n",
      "300\n",
      "1000\n",
      "0\n"
     ]
    }
   ],
   "source": [
    "# As with or, the expression x and y does not evaluate to either True or False, but instead to one of either x or y. \n",
    "# x and y will be truthy if both x and y are truthy, and falsy otherwise.\n",
    "print(100 and 200)\n",
    "print(200 and 300)\n",
    "print(700 and 1000) # greatest value ;) shortest trick\n",
    "print(0 and 1) # otherwise greater value but in 0 and 1 always 0"
   ]
  },
  {
   "cell_type": "code",
   "execution_count": 92,
   "metadata": {},
   "outputs": [
    {
     "name": "stdout",
     "output_type": "stream",
     "text": [
      "<default_value>\n"
     ]
    }
   ],
   "source": [
    "string_s = \"\"\n",
    "s = string_s or '<default_value>'\n",
    "print(s)"
   ]
  },
  {
   "cell_type": "markdown",
   "metadata": {},
   "source": [
    "https://realpython.com/python-operators-expressions/#arithmetic-operators"
   ]
  },
  {
   "cell_type": "code",
   "execution_count": 95,
   "metadata": {},
   "outputs": [
    {
     "data": {
      "text/plain": [
       "False"
      ]
     },
     "execution_count": 95,
     "metadata": {},
     "output_type": "execute_result"
    }
   ],
   "source": [
    "x = -100\n",
    "from math import sqrt\n",
    "x > 0 and sqrt(x)\n",
    "\n",
    "# In the highlighted line, x > 0 is False. The expression is already known to be falsy at that point. \n",
    "# Due to short-circuit evaluation, sqrt(x) (which would raise an exception) is not evaluated.\n",
    "\n",
    "# sqrt(x) and x>0 will raise an error due to short circuit evaluation"
   ]
  },
  {
   "cell_type": "markdown",
   "metadata": {},
   "source": [
    "1. For two objects x and y:\n",
    "   \n",
    " x is y is True\n",
    " if and only if\n",
    " id(x) == id(y)\n",
    "   \n",
    "   \n",
    "   \n",
    "2. Precedence \n",
    "\n",
    " a) and has the lowest precedence of all the operators covered in this tutorial except or.\n",
    "\n",
    " b) The question doesn’t state whether the + operator listed is binary addition or unary positive. \n",
    "\n",
    " c) But it doesn’t matter—it wouldn’t have a lower precedence than and either way."
   ]
  },
  {
   "cell_type": "code",
   "execution_count": 97,
   "metadata": {},
   "outputs": [
    {
     "name": "stdout",
     "output_type": "stream",
     "text": [
      "163\n"
     ]
    }
   ],
   "source": [
    "## left to right first ** then * and then +\n",
    "1 + 2 ** 3 * 4\n",
    "# The ** operator has the highest precedence, followed by *, and + the lowest.\n",
    "\n",
    "# Thus, the calculations are performed as follows:\n",
    "\n",
    "# 1 + (2 ** 3) * 4\n",
    "# 1 +    (8    * 4)\n",
    "# 1 +        32\n",
    "     # 33\n",
    "# To spare the reader from recalling the order of precedence, \n",
    "# it wouldn’t be a bad idea to write this as 1 + ((2 ** 3) * 4), \n",
    "#even though the parentheses don’t change the way the expression is evaluated.\n",
    "\n",
    "# ** highest precedence \n",
    "print(1+2*3**4)"
   ]
  },
  {
   "cell_type": "code",
   "execution_count": 100,
   "metadata": {},
   "outputs": [
    {
     "data": {
      "text/plain": [
       "512"
      ]
     },
     "execution_count": 100,
     "metadata": {},
     "output_type": "execute_result"
    }
   ],
   "source": [
    "# ** groups from right\n",
    "# hence (3)^2 = 9 and (2)^9 =512 \n",
    "2 ** 3 ** 2"
   ]
  },
  {
   "cell_type": "code",
   "execution_count": null,
   "metadata": {},
   "outputs": [],
   "source": [
    "# Write Python code to:\n",
    "# Create a variable x with the value 100\n",
    "# Increase the value of x fivefold using an augmented assignment operator\n",
    "x = 100\n",
    "x *= 5"
   ]
  },
  {
   "cell_type": "code",
   "execution_count": 102,
   "metadata": {},
   "outputs": [
    {
     "name": "stdout",
     "output_type": "stream",
     "text": [
      "7\n"
     ]
    }
   ],
   "source": [
    "a=1;\n",
    "a=a+1;\n",
    "a=a+2;\n",
    "a=a+3;\n",
    "print(a)"
   ]
  },
  {
   "cell_type": "markdown",
   "metadata": {},
   "source": [
    "https://nptel.ac.in/courses/106/106/106106182/"
   ]
  },
  {
   "cell_type": "code",
   "execution_count": 3,
   "metadata": {},
   "outputs": [
    {
     "name": "stdout",
     "output_type": "stream",
     "text": [
      "2\n",
      "1.6666666666666667\n"
     ]
    }
   ],
   "source": [
    "a = 5\n",
    "b = 3\n",
    "print(a%b)\n",
    "print(a/b)"
   ]
  },
  {
   "cell_type": "code",
   "execution_count": 6,
   "metadata": {},
   "outputs": [
    {
     "name": "stdout",
     "output_type": "stream",
     "text": [
      "2\n",
      "1.67\n"
     ]
    }
   ],
   "source": [
    "print(round(a/b))\n",
    "print(round(a/b,2))"
   ]
  },
  {
   "cell_type": "markdown",
   "metadata": {},
   "source": [
    "FIZZBUZZ"
   ]
  },
  {
   "cell_type": "code",
   "execution_count": 60,
   "metadata": {},
   "outputs": [
    {
     "name": "stdout",
     "output_type": "stream",
     "text": [
      "Enter a number for range16\n",
      "1\n",
      "2\n",
      "fizz\n",
      "4\n",
      "buzz\n",
      "fizz\n",
      "7\n",
      "8\n",
      "fizz\n",
      "buzz\n",
      "11\n",
      "fizz\n",
      "13\n",
      "14\n",
      "fizzbuzz\n"
     ]
    }
   ],
   "source": [
    "range_number  = int(input('Enter a number for range'))\n",
    "for fizzbuzz in range(1,range_number):\n",
    "    if fizzbuzz % 3 == 0 and fizzbuzz % 5 == 0:\n",
    "        print(\"fizzbuzz\")\n",
    "        continue\n",
    "    elif fizzbuzz % 3 == 0:\n",
    "        print(\"fizz\")\n",
    "        continue\n",
    "    elif fizzbuzz % 5 == 0:\n",
    "        print(\"buzz\")\n",
    "        continue\n",
    "    print(fizzbuzz)"
   ]
  },
  {
   "cell_type": "code",
   "execution_count": 54,
   "metadata": {},
   "outputs": [
    {
     "name": "stdout",
     "output_type": "stream",
     "text": [
      "1\n",
      "2\n",
      "Fizz\n",
      "4\n",
      "Buzz\n",
      "Fizz\n",
      "7\n",
      "8\n",
      "Fizz\n",
      "Buzz\n",
      "11\n",
      "Fizz\n",
      "13\n",
      "14\n",
      "FizzBuzz\n",
      "16\n",
      "17\n",
      "Fizz\n",
      "19\n",
      "Buzz\n",
      "Fizz\n",
      "22\n",
      "23\n",
      "Fizz\n",
      "Buzz\n",
      "26\n",
      "Fizz\n",
      "28\n",
      "29\n",
      "FizzBuzz\n",
      "31\n",
      "32\n",
      "Fizz\n",
      "34\n",
      "Buzz\n",
      "Fizz\n",
      "37\n",
      "38\n",
      "Fizz\n",
      "Buzz\n",
      "41\n",
      "Fizz\n",
      "43\n",
      "44\n",
      "FizzBuzz\n",
      "46\n",
      "47\n",
      "Fizz\n",
      "49\n",
      "Buzz\n",
      "Fizz\n",
      "52\n",
      "53\n",
      "Fizz\n",
      "Buzz\n",
      "56\n",
      "Fizz\n",
      "58\n",
      "59\n",
      "FizzBuzz\n"
     ]
    }
   ],
   "source": [
    "def FizzBuzz(r):\n",
    "    for i in range(1,r):\n",
    "        if (i%3 == 0) & (i%5 == 0):\n",
    "            print(\"FizzBuzz\")\n",
    "        elif i%3 == 0:\n",
    "            print(\"Fizz\")\n",
    "        elif i%5 == 0:\n",
    "            print(\"Buzz\")\n",
    "        else:\n",
    "             print(i)\n",
    "\n",
    "FizzBuzz(61) "
   ]
  },
  {
   "cell_type": "code",
   "execution_count": 13,
   "metadata": {},
   "outputs": [
    {
     "name": "stdout",
     "output_type": "stream",
     "text": [
      "[0, 1, 2, 3, 4, 5, 6, 7]\n",
      "3.5\n",
      "3.5\n",
      "0\n",
      "3\n",
      "4\n",
      "3\n",
      "3\n",
      "3\n",
      "5\n"
     ]
    }
   ],
   "source": [
    "import statistics as st\n",
    "ls = [x for x in range(8)]\n",
    "print(ls)\n",
    "print(st.mean(ls))\n",
    "print(st.median(ls))\n",
    "print(st.harmonic_mean(ls))\n",
    "print(st.median_low(ls))\n",
    "print(st.median_high(ls))\n",
    "print(st.median_low([1, 3, 5]))\n",
    "print(st.median_low([1, 3, 5, 7]))\n",
    "print(st.median_high([1,3,5]))\n",
    "print(st.median_high([1,3,5,7]))\n"
   ]
  },
  {
   "cell_type": "markdown",
   "metadata": {},
   "source": [
    "Measures of spread: \n",
    "\n",
    "pstdev(): Population standard deviation of data.\n",
    "\n",
    "pvariance(): Population variance of data.\n",
    "\n",
    "stdev(): Sample standard deviation of data.\n",
    "\n",
    "variance(): Sample variance of data."
   ]
  },
  {
   "cell_type": "code",
   "execution_count": 17,
   "metadata": {},
   "outputs": [
    {
     "name": "stdout",
     "output_type": "stream",
     "text": [
      "after sorting feedback list  [10, 15, 18, 20, 25, 30, 35, 40, 45, 55, 58, 60, 65, 66, 68, 70, 75, 80, 88, 90, 95, 100] \n",
      "\n",
      "after sorting feedback list length is  22 \n",
      "\n"
     ]
    }
   ],
   "source": [
    "import matplotlib.pyplot as plt\n",
    "%matplotlib inline\n",
    "from statistics import mean,median\n",
    "from scipy import stats\n",
    "\n",
    "feedback = [10,15,25,18,58,45,20,30,100,60,75,70,80,65,90,55,66,88,68,40,95,35]\n",
    "feedback.sort()\n",
    "print(\"after sorting feedback list \",feedback,\"\\n\")\n",
    "print(\"after sorting feedback list length is \",len(feedback),\"\\n\")"
   ]
  },
  {
   "cell_type": "code",
   "execution_count": 19,
   "metadata": {},
   "outputs": [
    {
     "name": "stdout",
     "output_type": "stream",
     "text": [
      "Mean using scip.stats :  54.888888888888886 \n",
      "\n"
     ]
    }
   ],
   "source": [
    "#using scipy module mean calculation is as follows:- \n",
    "meantrim = stats.trim_mean(feedback,0.1)\n",
    "print(\"Mean using scip.stats : \", meantrim,\"\\n\")\n",
    "\n",
    "#Return mean of array after trimming distribution from both tails.\n",
    "#If proportiontocut = 0.1, slices off ‘leftmost’ and ‘rightmost’ 10% of scores."
   ]
  },
  {
   "cell_type": "code",
   "execution_count": 20,
   "metadata": {},
   "outputs": [
    {
     "name": "stdout",
     "output_type": "stream",
     "text": [
      "trim value:  2 \n",
      "\n"
     ]
    }
   ],
   "source": [
    "trim10 = int(0.1*len(feedback))\n",
    "print(\"trim value: \",trim10,\"\\n\")"
   ]
  },
  {
   "cell_type": "code",
   "execution_count": 22,
   "metadata": {},
   "outputs": [
    {
     "name": "stdout",
     "output_type": "stream",
     "text": [
      "55.142857142857146\n"
     ]
    }
   ],
   "source": [
    "# 2 values from front and 2 values from back to be cut\n",
    "feedback = feedback[trim10:] # LHS trimmed \n",
    "feedback = feedback[:(len(feedback)-trim10)] # RHS trimmed\n",
    "mn = mean(feedback)\n",
    "print(mn)"
   ]
  },
  {
   "cell_type": "code",
   "execution_count": 24,
   "metadata": {},
   "outputs": [
    {
     "name": "stdout",
     "output_type": "stream",
     "text": [
      "mean value of the feedback  55.142857142857146\n",
      "median value of the feedback  59.0\n"
     ]
    }
   ],
   "source": [
    "med = median(feedback)\n",
    "print(\"mean value of the feedback \",mn)\n",
    "print(\"median value of the feedback \",med)"
   ]
  },
  {
   "cell_type": "code",
   "execution_count": 36,
   "metadata": {},
   "outputs": [
    {
     "name": "stdout",
     "output_type": "stream",
     "text": [
      "[10, 10, 10, 10, 10, 10, 10, 10, 10, 10, 10, 10, 10, 10]\n"
     ]
    }
   ],
   "source": [
    "y = []\n",
    "for i in range(len(feedback)):\n",
    "    y.append(10)\n",
    "    \n",
    "print(y)\n"
   ]
  },
  {
   "cell_type": "code",
   "execution_count": 40,
   "metadata": {},
   "outputs": [
    {
     "data": {
      "text/plain": [
       "[<matplotlib.lines.Line2D at 0x24f7c904eb0>]"
      ]
     },
     "execution_count": 40,
     "metadata": {},
     "output_type": "execute_result"
    },
    {
     "data": {
      "image/png": "[encoded data removed]",
      "text/plain": [
       "<Figure size 432x288 with 1 Axes>"
      ]
     },
     "metadata": {
      "needs_background": "light"
     },
     "output_type": "display_data"
    }
   ],
   "source": [
    "from matplotlib import pyplot as plt\n",
    "plt.plot([1,2,3,4])\n",
    "\n",
    "# Two things to note from this plot:\n",
    "\n",
    "# pyplot.plot assumed our single data list to be the y-values;\n",
    "\n",
    "# in the absence of an x-values list, [0, 1, 2, 3] was used instead.\n",
    "\n",
    "plt.plot([0.1, 0.2, 0.3, 0.4,0.5], [1, 2, 3, 4, 5])\n",
    "#ValueError: x and y must have same first dimensio"
   ]
  },
  {
   "cell_type": "code",
   "execution_count": 41,
   "metadata": {},
   "outputs": [
    {
     "data": {
      "text/plain": [
       "[<matplotlib.lines.Line2D at 0x24f7c946a60>]"
      ]
     },
     "execution_count": 41,
     "metadata": {},
     "output_type": "execute_result"
    },
    {
     "data": {
      "image/png": "[encoded data removed]",
      "text/plain": [
       "<Figure size 432x288 with 1 Axes>"
      ]
     },
     "metadata": {
      "needs_background": "light"
     },
     "output_type": "display_data"
    }
   ],
   "source": [
    "plt.plot(feedback,y,\"r--\")"
   ]
  },
  {
   "cell_type": "raw",
   "metadata": {},
   "source": [
    "When plotting a single array (on x-axis), you will have to use an array of the same length as the x-axis and y axis with some arbitrary value\n",
    "When plotting a single value on this plot, make sure to pass the arbitrary y value for plotting so it is plotted on the same line - see mean"
   ]
  },
  {
   "cell_type": "code",
   "execution_count": 43,
   "metadata": {},
   "outputs": [
    {
     "data": {
      "text/plain": [
       "[<matplotlib.lines.Line2D at 0x24f7c97eaf0>]"
      ]
     },
     "execution_count": 43,
     "metadata": {},
     "output_type": "execute_result"
    },
    {
     "data": {
      "image/png": "[encoded data removed]",
      "text/plain": [
       "<Figure size 432x288 with 1 Axes>"
      ]
     },
     "metadata": {
      "needs_background": "light"
     },
     "output_type": "display_data"
    }
   ],
   "source": [
    "plt.plot([mean(feedback)],[10],'bs')"
   ]
  },
  {
   "cell_type": "code",
   "execution_count": 45,
   "metadata": {},
   "outputs": [
    {
     "data": {
      "text/plain": [
       "[<matplotlib.lines.Line2D at 0x24f7c9b7ee0>]"
      ]
     },
     "execution_count": 45,
     "metadata": {},
     "output_type": "execute_result"
    },
    {
     "data": {
      "image/png": "[encoded data removed]",
      "text/plain": [
       "<Figure size 432x288 with 1 Axes>"
      ]
     },
     "metadata": {
      "needs_background": "light"
     },
     "output_type": "display_data"
    }
   ],
   "source": [
    "plt.plot(med,[10],'g^')"
   ]
  },
  {
   "cell_type": "code",
   "execution_count": 56,
   "metadata": {},
   "outputs": [
    {
     "data": {
      "text/plain": [
       "(-5.0, 20.0)"
      ]
     },
     "execution_count": 56,
     "metadata": {},
     "output_type": "execute_result"
    },
    {
     "data": {
      "image/png": "[encoded data removed]",
      "text/plain": [
       "<Figure size 432x288 with 1 Axes>"
      ]
     },
     "metadata": {
      "needs_background": "light"
     },
     "output_type": "display_data"
    }
   ],
   "source": [
    "plt.plot([0.1, 0.2, 0.3, 0.4], [1, 2, 3, 4])\n",
    "plt.plot([0.1, 0.2, 0.3, 0.4], [1, 4, 9, 16])\n",
    "plt.xlabel(\"Time (s)\")\n",
    "plt.ylabel(\"Scale (Bananas)\")\n",
    "plt.xlim(0, 1) # specifies the xlim and ylim values for the graph\n",
    "plt.ylim(-5, 20)"
   ]
  },
  {
   "cell_type": "markdown",
   "metadata": {},
   "source": []
  },
  {
   "cell_type": "markdown",
   "metadata": {},
   "source": [
    "LISTS and LOOP"
   ]
  },
  {
   "cell_type": "code",
   "execution_count": 53,
   "metadata": {},
   "outputs": [
    {
     "name": "stdout",
     "output_type": "stream",
     "text": [
      "0\n",
      "1\n",
      "2\n",
      "next loop\n",
      "2\n",
      "3\n",
      "4\n",
      "5\n",
      "6\n",
      "7\n",
      "third loop\n",
      "0\n",
      "1\n",
      "2\n",
      "fourth loop\n",
      "-1\n",
      "0\n",
      "1\n",
      "2\n"
     ]
    }
   ],
   "source": [
    "for i in range(0,3): print(i)\n",
    " #i will range from 0 to 3-1=2\n",
    "print(\"next loop\")\n",
    "for i in range(0,6): print(i+2)\n",
    "#avoid 1 and 0\n",
    "print(\"third loop\")\n",
    "for i in range(3): print(i) # default value for starting 0\n",
    "print(\"fourth loop\")\n",
    "# value starts from -1 then 0,1,2    \n",
    "for i in range(-1,3): print(i)     "
   ]
  },
  {
   "cell_type": "raw",
   "metadata": {},
   "source": [
    "operators in the same box have same precedence\n",
    "grouping of elements, ie, order in which they are executed are from left to right in the same list\n",
    "= lowest precedence\n",
    "lambda\n",
    "if-else\n",
    "or\n",
    "and\n",
    "not x\n",
    "in, not in, is, is not, <, <=, >, >=, !=, ==\n",
    "| (Bitwise OR)\n",
    "^ (Bitwise XOR)\n",
    "& (Bitwise AND)\n",
    "<<,>> (Shifts)\n",
    "+,-\n",
    "'* ,@,/,//,% (@-matrix multiplication, //-floor division)\n",
    "+x, -x, ~x (Positive, negative, bitwise NOT)\n",
    "(Exponentiation) highest precedence**"
   ]
  },
  {
   "cell_type": "code",
   "execution_count": 89,
   "metadata": {},
   "outputs": [
    {
     "name": "stdout",
     "output_type": "stream",
     "text": [
      "['book', 'pencil', 'paper', 'board', 'paper clip']\n",
      "book\n",
      "pencil\n",
      "paper\n",
      "board\n",
      "paper clip\n",
      "['book', 'eraser', 'pencil', 'paper', 'board', 'paper clip']\n",
      "['book', 'eraser', 'pencil', 'paper', 'board', 'paper clip', 'color box']\n",
      "['book', 'eraser', 'pencil', 'paper', 'board', 'paper clip', 'color box', 'color pencil', 'scale']\n"
     ]
    }
   ],
   "source": [
    "\n",
    "stationery = []\n",
    "stationery = ['book','pencil','paper','board','paper clip']\n",
    "print(stationery)\n",
    "for item in stationery:\n",
    "    print(item)\n",
    "#stationery.insert('book')# will give an error since we need to spcify the place at which the word should be inserted\n",
    "#Adding elements\n",
    "stationery.insert(1,'eraser')\n",
    "print(stationery)\n",
    "stationery.append('color box')\n",
    "print(stationery)\n",
    "stationery.extend(['color pencil','scale'])\n",
    "print(stationery)"
   ]
  },
  {
   "cell_type": "raw",
   "metadata": {},
   "source": [
    "Sorting a list\n",
    ".sort() has two arguments, key and reverse\n",
    "reverse = False is the default(ascending order) while True gives descending order\n",
    "key = None is default\n",
    "key takes a function as its value. This key function transforms each element before sorting"
   ]
  },
  {
   "cell_type": "code",
   "execution_count": 90,
   "metadata": {},
   "outputs": [
    {
     "name": "stdout",
     "output_type": "stream",
     "text": [
      "['board', 'book', 'color box', 'color pencil', 'eraser', 'paper', 'paper clip', 'pencil', 'scale']\n",
      "['scale', 'pencil', 'paper clip', 'paper', 'eraser', 'color pencil', 'color box', 'book', 'board']\n"
     ]
    }
   ],
   "source": [
    "#modifying \n",
    "stationery.sort()\n",
    "print(stationery)\n",
    "stationery.reverse()\n",
    "print(stationery)"
   ]
  },
  {
   "cell_type": "code",
   "execution_count": 91,
   "metadata": {},
   "outputs": [
    {
     "name": "stdout",
     "output_type": "stream",
     "text": [
      "1\n",
      "['scale', 'pencil', 'paper clip', 'paper', 'eraser', 'color pencil', 'color box', 'book', 'board', 'pencil']\n",
      "2\n"
     ]
    }
   ],
   "source": [
    "#get information of the list\n",
    "print(stationery.count('pencil'))\n",
    "stationery.append('pencil')\n",
    "print(stationery)\n",
    "print(stationery.count('pencil'))"
   ]
  },
  {
   "cell_type": "code",
   "execution_count": 92,
   "metadata": {},
   "outputs": [
    {
     "name": "stdout",
     "output_type": "stream",
     "text": [
      "3\n",
      "1\n",
      "10\n"
     ]
    }
   ],
   "source": [
    "print(stationery.index('paper'))\n",
    "print(stationery.index('pencil')) # first index found will be returned\n",
    "print(len(stationery))\n",
    "#min,max,sorted"
   ]
  },
  {
   "cell_type": "code",
   "execution_count": 93,
   "metadata": {},
   "outputs": [
    {
     "name": "stdout",
     "output_type": "stream",
     "text": [
      "board\n"
     ]
    }
   ],
   "source": [
    "print(min(stationery))"
   ]
  },
  {
   "cell_type": "code",
   "execution_count": 94,
   "metadata": {},
   "outputs": [
    {
     "name": "stdout",
     "output_type": "stream",
     "text": [
      "scale\n"
     ]
    }
   ],
   "source": [
    "print(max(stationery))"
   ]
  },
  {
   "cell_type": "code",
   "execution_count": 95,
   "metadata": {},
   "outputs": [
    {
     "name": "stdout",
     "output_type": "stream",
     "text": [
      "['scale', 'pencil', 'paper clip', 'paper', 'eraser', 'color pencil', 'color box', 'book', 'board', 'pencil']  \n",
      " before\n",
      "['scale', 'paper clip', 'paper', 'eraser', 'color pencil', 'color box', 'book', 'board', 'pencil']\n"
     ]
    }
   ],
   "source": [
    "# delete\n",
    "\n",
    "print(stationery,\" \\n before\")\n",
    "stationery.remove('pencil')\n",
    "print(stationery)\n",
    "#two occurences but only one of them deleted"
   ]
  },
  {
   "cell_type": "code",
   "execution_count": 97,
   "metadata": {},
   "outputs": [
    {
     "name": "stdout",
     "output_type": "stream",
     "text": [
      "['h', 'e', 'l', 'l', 'o']\n",
      "[1, 2, 3]\n",
      "[1, 2, 3]\n",
      "['a', 'b']\n"
     ]
    }
   ],
   "source": [
    "#string to list\n",
    "print(list(\"hello\"))\n",
    "#tuple to list\n",
    "print(list((1,2,3)))\n",
    "#set to list\n",
    "print(list({1,2,3,3}))\n",
    "#dictionary to list\n",
    "print(list({'a':1,'b':2})) # makes list of only key values"
   ]
  },
  {
   "cell_type": "code",
   "execution_count": 98,
   "metadata": {},
   "outputs": [
    {
     "name": "stdout",
     "output_type": "stream",
     "text": [
      "[('Geeks', 10), ('for', 12), ('Geek', 31)]\n"
     ]
    }
   ],
   "source": [
    "#approach-1\n",
    "dict = { 'Geeks': 10, 'for': 12, 'Geek': 31 }\n",
    "  \n",
    "# Converting into list of tuple\n",
    "list = [(k, v) for k, v in dict.items()]\n",
    "  \n",
    "# Printing list of tuple\n",
    "print(list)"
   ]
  },
  {
   "cell_type": "code",
   "execution_count": 5,
   "metadata": {},
   "outputs": [
    {
     "name": "stdout",
     "output_type": "stream",
     "text": [
      "[0, 1, 2, 3, 4, 5, 6]\n",
      "[0, 1, 2]\n",
      "[1, 2, 3]\n",
      "[4, 5, 6]\n"
     ]
    }
   ],
   "source": [
    "l2 = [0,1,2,3,4,5]\n",
    "l2.append(6)\n",
    "print(l2[:])\n",
    "#slice from 0 to 2\n",
    "print(l2[:3])\n",
    "#slice from 1 to 3\n",
    "print(l2[1:4])\n",
    "#slice from 4 to end\n",
    "print(l2[4:])"
   ]
  },
  {
   "cell_type": "code",
   "execution_count": 7,
   "metadata": {},
   "outputs": [
    {
     "data": {
      "text/plain": [
       "[0, 1, 2, 3, 4, 5, 6]"
      ]
     },
     "execution_count": 7,
     "metadata": {},
     "output_type": "execute_result"
    }
   ],
   "source": [
    "l1=l2\n",
    "l1"
   ]
  },
  {
   "cell_type": "code",
   "execution_count": null,
   "metadata": {},
   "outputs": [],
   "source": []
  },
  {
   "cell_type": "code",
   "execution_count": 12,
   "metadata": {},
   "outputs": [
    {
     "name": "stdout",
     "output_type": "stream",
     "text": [
      "[1, 2, 3, 4, 5, 6, 7, 8]\n"
     ]
    }
   ],
   "source": [
    "l = [[1,2,3],[4,5,6,7,8]]\n",
    "x = []\n",
    "for i in range(len(l)):\n",
    "    for num in l[i]:\n",
    "        x.append(num)\n",
    "print(x)\n",
    "\n",
    "#iterable becoz consists of only lists\n",
    "#but if l = [0,[1,2,3,4],[5,6,7,8]]\n",
    "# the above code will cause error\n"
   ]
  },
  {
   "cell_type": "code",
   "execution_count": null,
   "metadata": {},
   "outputs": [
    {
     "name": "stdout",
     "output_type": "stream",
     "text": [
      "1\n",
      "2\n",
      "3\n",
      "4\n",
      "5\n",
      "6\n",
      "7\n",
      "8\n",
      "9\n",
      "10\n",
      "Do you want to close the shop? (Y/n): n\n",
      "11\n",
      "12\n",
      "13\n",
      "14\n",
      "15\n",
      "16\n",
      "17\n",
      "18\n",
      "19\n",
      "20\n",
      "Do you want to close the shop? (Y/n): n\n",
      "21\n",
      "22\n",
      "23\n",
      "24\n",
      "25\n",
      "26\n",
      "27\n",
      "28\n",
      "29\n",
      "30\n",
      "Do you want to close the shop? (Y/n): n\n",
      "31\n",
      "32\n",
      "33\n",
      "34\n",
      "35\n",
      "36\n",
      "37\n",
      "38\n",
      "39\n",
      "40\n",
      "Do you want to close the shop? (Y/n): y\n",
      "41\n",
      "42\n",
      "43\n",
      "44\n",
      "45\n",
      "46\n",
      "47\n",
      "48\n",
      "49\n",
      "50\n"
     ]
    }
   ],
   "source": [
    "# cafe token number given on one end - pick up order on the other end \n",
    "number = 1\n",
    "flag = True\n",
    "while(flag):\n",
    "    for i in range(10):\n",
    "        print(number)\n",
    "        number += 1\n",
    "    if(input(\"Do you want to close the shop? (Y/n): \") == 'Y'): flag = False"
   ]
  }
 ],
 "metadata": {
  "kernelspec": {
   "display_name": "Python 3",
   "language": "python",
   "name": "python3"
  },
  "language_info": {
   "codemirror_mode": {
    "name": "ipython",
    "version": 3
   },
   "file_extension": ".py",
   "mimetype": "text/x-python",
   "name": "python",
   "nbconvert_exporter": "python",
   "pygments_lexer": "ipython3",
   "version": "3.8.5"
  }
 },
 "nbformat": 4,
 "nbformat_minor": 4
}
